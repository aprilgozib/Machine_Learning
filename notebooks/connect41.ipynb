{
 "cells": [
  {
   "cell_type": "markdown",
   "id": "7950ea86-b743-48c4-bc8a-37c43252fc46",
   "metadata": {},
   "source": [
    "# 셋업 & 데이터 적재"
   ]
  },
  {
   "cell_type": "code",
   "execution_count": 72,
   "id": "358a903b-fe94-44d2-af2d-3067e4a216c7",
   "metadata": {},
   "outputs": [],
   "source": [
    "# imports\n",
    "import pandas as pd, numpy as np\n",
    "from sklearn.model_selection import train_test_split, StratifiedKFold, cross_val_score\n",
    "from sklearn.dummy import DummyClassifier\n",
    "from sklearn.metrics import accuracy_score, f1_score, classification_report, ConfusionMatrixDisplay\n",
    "from sklearn.compose import ColumnTransformer\n",
    "from sklearn.preprocessing import OneHotEncoder, StandardScaler\n",
    "from sklearn.pipeline import Pipeline\n",
    "from sklearn.metrics import make_scorer\n",
    "from sklearn.model_selection import GridSearchCV\n"
   ]
  },
  {
   "cell_type": "code",
   "execution_count": 11,
   "id": "07f8749b-9c7e-478c-85f2-6f8c51e694e4",
   "metadata": {},
   "outputs": [
    {
     "name": "stdout",
     "output_type": "stream",
     "text": [
      "data size: (67557, 43)\n"
     ]
    },
    {
     "data": {
      "text/html": [
       "<div>\n",
       "<style scoped>\n",
       "    .dataframe tbody tr th:only-of-type {\n",
       "        vertical-align: middle;\n",
       "    }\n",
       "\n",
       "    .dataframe tbody tr th {\n",
       "        vertical-align: top;\n",
       "    }\n",
       "\n",
       "    .dataframe thead th {\n",
       "        text-align: right;\n",
       "    }\n",
       "</style>\n",
       "<table border=\"1\" class=\"dataframe\">\n",
       "  <thead>\n",
       "    <tr style=\"text-align: right;\">\n",
       "      <th></th>\n",
       "      <th>a1</th>\n",
       "      <th>a2</th>\n",
       "      <th>a3</th>\n",
       "      <th>a4</th>\n",
       "      <th>a5</th>\n",
       "      <th>a6</th>\n",
       "      <th>b1</th>\n",
       "      <th>b2</th>\n",
       "      <th>b3</th>\n",
       "      <th>b4</th>\n",
       "      <th>...</th>\n",
       "      <th>f4</th>\n",
       "      <th>f5</th>\n",
       "      <th>f6</th>\n",
       "      <th>g1</th>\n",
       "      <th>g2</th>\n",
       "      <th>g3</th>\n",
       "      <th>g4</th>\n",
       "      <th>g5</th>\n",
       "      <th>g6</th>\n",
       "      <th>target</th>\n",
       "    </tr>\n",
       "  </thead>\n",
       "  <tbody>\n",
       "    <tr>\n",
       "      <th>0</th>\n",
       "      <td>0</td>\n",
       "      <td>0</td>\n",
       "      <td>0</td>\n",
       "      <td>0</td>\n",
       "      <td>0</td>\n",
       "      <td>0</td>\n",
       "      <td>0</td>\n",
       "      <td>0</td>\n",
       "      <td>0</td>\n",
       "      <td>0</td>\n",
       "      <td>...</td>\n",
       "      <td>0</td>\n",
       "      <td>0</td>\n",
       "      <td>0</td>\n",
       "      <td>0</td>\n",
       "      <td>0</td>\n",
       "      <td>0</td>\n",
       "      <td>0</td>\n",
       "      <td>0</td>\n",
       "      <td>0</td>\n",
       "      <td>2</td>\n",
       "    </tr>\n",
       "    <tr>\n",
       "      <th>1</th>\n",
       "      <td>0</td>\n",
       "      <td>0</td>\n",
       "      <td>0</td>\n",
       "      <td>0</td>\n",
       "      <td>0</td>\n",
       "      <td>0</td>\n",
       "      <td>0</td>\n",
       "      <td>0</td>\n",
       "      <td>0</td>\n",
       "      <td>0</td>\n",
       "      <td>...</td>\n",
       "      <td>0</td>\n",
       "      <td>0</td>\n",
       "      <td>0</td>\n",
       "      <td>0</td>\n",
       "      <td>0</td>\n",
       "      <td>0</td>\n",
       "      <td>0</td>\n",
       "      <td>0</td>\n",
       "      <td>0</td>\n",
       "      <td>2</td>\n",
       "    </tr>\n",
       "    <tr>\n",
       "      <th>2</th>\n",
       "      <td>0</td>\n",
       "      <td>0</td>\n",
       "      <td>0</td>\n",
       "      <td>0</td>\n",
       "      <td>0</td>\n",
       "      <td>0</td>\n",
       "      <td>1</td>\n",
       "      <td>0</td>\n",
       "      <td>0</td>\n",
       "      <td>0</td>\n",
       "      <td>...</td>\n",
       "      <td>0</td>\n",
       "      <td>0</td>\n",
       "      <td>0</td>\n",
       "      <td>0</td>\n",
       "      <td>0</td>\n",
       "      <td>0</td>\n",
       "      <td>0</td>\n",
       "      <td>0</td>\n",
       "      <td>0</td>\n",
       "      <td>2</td>\n",
       "    </tr>\n",
       "    <tr>\n",
       "      <th>3</th>\n",
       "      <td>0</td>\n",
       "      <td>0</td>\n",
       "      <td>0</td>\n",
       "      <td>0</td>\n",
       "      <td>0</td>\n",
       "      <td>0</td>\n",
       "      <td>0</td>\n",
       "      <td>0</td>\n",
       "      <td>0</td>\n",
       "      <td>0</td>\n",
       "      <td>...</td>\n",
       "      <td>0</td>\n",
       "      <td>0</td>\n",
       "      <td>0</td>\n",
       "      <td>0</td>\n",
       "      <td>0</td>\n",
       "      <td>0</td>\n",
       "      <td>0</td>\n",
       "      <td>0</td>\n",
       "      <td>0</td>\n",
       "      <td>2</td>\n",
       "    </tr>\n",
       "    <tr>\n",
       "      <th>4</th>\n",
       "      <td>1</td>\n",
       "      <td>0</td>\n",
       "      <td>0</td>\n",
       "      <td>0</td>\n",
       "      <td>0</td>\n",
       "      <td>0</td>\n",
       "      <td>0</td>\n",
       "      <td>0</td>\n",
       "      <td>0</td>\n",
       "      <td>0</td>\n",
       "      <td>...</td>\n",
       "      <td>0</td>\n",
       "      <td>0</td>\n",
       "      <td>0</td>\n",
       "      <td>0</td>\n",
       "      <td>0</td>\n",
       "      <td>0</td>\n",
       "      <td>0</td>\n",
       "      <td>0</td>\n",
       "      <td>0</td>\n",
       "      <td>2</td>\n",
       "    </tr>\n",
       "  </tbody>\n",
       "</table>\n",
       "<p>5 rows × 43 columns</p>\n",
       "</div>"
      ],
      "text/plain": [
       "   a1  a2  a3  a4  a5  a6  b1  b2  b3  b4  ...  f4  f5  f6  g1  g2  g3  g4  \\\n",
       "0   0   0   0   0   0   0   0   0   0   0  ...   0   0   0   0   0   0   0   \n",
       "1   0   0   0   0   0   0   0   0   0   0  ...   0   0   0   0   0   0   0   \n",
       "2   0   0   0   0   0   0   1   0   0   0  ...   0   0   0   0   0   0   0   \n",
       "3   0   0   0   0   0   0   0   0   0   0  ...   0   0   0   0   0   0   0   \n",
       "4   1   0   0   0   0   0   0   0   0   0  ...   0   0   0   0   0   0   0   \n",
       "\n",
       "   g5  g6  target  \n",
       "0   0   0       2  \n",
       "1   0   0       2  \n",
       "2   0   0       2  \n",
       "3   0   0       2  \n",
       "4   0   0       2  \n",
       "\n",
       "[5 rows x 43 columns]"
      ]
     },
     "execution_count": 11,
     "metadata": {},
     "output_type": "execute_result"
    }
   ],
   "source": [
    "# load\n",
    "df = pd.read_csv('../data/raw/connect-4.csv')\n",
    "print(\"data size:\", df.shape)\n",
    "df.head()"
   ]
  },
  {
   "cell_type": "markdown",
   "id": "c4f8619a-c12d-471b-8e4b-96d0f6d6a67d",
   "metadata": {},
   "source": [
    "# 스키마 확인 & 기본 EDA"
   ]
  },
  {
   "cell_type": "code",
   "execution_count": 22,
   "id": "d0c8d3a9-2503-4075-abad-5bf0eb434c20",
   "metadata": {},
   "outputs": [
    {
     "name": "stdout",
     "output_type": "stream",
     "text": [
      "a1        int64\n",
      "a2        int64\n",
      "a3        int64\n",
      "a4        int64\n",
      "a5        int64\n",
      "a6        int64\n",
      "b1        int64\n",
      "b2        int64\n",
      "b3        int64\n",
      "b4        int64\n",
      "b5        int64\n",
      "b6        int64\n",
      "c1        int64\n",
      "c2        int64\n",
      "c3        int64\n",
      "c4        int64\n",
      "c5        int64\n",
      "c6        int64\n",
      "d1        int64\n",
      "d2        int64\n",
      "d3        int64\n",
      "d4        int64\n",
      "d5        int64\n",
      "d6        int64\n",
      "e1        int64\n",
      "e2        int64\n",
      "e3        int64\n",
      "e4        int64\n",
      "e5        int64\n",
      "e6        int64\n",
      "f1        int64\n",
      "f2        int64\n",
      "f3        int64\n",
      "f4        int64\n",
      "f5        int64\n",
      "f6        int64\n",
      "g1        int64\n",
      "g2        int64\n",
      "g3        int64\n",
      "g4        int64\n",
      "g5        int64\n",
      "g6        int64\n",
      "target    int64\n",
      "dtype: object\n",
      "target\n",
      "0     6449\n",
      "1    16635\n",
      "2    44473\n",
      "Name: count, dtype: int64\n"
     ]
    }
   ],
   "source": [
    "# schema / value check\n",
    "print(df.dtypes)\n",
    "print(df['target'].value_counts().sort_index())\n",
    "# 모든 보드 칸이 {0,1,2}인지, target이 {0,1,2}인지 확인\n",
    "board_cols = [c for c in df.columns if c != 'target']\n",
    "for c in board_cols: \n",
    "    assert set(df[c].unique()).issubset({0,1,2}), f\"Unexpected in {c}\"\n",
    "assert set(df['target'].unique()).issubset({0,1,2})"
   ]
  },
  {
   "cell_type": "markdown",
   "id": "48f8cd78-c6f1-4c60-a515-63156e7912e0",
   "metadata": {},
   "source": [
    "# 결측/중복/이상치 처리"
   ]
  },
  {
   "cell_type": "code",
   "execution_count": 27,
   "id": "439887bc-09da-4fff-8ce5-b938c1b2f08f",
   "metadata": {},
   "outputs": [
    {
     "name": "stdout",
     "output_type": "stream",
     "text": [
      "0\n"
     ]
    }
   ],
   "source": [
    "# missing/duplicate\n",
    "print(df.isna().sum().sum())\n",
    "df = df.drop_duplicates()"
   ]
  },
  {
   "cell_type": "markdown",
   "id": "427cbf3b-2ee5-43e7-ab52-7cca1eee8acd",
   "metadata": {},
   "source": [
    "# 베이스라인 세우기"
   ]
  },
  {
   "cell_type": "code",
   "execution_count": 41,
   "id": "1f51f74b-ab16-4922-90da-b434730455fd",
   "metadata": {},
   "outputs": [
    {
     "name": "stdout",
     "output_type": "stream",
     "text": [
      "Dummy Acc: 0.6583185316755477\n",
      "Dummy macro-F1: 0.2646530281933188\n"
     ]
    }
   ],
   "source": [
    "# train/test split (stratify)\n",
    "X, y = df[board_cols], df['target']\n",
    "X_tr, X_te, y_tr, y_te = train_test_split(X, y, test_size=0.25, random_state=42, stratify=y)\n",
    "\n",
    "# Dummy baseline (most_frequent)\n",
    "dummy = DummyClassifier(strategy='most_frequent')\n",
    "dummy.fit(X_tr, y_tr)\n",
    "y_pred = dummy.predict(X_te)\n",
    "print('Dummy Acc:', accuracy_score(y_te, y_pred))\n",
    "print('Dummy macro-F1:', f1_score(y_te, y_pred, average='macro'))"
   ]
  },
  {
   "cell_type": "markdown",
   "id": "5e9dd706-3b08-409c-a65b-a5ebd9d941c5",
   "metadata": {},
   "source": [
    "# 인코딩 전략 결정\n",
    "### 1. 원-핫 인코딩 (보드 칸을 범주형으로 처리)\n",
    "### 2. 숫자 0/1/2를 그대로 사용 (순서형 가정)"
   ]
  },
  {
   "cell_type": "code",
   "execution_count": 53,
   "id": "d52430fe-c5e7-41e6-b2b6-41a6eea63b2a",
   "metadata": {},
   "outputs": [],
   "source": [
    "# two preprocessors\n",
    "cat_cols = board_cols   # 전부 범주 취급\n",
    "prep_onehot = ColumnTransformer([('cat', OneHotEncoder(handle_unknown='ignore'), cat_cols)], remainder='drop')\n",
    "\n",
    "# 숫자 그대로: 전처리 없음(또는 StandardScaler로도 비교해볼 수 있음)\n",
    "prep_numeric = 'passthrough'\n"
   ]
  },
  {
   "cell_type": "markdown",
   "id": "2201738b-5df1-4c17-933d-fa6d74753f75",
   "metadata": {},
   "source": [
    "# 모델 후보 구성\n",
    "## LogisticRegression (multi_class='multinomial') – 빠른 baseline, 해석 용이\n",
    "## DecisionTreeClassifier – 규칙 기반, 빠르고 직관적\n",
    "## RandomForestClassifier – 강력한 앙상블(추천)\n",
    "## SVM(RBF) – 성능 좋지만 느릴 수 있음(부분 샘플로 시도)"
   ]
  },
  {
   "cell_type": "code",
   "execution_count": 56,
   "id": "fede2edb-bc97-4200-b35c-9bb32b66d7ef",
   "metadata": {},
   "outputs": [],
   "source": [
    "from sklearn.linear_model import LogisticRegression\n",
    "from sklearn.tree import DecisionTreeClassifier\n",
    "from sklearn.ensemble import RandomForestClassifier\n",
    "from sklearn.svm import SVC\n"
   ]
  },
  {
   "cell_type": "code",
   "execution_count": 62,
   "id": "bdd16114-6f13-4561-9fb3-b9fdedf734ea",
   "metadata": {},
   "outputs": [],
   "source": [
    "models = {\n",
    "    \"LogReg(onehot)\": Pipeline([('prep', prep_onehot),\n",
    "                                ('clf', LogisticRegression(max_iter=1000, multi_class='multinomial'))]),\n",
    "\n",
    "    \"DecisionTree(onehot)\": Pipeline([('prep', prep_onehot),\n",
    "                                      ('clf', DecisionTreeClassifier(random_state=42))]),\n",
    "\n",
    "    \"RandomForest(onehot)\": Pipeline([('prep', prep_onehot),\n",
    "                                      ('clf', RandomForestClassifier(n_estimators=200, random_state=42))]),\n",
    "\n",
    "    \"LogReg(numeric)\": Pipeline([('prep', prep_numeric),\n",
    "                                 ('clf', LogisticRegression(max_iter=1000, multi_class='multinomial'))]),\n",
    "}"
   ]
  },
  {
   "cell_type": "markdown",
   "id": "5522c459-9e3c-44f3-9df3-39075c9d1ba3",
   "metadata": {},
   "source": [
    "# 교차검증으로 1차 성능 비교 (Accuracy + Macro-F1)"
   ]
  },
  {
   "cell_type": "code",
   "execution_count": 69,
   "id": "d877c062-0306-421f-a0a0-7605ba2ccd26",
   "metadata": {},
   "outputs": [
    {
     "data": {
      "text/html": [
       "<div>\n",
       "<style scoped>\n",
       "    .dataframe tbody tr th:only-of-type {\n",
       "        vertical-align: middle;\n",
       "    }\n",
       "\n",
       "    .dataframe tbody tr th {\n",
       "        vertical-align: top;\n",
       "    }\n",
       "\n",
       "    .dataframe thead th {\n",
       "        text-align: right;\n",
       "    }\n",
       "</style>\n",
       "<table border=\"1\" class=\"dataframe\">\n",
       "  <thead>\n",
       "    <tr style=\"text-align: right;\">\n",
       "      <th></th>\n",
       "      <th>Model</th>\n",
       "      <th>CV Accuracy</th>\n",
       "      <th>CV Macro-F1</th>\n",
       "    </tr>\n",
       "  </thead>\n",
       "  <tbody>\n",
       "    <tr>\n",
       "      <th>2</th>\n",
       "      <td>RandomForest(onehot)</td>\n",
       "      <td>0.831091</td>\n",
       "      <td>0.630179</td>\n",
       "    </tr>\n",
       "    <tr>\n",
       "      <th>1</th>\n",
       "      <td>DecisionTree(onehot)</td>\n",
       "      <td>0.762497</td>\n",
       "      <td>0.610243</td>\n",
       "    </tr>\n",
       "    <tr>\n",
       "      <th>0</th>\n",
       "      <td>LogReg(onehot)</td>\n",
       "      <td>0.757242</td>\n",
       "      <td>0.500866</td>\n",
       "    </tr>\n",
       "    <tr>\n",
       "      <th>3</th>\n",
       "      <td>LogReg(numeric)</td>\n",
       "      <td>0.660938</td>\n",
       "      <td>0.283627</td>\n",
       "    </tr>\n",
       "  </tbody>\n",
       "</table>\n",
       "</div>"
      ],
      "text/plain": [
       "                  Model  CV Accuracy  CV Macro-F1\n",
       "2  RandomForest(onehot)     0.831091     0.630179\n",
       "1  DecisionTree(onehot)     0.762497     0.610243\n",
       "0        LogReg(onehot)     0.757242     0.500866\n",
       "3       LogReg(numeric)     0.660938     0.283627"
      ]
     },
     "execution_count": 69,
     "metadata": {},
     "output_type": "execute_result"
    }
   ],
   "source": [
    "skf = StratifiedKFold(n_splits=5, shuffle=True, random_state=42)\n",
    "macro_f1 = make_scorer(f1_score, average='macro')\n",
    "\n",
    "cv_table = []\n",
    "for name, pipe in models.items():\n",
    "    acc = cross_val_score(pipe, X, y, scoring='accuracy', cv=skf).mean()\n",
    "    f1m = cross_val_score(pipe, X, y, scoring=macro_f1, cv=skf).mean()\n",
    "    cv_table.append((name, acc, f1m))\n",
    "pd.DataFrame(cv_table, columns=[\"Model\",\"CV Accuracy\",\"CV Macro-F1\"]).sort_values(\"CV Macro-F1\", ascending=False)\n"
   ]
  },
  {
   "cell_type": "markdown",
   "id": "85fe899b-b102-4bda-bb5a-b0e3376eb16d",
   "metadata": {},
   "source": [
    "# 하이퍼파라미터 탐색"
   ]
  },
  {
   "cell_type": "code",
   "execution_count": 74,
   "id": "b997b055-75b0-4e14-8b7b-73d3a2497ca9",
   "metadata": {},
   "outputs": [
    {
     "name": "stdout",
     "output_type": "stream",
     "text": [
      "RF best: {'clf__max_depth': None, 'clf__min_samples_leaf': 1, 'clf__n_estimators': 200} 0.6159210171171282\n",
      "LogReg best: {'clf__C': 2.0} 0.5032400769658105\n"
     ]
    }
   ],
   "source": [
    "# RandomForest 예: 깊이/리프/트리개수\n",
    "rf_grid = {\n",
    "    'clf__n_estimators': [200, 400],\n",
    "    'clf__max_depth': [None, 12, 20],\n",
    "    'clf__min_samples_leaf': [1, 3, 5]\n",
    "}\n",
    "rf_pipe = Pipeline([('prep', prep_onehot), ('clf', RandomForestClassifier(random_state=42))])\n",
    "rf_gs = GridSearchCV(rf_pipe, rf_grid, scoring=macro_f1, cv=skf, n_jobs=-1)\n",
    "rf_gs.fit(X_tr, y_tr)\n",
    "print(\"RF best:\", rf_gs.best_params_, rf_gs.best_score_)\n",
    "\n",
    "# LogisticRegression 예: C 규제 강도\n",
    "log_grid = {'clf__C': [0.5, 1.0, 2.0]}\n",
    "log_pipe = Pipeline([('prep', prep_onehot), ('clf', LogisticRegression(max_iter=1000, multi_class='multinomial'))])\n",
    "log_gs = GridSearchCV(log_pipe, log_grid, scoring=macro_f1, cv=skf, n_jobs=-1)\n",
    "log_gs.fit(X_tr, y_tr)\n",
    "print(\"LogReg best:\", log_gs.best_params_, log_gs.best_score_)\n"
   ]
  },
  {
   "cell_type": "markdown",
   "id": "b48c43e8-ad10-43c3-917d-85752449b5a4",
   "metadata": {},
   "source": [
    "# 테스트 성능 보고 + 혼동행렬/리포트"
   ]
  },
  {
   "cell_type": "code",
   "execution_count": 77,
   "id": "40cb3b04-46a2-4c5c-a3bf-36cbffb3a1a4",
   "metadata": {},
   "outputs": [
    {
     "name": "stdout",
     "output_type": "stream",
     "text": [
      "Test Accuracy: 0.8328004736530491\n",
      "Test Macro-F1: 0.6325574911543822\n",
      "              precision    recall  f1-score   support\n",
      "\n",
      "           0     0.5861    0.1309    0.2140      1612\n",
      "           1     0.8277    0.7439    0.7836      4159\n",
      "           2     0.8412    0.9678    0.9001     11119\n",
      "\n",
      "    accuracy                         0.8328     16890\n",
      "   macro avg     0.7517    0.6142    0.6326     16890\n",
      "weighted avg     0.8136    0.8328    0.8059     16890\n",
      "\n"
     ]
    },
    {
     "ename": "NameError",
     "evalue": "name 'plt' is not defined",
     "output_type": "error",
     "traceback": [
      "\u001b[0;31m---------------------------------------------------------------------------\u001b[0m",
      "\u001b[0;31mNameError\u001b[0m                                 Traceback (most recent call last)",
      "Cell \u001b[0;32mIn[77], line 10\u001b[0m\n\u001b[1;32m      7\u001b[0m \u001b[38;5;28mprint\u001b[39m(classification_report(y_te, y_pred, digits\u001b[38;5;241m=\u001b[39m\u001b[38;5;241m4\u001b[39m))\n\u001b[1;32m      9\u001b[0m ConfusionMatrixDisplay\u001b[38;5;241m.\u001b[39mfrom_predictions(y_te, y_pred)\n\u001b[0;32m---> 10\u001b[0m plt\u001b[38;5;241m.\u001b[39mtitle(\u001b[38;5;124m\"\u001b[39m\u001b[38;5;124mConfusion Matrix (Connect-4)\u001b[39m\u001b[38;5;124m\"\u001b[39m)\n\u001b[1;32m     11\u001b[0m plt\u001b[38;5;241m.\u001b[39mshow()\n",
      "\u001b[0;31mNameError\u001b[0m: name 'plt' is not defined"
     ]
    },
    {
     "data": {
      "image/png": "[encoded data removed]",
      "text/plain": [
       "<Figure size 640x480 with 2 Axes>"
      ]
     },
     "metadata": {},
     "output_type": "display_data"
    }
   ],
   "source": [
    "# 가장 좋은 모델 선택 (여기서는 rf_gs, log_gs 중 높은 CV score)\n",
    "best = rf_gs if rf_gs.best_score_ >= log_gs.best_score_ else log_gs\n",
    "y_pred = best.predict(X_te)\n",
    "\n",
    "print(\"Test Accuracy:\", accuracy_score(y_te, y_pred))\n",
    "print(\"Test Macro-F1:\", f1_score(y_te, y_pred, average='macro'))\n",
    "print(classification_report(y_te, y_pred, digits=4))\n",
    "\n",
    "ConfusionMatrixDisplay.from_predictions(y_te, y_pred)\n",
    "plt.title(\"Confusion Matrix (Connect-4)\")\n",
    "plt.show()\n"
   ]
  },
  {
   "cell_type": "code",
   "execution_count": null,
   "id": "845b773f-7d3d-48ff-b909-2449dc1da0c1",
   "metadata": {},
   "outputs": [],
   "source": []
  }
 ],
 "metadata": {
  "kernelspec": {
   "display_name": "Python 3 (ipykernel)",
   "language": "python",
   "name": "python3"
  },
  "language_info": {
   "codemirror_mode": {
    "name": "ipython",
    "version": 3
   },
   "file_extension": ".py",
   "mimetype": "text/x-python",
   "name": "python",
   "nbconvert_exporter": "python",
   "pygments_lexer": "ipython3",
   "version": "3.12.4"
  }
 },
 "nbformat": 4,
 "nbformat_minor": 5
}
