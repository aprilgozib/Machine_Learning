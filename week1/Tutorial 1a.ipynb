{
 "cells": [
  {
   "cell_type": "markdown",
   "id": "7829b3b6",
   "metadata": {},
   "source": [
    "## Week 1 - Introduction to pandas"
   ]
  },
  {
   "cell_type": "markdown",
   "id": "4e91468d",
   "metadata": {},
   "source": [
    "In your virtual environment, install the pandas package for working with data frames: \n",
    "`conda install pandas`\n",
    "\n",
    "Pandas is a Python library used for manipulating 1 and 2 dimensional structured (.csv, .tsv, ,txt, .xlsx) or semi-structured (.json) data. \n",
    "\n",
    "Here are some of the useful resources for pandas: \n",
    "<ul>\n",
    "    <li><a href=https://pandas.pydata.org/docs/user_guide/10min.html>10 minutes to pandas</a></li>\n",
    "    <li><a href=http://pandas.pydata.org/pandas-docs/stable/tutorials.html>Pandas cookbook</a></li>\n",
    "    <li><a href=https://chrisalbon.com/code/python/data_wrangling/pandas_dataframe_importing_csv/ >Chris Albon's pandas dataframe importing csv</a></li>\n",
    "    \n",
    "In this tutorial, we learn how to work with data using pandas dataframes. "
   ]
  },
  {
   "cell_type": "markdown",
   "id": "8c29a4ea",
   "metadata": {},
   "source": [
    "#### Import Packages"
   ]
  },
  {
   "cell_type": "code",
   "execution_count": 1,
   "id": "bf4924e1",
   "metadata": {},
   "outputs": [],
   "source": [
    "#Import package pandas for data analysis\n",
    "import pandas as pd\n",
    "\n",
    "# Import package numpy for numeric computing\n",
    "import numpy as np"
   ]
  },
  {
   "cell_type": "code",
   "execution_count": 3,
   "id": "fee88400",
   "metadata": {},
   "outputs": [],
   "source": [
    "# Reading from a csv file, into a data frame\n",
    "df = pd.read_csv('MotorInsuranceFraudClaimABTFull.csv')"
   ]
  },
  {
   "cell_type": "markdown",
   "id": "8598951e",
   "metadata": {},
   "source": [
    "- Show data frame first few rows; default n = 5; otherwise specify df.head(n=2) \n",
    "- The rows are indexed starting from 0\n",
    "- NaN means that the feature value is missing\n",
    "- Find more description at https://pandas.pydata.org/docs/reference/api/pandas.DataFrame.head.html"
   ]
  },
  {
   "cell_type": "code",
   "execution_count": 6,
   "id": "64442593",
   "metadata": {},
   "outputs": [
    {
     "data": {
      "text/html": [
       "<div>\n",
       "<style scoped>\n",
       "    .dataframe tbody tr th:only-of-type {\n",
       "        vertical-align: middle;\n",
       "    }\n",
       "\n",
       "    .dataframe tbody tr th {\n",
       "        vertical-align: top;\n",
       "    }\n",
       "\n",
       "    .dataframe thead th {\n",
       "        text-align: right;\n",
       "    }\n",
       "</style>\n",
       "<table border=\"1\" class=\"dataframe\">\n",
       "  <thead>\n",
       "    <tr style=\"text-align: right;\">\n",
       "      <th></th>\n",
       "      <th>ID</th>\n",
       "      <th>Insurance Type</th>\n",
       "      <th>Income of Policy Holder</th>\n",
       "      <th>Marital Status</th>\n",
       "      <th>Num Claimants</th>\n",
       "      <th>Injury Type</th>\n",
       "      <th>Overnight Hospital Stay</th>\n",
       "      <th>Claim Amount</th>\n",
       "      <th>Total Claimed</th>\n",
       "      <th>Num Claims</th>\n",
       "      <th>Num Soft Tissue</th>\n",
       "      <th>% Soft Tissue</th>\n",
       "      <th>Claim Amount Received</th>\n",
       "      <th>Fraud Flag</th>\n",
       "    </tr>\n",
       "  </thead>\n",
       "  <tbody>\n",
       "    <tr>\n",
       "      <th>0</th>\n",
       "      <td>1</td>\n",
       "      <td>CI</td>\n",
       "      <td>0</td>\n",
       "      <td>NaN</td>\n",
       "      <td>2</td>\n",
       "      <td>Soft Tissue</td>\n",
       "      <td>No</td>\n",
       "      <td>1625</td>\n",
       "      <td>3250</td>\n",
       "      <td>2</td>\n",
       "      <td>2.0</td>\n",
       "      <td>1.0</td>\n",
       "      <td>0</td>\n",
       "      <td>1</td>\n",
       "    </tr>\n",
       "    <tr>\n",
       "      <th>1</th>\n",
       "      <td>2</td>\n",
       "      <td>CI</td>\n",
       "      <td>0</td>\n",
       "      <td>NaN</td>\n",
       "      <td>2</td>\n",
       "      <td>Back</td>\n",
       "      <td>Yes</td>\n",
       "      <td>15028</td>\n",
       "      <td>60112</td>\n",
       "      <td>1</td>\n",
       "      <td>0.0</td>\n",
       "      <td>0.0</td>\n",
       "      <td>15028</td>\n",
       "      <td>0</td>\n",
       "    </tr>\n",
       "    <tr>\n",
       "      <th>2</th>\n",
       "      <td>3</td>\n",
       "      <td>CI</td>\n",
       "      <td>54613</td>\n",
       "      <td>Married</td>\n",
       "      <td>1</td>\n",
       "      <td>Broken Limb</td>\n",
       "      <td>No</td>\n",
       "      <td>-99999</td>\n",
       "      <td>0</td>\n",
       "      <td>0</td>\n",
       "      <td>0.0</td>\n",
       "      <td>0.0</td>\n",
       "      <td>572</td>\n",
       "      <td>0</td>\n",
       "    </tr>\n",
       "    <tr>\n",
       "      <th>3</th>\n",
       "      <td>4</td>\n",
       "      <td>CI</td>\n",
       "      <td>0</td>\n",
       "      <td>NaN</td>\n",
       "      <td>3</td>\n",
       "      <td>Serious</td>\n",
       "      <td>Yes</td>\n",
       "      <td>270200</td>\n",
       "      <td>0</td>\n",
       "      <td>0</td>\n",
       "      <td>0.0</td>\n",
       "      <td>0.0</td>\n",
       "      <td>270200</td>\n",
       "      <td>0</td>\n",
       "    </tr>\n",
       "    <tr>\n",
       "      <th>4</th>\n",
       "      <td>5</td>\n",
       "      <td>CI</td>\n",
       "      <td>0</td>\n",
       "      <td>NaN</td>\n",
       "      <td>4</td>\n",
       "      <td>Soft Tissue</td>\n",
       "      <td>No</td>\n",
       "      <td>8869</td>\n",
       "      <td>0</td>\n",
       "      <td>0</td>\n",
       "      <td>0.0</td>\n",
       "      <td>0.0</td>\n",
       "      <td>0</td>\n",
       "      <td>1</td>\n",
       "    </tr>\n",
       "  </tbody>\n",
       "</table>\n",
       "</div>"
      ],
      "text/plain": [
       "   ID Insurance Type   Income of Policy Holder Marital Status  Num Claimants  \\\n",
       "0   1              CI                        0            NaN              2   \n",
       "1   2              CI                        0            NaN              2   \n",
       "2   3              CI                    54613        Married              1   \n",
       "3   4              CI                        0            NaN              3   \n",
       "4   5              CI                        0            NaN              4   \n",
       "\n",
       "   Injury Type Overnight Hospital Stay  Claim Amount  Total Claimed  \\\n",
       "0  Soft Tissue                      No          1625           3250   \n",
       "1         Back                     Yes         15028          60112   \n",
       "2  Broken Limb                      No        -99999              0   \n",
       "3      Serious                     Yes        270200              0   \n",
       "4  Soft Tissue                      No          8869              0   \n",
       "\n",
       "   Num Claims  Num Soft Tissue  % Soft Tissue  Claim Amount Received  \\\n",
       "0           2              2.0            1.0                      0   \n",
       "1           1              0.0            0.0                  15028   \n",
       "2           0              0.0            0.0                    572   \n",
       "3           0              0.0            0.0                 270200   \n",
       "4           0              0.0            0.0                      0   \n",
       "\n",
       "   Fraud Flag  \n",
       "0           1  \n",
       "1           0  \n",
       "2           0  \n",
       "3           0  \n",
       "4           1  "
      ]
     },
     "execution_count": 6,
     "metadata": {},
     "output_type": "execute_result"
    }
   ],
   "source": [
    "df.head()"
   ]
  },
  {
   "cell_type": "markdown",
   "id": "e235053d",
   "metadata": {},
   "source": [
    "Each column of the dataframe is a pandas `Series`. The dataset contains both numerical and categorical data. Numerical values take continuous values, for example `Income of Policy Holders`. Categorical values can have a finite number of values, for example `Injury-Type`. "
   ]
  },
  {
   "cell_type": "code",
   "execution_count": 9,
   "id": "e29d1144",
   "metadata": {},
   "outputs": [
    {
     "data": {
      "text/plain": [
       "(500, 14)"
      ]
     },
     "execution_count": 9,
     "metadata": {},
     "output_type": "execute_result"
    }
   ],
   "source": [
    "# Check how many rows and columns this dataframe has\n",
    "df.shape"
   ]
  },
  {
   "cell_type": "code",
   "execution_count": 11,
   "id": "428b798d",
   "metadata": {},
   "outputs": [
    {
     "data": {
      "text/plain": [
       "500"
      ]
     },
     "execution_count": 11,
     "metadata": {},
     "output_type": "execute_result"
    }
   ],
   "source": [
    "#How many rows/instances/records?\n",
    "df.shape[0]"
   ]
  },
  {
   "cell_type": "code",
   "execution_count": 13,
   "id": "1995749e",
   "metadata": {},
   "outputs": [
    {
     "data": {
      "text/plain": [
       "14"
      ]
     },
     "execution_count": 13,
     "metadata": {},
     "output_type": "execute_result"
    }
   ],
   "source": [
    "#How many columns/features?\n",
    "df.shape[1]"
   ]
  },
  {
   "cell_type": "code",
   "execution_count": 15,
   "id": "a0f00d3f",
   "metadata": {},
   "outputs": [
    {
     "data": {
      "text/plain": [
       "ID                           int64\n",
       "Insurance Type              object\n",
       "Income of Policy Holder      int64\n",
       "Marital Status              object\n",
       "Num Claimants                int64\n",
       "Injury Type                 object\n",
       "Overnight Hospital Stay     object\n",
       "Claim Amount                 int64\n",
       "Total Claimed                int64\n",
       "Num Claims                   int64\n",
       "Num Soft Tissue            float64\n",
       "% Soft Tissue              float64\n",
       "Claim Amount Received        int64\n",
       "Fraud Flag                   int64\n",
       "dtype: object"
      ]
     },
     "execution_count": 15,
     "metadata": {},
     "output_type": "execute_result"
    }
   ],
   "source": [
    "# Show the data types in each column.\n",
    "# int64 and float64 are numeric columns.\n",
    "# The pandas type 'object' stands for Python strings\n",
    "# Columns mixing numbers and characters are automatically converted to type 'object'.\n",
    "# Some of the type 'object' columns may be more appropriate as continuous or as categorical types.\n",
    "# We first explore the data, then decide which columns should be treated as 'continuous' and which \n",
    "# should be treated as 'categorical'.\n",
    "# You can see below that some columns are wrongly set to continuous types, e.g., ID.\n",
    "df.dtypes"
   ]
  },
  {
   "cell_type": "code",
   "execution_count": 17,
   "id": "586f0111",
   "metadata": {},
   "outputs": [
    {
     "data": {
      "text/html": [
       "<div>\n",
       "<style scoped>\n",
       "    .dataframe tbody tr th:only-of-type {\n",
       "        vertical-align: middle;\n",
       "    }\n",
       "\n",
       "    .dataframe tbody tr th {\n",
       "        vertical-align: top;\n",
       "    }\n",
       "\n",
       "    .dataframe thead th {\n",
       "        text-align: right;\n",
       "    }\n",
       "</style>\n",
       "<table border=\"1\" class=\"dataframe\">\n",
       "  <thead>\n",
       "    <tr style=\"text-align: right;\">\n",
       "      <th></th>\n",
       "      <th>ID</th>\n",
       "      <th>Income of Policy Holder</th>\n",
       "      <th>Num Claimants</th>\n",
       "      <th>Claim Amount</th>\n",
       "      <th>Total Claimed</th>\n",
       "      <th>Num Claims</th>\n",
       "      <th>Num Soft Tissue</th>\n",
       "      <th>% Soft Tissue</th>\n",
       "      <th>Claim Amount Received</th>\n",
       "      <th>Fraud Flag</th>\n",
       "    </tr>\n",
       "  </thead>\n",
       "  <tbody>\n",
       "    <tr>\n",
       "      <th>count</th>\n",
       "      <td>500.000000</td>\n",
       "      <td>500.000000</td>\n",
       "      <td>500.000000</td>\n",
       "      <td>500.00000</td>\n",
       "      <td>500.00000</td>\n",
       "      <td>500.000000</td>\n",
       "      <td>490.000000</td>\n",
       "      <td>500.000000</td>\n",
       "      <td>500.000000</td>\n",
       "      <td>500.000000</td>\n",
       "    </tr>\n",
       "    <tr>\n",
       "      <th>mean</th>\n",
       "      <td>250.500000</td>\n",
       "      <td>13739.994000</td>\n",
       "      <td>1.908000</td>\n",
       "      <td>16373.20400</td>\n",
       "      <td>9597.18600</td>\n",
       "      <td>0.798000</td>\n",
       "      <td>0.234694</td>\n",
       "      <td>0.172012</td>\n",
       "      <td>13051.942000</td>\n",
       "      <td>0.336000</td>\n",
       "    </tr>\n",
       "    <tr>\n",
       "      <th>std</th>\n",
       "      <td>144.481833</td>\n",
       "      <td>20081.535489</td>\n",
       "      <td>1.012713</td>\n",
       "      <td>29426.27696</td>\n",
       "      <td>35655.68622</td>\n",
       "      <td>2.666724</td>\n",
       "      <td>0.589635</td>\n",
       "      <td>0.428015</td>\n",
       "      <td>30547.194864</td>\n",
       "      <td>0.472812</td>\n",
       "    </tr>\n",
       "    <tr>\n",
       "      <th>min</th>\n",
       "      <td>1.000000</td>\n",
       "      <td>0.000000</td>\n",
       "      <td>1.000000</td>\n",
       "      <td>-99999.00000</td>\n",
       "      <td>0.00000</td>\n",
       "      <td>0.000000</td>\n",
       "      <td>0.000000</td>\n",
       "      <td>0.000000</td>\n",
       "      <td>0.000000</td>\n",
       "      <td>0.000000</td>\n",
       "    </tr>\n",
       "    <tr>\n",
       "      <th>25%</th>\n",
       "      <td>125.750000</td>\n",
       "      <td>0.000000</td>\n",
       "      <td>1.000000</td>\n",
       "      <td>3322.25000</td>\n",
       "      <td>0.00000</td>\n",
       "      <td>0.000000</td>\n",
       "      <td>0.000000</td>\n",
       "      <td>0.000000</td>\n",
       "      <td>0.000000</td>\n",
       "      <td>0.000000</td>\n",
       "    </tr>\n",
       "    <tr>\n",
       "      <th>50%</th>\n",
       "      <td>250.500000</td>\n",
       "      <td>0.000000</td>\n",
       "      <td>2.000000</td>\n",
       "      <td>5663.00000</td>\n",
       "      <td>0.00000</td>\n",
       "      <td>0.000000</td>\n",
       "      <td>0.000000</td>\n",
       "      <td>0.000000</td>\n",
       "      <td>3253.500000</td>\n",
       "      <td>0.000000</td>\n",
       "    </tr>\n",
       "    <tr>\n",
       "      <th>75%</th>\n",
       "      <td>375.250000</td>\n",
       "      <td>33918.500000</td>\n",
       "      <td>3.000000</td>\n",
       "      <td>12245.50000</td>\n",
       "      <td>11282.75000</td>\n",
       "      <td>1.000000</td>\n",
       "      <td>0.000000</td>\n",
       "      <td>0.000000</td>\n",
       "      <td>8191.750000</td>\n",
       "      <td>1.000000</td>\n",
       "    </tr>\n",
       "    <tr>\n",
       "      <th>max</th>\n",
       "      <td>500.000000</td>\n",
       "      <td>71284.000000</td>\n",
       "      <td>4.000000</td>\n",
       "      <td>270200.00000</td>\n",
       "      <td>729792.00000</td>\n",
       "      <td>56.000000</td>\n",
       "      <td>5.000000</td>\n",
       "      <td>2.000000</td>\n",
       "      <td>295303.000000</td>\n",
       "      <td>1.000000</td>\n",
       "    </tr>\n",
       "  </tbody>\n",
       "</table>\n",
       "</div>"
      ],
      "text/plain": [
       "               ID  Income of Policy Holder  Num Claimants  Claim Amount  \\\n",
       "count  500.000000               500.000000     500.000000     500.00000   \n",
       "mean   250.500000             13739.994000       1.908000   16373.20400   \n",
       "std    144.481833             20081.535489       1.012713   29426.27696   \n",
       "min      1.000000                 0.000000       1.000000  -99999.00000   \n",
       "25%    125.750000                 0.000000       1.000000    3322.25000   \n",
       "50%    250.500000                 0.000000       2.000000    5663.00000   \n",
       "75%    375.250000             33918.500000       3.000000   12245.50000   \n",
       "max    500.000000             71284.000000       4.000000  270200.00000   \n",
       "\n",
       "       Total Claimed  Num Claims  Num Soft Tissue  % Soft Tissue  \\\n",
       "count      500.00000  500.000000       490.000000     500.000000   \n",
       "mean      9597.18600    0.798000         0.234694       0.172012   \n",
       "std      35655.68622    2.666724         0.589635       0.428015   \n",
       "min          0.00000    0.000000         0.000000       0.000000   \n",
       "25%          0.00000    0.000000         0.000000       0.000000   \n",
       "50%          0.00000    0.000000         0.000000       0.000000   \n",
       "75%      11282.75000    1.000000         0.000000       0.000000   \n",
       "max     729792.00000   56.000000         5.000000       2.000000   \n",
       "\n",
       "       Claim Amount Received  Fraud Flag  \n",
       "count             500.000000  500.000000  \n",
       "mean            13051.942000    0.336000  \n",
       "std             30547.194864    0.472812  \n",
       "min                 0.000000    0.000000  \n",
       "25%                 0.000000    0.000000  \n",
       "50%              3253.500000    0.000000  \n",
       "75%              8191.750000    1.000000  \n",
       "max            295303.000000    1.000000  "
      ]
     },
     "execution_count": 17,
     "metadata": {},
     "output_type": "execute_result"
    }
   ],
   "source": [
    "# Descriptive stats for continuous features\n",
    "# df.describe() by default only prints stats for the numeric columns int64 and float64.\n",
    "# Often we need to change the feature data type so it more appropriately reflects whether this is \n",
    "# a continuous or a categorical feature.\n",
    "df.describe()"
   ]
  },
  {
   "cell_type": "code",
   "execution_count": 9,
   "id": "deb3d37f",
   "metadata": {},
   "outputs": [
    {
     "data": {
      "text/html": [
       "<div>\n",
       "<style scoped>\n",
       "    .dataframe tbody tr th:only-of-type {\n",
       "        vertical-align: middle;\n",
       "    }\n",
       "\n",
       "    .dataframe tbody tr th {\n",
       "        vertical-align: top;\n",
       "    }\n",
       "\n",
       "    .dataframe thead th {\n",
       "        text-align: right;\n",
       "    }\n",
       "</style>\n",
       "<table border=\"1\" class=\"dataframe\">\n",
       "  <thead>\n",
       "    <tr style=\"text-align: right;\">\n",
       "      <th></th>\n",
       "      <th>count</th>\n",
       "      <th>mean</th>\n",
       "      <th>std</th>\n",
       "      <th>min</th>\n",
       "      <th>25%</th>\n",
       "      <th>50%</th>\n",
       "      <th>75%</th>\n",
       "      <th>max</th>\n",
       "    </tr>\n",
       "  </thead>\n",
       "  <tbody>\n",
       "    <tr>\n",
       "      <th>ID</th>\n",
       "      <td>500.0</td>\n",
       "      <td>250.500000</td>\n",
       "      <td>144.481833</td>\n",
       "      <td>1.0</td>\n",
       "      <td>125.75</td>\n",
       "      <td>250.5</td>\n",
       "      <td>375.25</td>\n",
       "      <td>500.0</td>\n",
       "    </tr>\n",
       "    <tr>\n",
       "      <th>Income of Policy Holder</th>\n",
       "      <td>500.0</td>\n",
       "      <td>13739.994000</td>\n",
       "      <td>20081.535489</td>\n",
       "      <td>0.0</td>\n",
       "      <td>0.00</td>\n",
       "      <td>0.0</td>\n",
       "      <td>33918.50</td>\n",
       "      <td>71284.0</td>\n",
       "    </tr>\n",
       "    <tr>\n",
       "      <th>Num Claimants</th>\n",
       "      <td>500.0</td>\n",
       "      <td>1.908000</td>\n",
       "      <td>1.012713</td>\n",
       "      <td>1.0</td>\n",
       "      <td>1.00</td>\n",
       "      <td>2.0</td>\n",
       "      <td>3.00</td>\n",
       "      <td>4.0</td>\n",
       "    </tr>\n",
       "    <tr>\n",
       "      <th>Claim Amount</th>\n",
       "      <td>500.0</td>\n",
       "      <td>16373.204000</td>\n",
       "      <td>29426.276960</td>\n",
       "      <td>-99999.0</td>\n",
       "      <td>3322.25</td>\n",
       "      <td>5663.0</td>\n",
       "      <td>12245.50</td>\n",
       "      <td>270200.0</td>\n",
       "    </tr>\n",
       "    <tr>\n",
       "      <th>Total Claimed</th>\n",
       "      <td>500.0</td>\n",
       "      <td>9597.186000</td>\n",
       "      <td>35655.686220</td>\n",
       "      <td>0.0</td>\n",
       "      <td>0.00</td>\n",
       "      <td>0.0</td>\n",
       "      <td>11282.75</td>\n",
       "      <td>729792.0</td>\n",
       "    </tr>\n",
       "    <tr>\n",
       "      <th>Num Claims</th>\n",
       "      <td>500.0</td>\n",
       "      <td>0.798000</td>\n",
       "      <td>2.666724</td>\n",
       "      <td>0.0</td>\n",
       "      <td>0.00</td>\n",
       "      <td>0.0</td>\n",
       "      <td>1.00</td>\n",
       "      <td>56.0</td>\n",
       "    </tr>\n",
       "    <tr>\n",
       "      <th>Num Soft Tissue</th>\n",
       "      <td>490.0</td>\n",
       "      <td>0.234694</td>\n",
       "      <td>0.589635</td>\n",
       "      <td>0.0</td>\n",
       "      <td>0.00</td>\n",
       "      <td>0.0</td>\n",
       "      <td>0.00</td>\n",
       "      <td>5.0</td>\n",
       "    </tr>\n",
       "    <tr>\n",
       "      <th>% Soft Tissue</th>\n",
       "      <td>500.0</td>\n",
       "      <td>0.172012</td>\n",
       "      <td>0.428015</td>\n",
       "      <td>0.0</td>\n",
       "      <td>0.00</td>\n",
       "      <td>0.0</td>\n",
       "      <td>0.00</td>\n",
       "      <td>2.0</td>\n",
       "    </tr>\n",
       "    <tr>\n",
       "      <th>Claim Amount Received</th>\n",
       "      <td>500.0</td>\n",
       "      <td>13051.942000</td>\n",
       "      <td>30547.194864</td>\n",
       "      <td>0.0</td>\n",
       "      <td>0.00</td>\n",
       "      <td>3253.5</td>\n",
       "      <td>8191.75</td>\n",
       "      <td>295303.0</td>\n",
       "    </tr>\n",
       "    <tr>\n",
       "      <th>Fraud Flag</th>\n",
       "      <td>500.0</td>\n",
       "      <td>0.336000</td>\n",
       "      <td>0.472812</td>\n",
       "      <td>0.0</td>\n",
       "      <td>0.00</td>\n",
       "      <td>0.0</td>\n",
       "      <td>1.00</td>\n",
       "      <td>1.0</td>\n",
       "    </tr>\n",
       "  </tbody>\n",
       "</table>\n",
       "</div>"
      ],
      "text/plain": [
       "                         count          mean           std      min      25%  \\\n",
       "ID                       500.0    250.500000    144.481833      1.0   125.75   \n",
       "Income of Policy Holder  500.0  13739.994000  20081.535489      0.0     0.00   \n",
       "Num Claimants            500.0      1.908000      1.012713      1.0     1.00   \n",
       "Claim Amount             500.0  16373.204000  29426.276960 -99999.0  3322.25   \n",
       "Total Claimed            500.0   9597.186000  35655.686220      0.0     0.00   \n",
       "Num Claims               500.0      0.798000      2.666724      0.0     0.00   \n",
       "Num Soft Tissue          490.0      0.234694      0.589635      0.0     0.00   \n",
       "% Soft Tissue            500.0      0.172012      0.428015      0.0     0.00   \n",
       "Claim Amount Received    500.0  13051.942000  30547.194864      0.0     0.00   \n",
       "Fraud Flag               500.0      0.336000      0.472812      0.0     0.00   \n",
       "\n",
       "                            50%       75%       max  \n",
       "ID                        250.5    375.25     500.0  \n",
       "Income of Policy Holder     0.0  33918.50   71284.0  \n",
       "Num Claimants               2.0      3.00       4.0  \n",
       "Claim Amount             5663.0  12245.50  270200.0  \n",
       "Total Claimed               0.0  11282.75  729792.0  \n",
       "Num Claims                  0.0      1.00      56.0  \n",
       "Num Soft Tissue             0.0      0.00       5.0  \n",
       "% Soft Tissue               0.0      0.00       2.0  \n",
       "Claim Amount Received    3253.5   8191.75  295303.0  \n",
       "Fraud Flag                  0.0      1.00       1.0  "
      ]
     },
     "execution_count": 9,
     "metadata": {},
     "output_type": "execute_result"
    }
   ],
   "source": [
    "# Descriptive stats for continuous features\n",
    "# Transpose the table \n",
    "# One feature per row, stats in the columns\n",
    "# The 'count' column shows how many rows have data for that feature.\n",
    "# We can see that Num Soft Tissue only has 490 rows defined (out of 500 rows total), so 10 rows are \n",
    "# missing this value.\n",
    "# This table does not show the cardinality and the %Missing columns.\n",
    "# We compute them below.\n",
    "df.describe().T\n"
   ]
  },
  {
   "cell_type": "code",
   "execution_count": 10,
   "id": "80655ebf",
   "metadata": {},
   "outputs": [
    {
     "data": {
      "text/plain": [
       "Index(['ID', 'Income of Policy Holder', 'Num Claimants', 'Claim Amount',\n",
       "       'Total Claimed', 'Num Claims', 'Num Soft Tissue', '% Soft Tissue',\n",
       "       'Claim Amount Received', 'Fraud Flag'],\n",
       "      dtype='object')"
      ]
     },
     "execution_count": 10,
     "metadata": {},
     "output_type": "execute_result"
    }
   ],
   "source": [
    "#Keep only the numeric features.\n",
    "numeric_columns = df.select_dtypes(['int64', 'float64']).columns\n",
    "numeric_columns"
   ]
  },
  {
   "cell_type": "code",
   "execution_count": 11,
   "id": "7a12aa61",
   "metadata": {},
   "outputs": [
    {
     "data": {
      "text/html": [
       "<div>\n",
       "<style scoped>\n",
       "    .dataframe tbody tr th:only-of-type {\n",
       "        vertical-align: middle;\n",
       "    }\n",
       "\n",
       "    .dataframe tbody tr th {\n",
       "        vertical-align: top;\n",
       "    }\n",
       "\n",
       "    .dataframe thead th {\n",
       "        text-align: right;\n",
       "    }\n",
       "</style>\n",
       "<table border=\"1\" class=\"dataframe\">\n",
       "  <thead>\n",
       "    <tr style=\"text-align: right;\">\n",
       "      <th></th>\n",
       "      <th>ID</th>\n",
       "      <th>Income of Policy Holder</th>\n",
       "      <th>Num Claimants</th>\n",
       "      <th>Claim Amount</th>\n",
       "      <th>Total Claimed</th>\n",
       "      <th>Num Claims</th>\n",
       "      <th>Num Soft Tissue</th>\n",
       "      <th>% Soft Tissue</th>\n",
       "      <th>Claim Amount Received</th>\n",
       "      <th>Fraud Flag</th>\n",
       "    </tr>\n",
       "  </thead>\n",
       "  <tbody>\n",
       "    <tr>\n",
       "      <th>0</th>\n",
       "      <td>1</td>\n",
       "      <td>0</td>\n",
       "      <td>2</td>\n",
       "      <td>1625</td>\n",
       "      <td>3250</td>\n",
       "      <td>2</td>\n",
       "      <td>2.0</td>\n",
       "      <td>1.0</td>\n",
       "      <td>0</td>\n",
       "      <td>1</td>\n",
       "    </tr>\n",
       "    <tr>\n",
       "      <th>1</th>\n",
       "      <td>2</td>\n",
       "      <td>0</td>\n",
       "      <td>2</td>\n",
       "      <td>15028</td>\n",
       "      <td>60112</td>\n",
       "      <td>1</td>\n",
       "      <td>0.0</td>\n",
       "      <td>0.0</td>\n",
       "      <td>15028</td>\n",
       "      <td>0</td>\n",
       "    </tr>\n",
       "    <tr>\n",
       "      <th>2</th>\n",
       "      <td>3</td>\n",
       "      <td>54613</td>\n",
       "      <td>1</td>\n",
       "      <td>-99999</td>\n",
       "      <td>0</td>\n",
       "      <td>0</td>\n",
       "      <td>0.0</td>\n",
       "      <td>0.0</td>\n",
       "      <td>572</td>\n",
       "      <td>0</td>\n",
       "    </tr>\n",
       "    <tr>\n",
       "      <th>3</th>\n",
       "      <td>4</td>\n",
       "      <td>0</td>\n",
       "      <td>3</td>\n",
       "      <td>270200</td>\n",
       "      <td>0</td>\n",
       "      <td>0</td>\n",
       "      <td>0.0</td>\n",
       "      <td>0.0</td>\n",
       "      <td>270200</td>\n",
       "      <td>0</td>\n",
       "    </tr>\n",
       "    <tr>\n",
       "      <th>4</th>\n",
       "      <td>5</td>\n",
       "      <td>0</td>\n",
       "      <td>4</td>\n",
       "      <td>8869</td>\n",
       "      <td>0</td>\n",
       "      <td>0</td>\n",
       "      <td>0.0</td>\n",
       "      <td>0.0</td>\n",
       "      <td>0</td>\n",
       "      <td>1</td>\n",
       "    </tr>\n",
       "    <tr>\n",
       "      <th>...</th>\n",
       "      <td>...</td>\n",
       "      <td>...</td>\n",
       "      <td>...</td>\n",
       "      <td>...</td>\n",
       "      <td>...</td>\n",
       "      <td>...</td>\n",
       "      <td>...</td>\n",
       "      <td>...</td>\n",
       "      <td>...</td>\n",
       "      <td>...</td>\n",
       "    </tr>\n",
       "    <tr>\n",
       "      <th>495</th>\n",
       "      <td>496</td>\n",
       "      <td>0</td>\n",
       "      <td>1</td>\n",
       "      <td>2118</td>\n",
       "      <td>0</td>\n",
       "      <td>0</td>\n",
       "      <td>0.0</td>\n",
       "      <td>0.0</td>\n",
       "      <td>0</td>\n",
       "      <td>1</td>\n",
       "    </tr>\n",
       "    <tr>\n",
       "      <th>496</th>\n",
       "      <td>497</td>\n",
       "      <td>29280</td>\n",
       "      <td>4</td>\n",
       "      <td>3199</td>\n",
       "      <td>0</td>\n",
       "      <td>0</td>\n",
       "      <td>NaN</td>\n",
       "      <td>0.0</td>\n",
       "      <td>0</td>\n",
       "      <td>1</td>\n",
       "    </tr>\n",
       "    <tr>\n",
       "      <th>497</th>\n",
       "      <td>498</td>\n",
       "      <td>0</td>\n",
       "      <td>1</td>\n",
       "      <td>32469</td>\n",
       "      <td>0</td>\n",
       "      <td>0</td>\n",
       "      <td>0.0</td>\n",
       "      <td>0.0</td>\n",
       "      <td>16763</td>\n",
       "      <td>0</td>\n",
       "    </tr>\n",
       "    <tr>\n",
       "      <th>498</th>\n",
       "      <td>499</td>\n",
       "      <td>46683</td>\n",
       "      <td>1</td>\n",
       "      <td>179448</td>\n",
       "      <td>0</td>\n",
       "      <td>0</td>\n",
       "      <td>0.0</td>\n",
       "      <td>0.0</td>\n",
       "      <td>179448</td>\n",
       "      <td>0</td>\n",
       "    </tr>\n",
       "    <tr>\n",
       "      <th>499</th>\n",
       "      <td>500</td>\n",
       "      <td>0</td>\n",
       "      <td>1</td>\n",
       "      <td>8259</td>\n",
       "      <td>0</td>\n",
       "      <td>0</td>\n",
       "      <td>0.0</td>\n",
       "      <td>0.0</td>\n",
       "      <td>0</td>\n",
       "      <td>1</td>\n",
       "    </tr>\n",
       "  </tbody>\n",
       "</table>\n",
       "<p>500 rows × 10 columns</p>\n",
       "</div>"
      ],
      "text/plain": [
       "      ID  Income of Policy Holder  Num Claimants  Claim Amount  Total Claimed  \\\n",
       "0      1                        0              2          1625           3250   \n",
       "1      2                        0              2         15028          60112   \n",
       "2      3                    54613              1        -99999              0   \n",
       "3      4                        0              3        270200              0   \n",
       "4      5                        0              4          8869              0   \n",
       "..   ...                      ...            ...           ...            ...   \n",
       "495  496                        0              1          2118              0   \n",
       "496  497                    29280              4          3199              0   \n",
       "497  498                        0              1         32469              0   \n",
       "498  499                    46683              1        179448              0   \n",
       "499  500                        0              1          8259              0   \n",
       "\n",
       "     Num Claims  Num Soft Tissue  % Soft Tissue  Claim Amount Received  \\\n",
       "0             2              2.0            1.0                      0   \n",
       "1             1              0.0            0.0                  15028   \n",
       "2             0              0.0            0.0                    572   \n",
       "3             0              0.0            0.0                 270200   \n",
       "4             0              0.0            0.0                      0   \n",
       "..          ...              ...            ...                    ...   \n",
       "495           0              0.0            0.0                      0   \n",
       "496           0              NaN            0.0                      0   \n",
       "497           0              0.0            0.0                  16763   \n",
       "498           0              0.0            0.0                 179448   \n",
       "499           0              0.0            0.0                      0   \n",
       "\n",
       "     Fraud Flag  \n",
       "0             1  \n",
       "1             0  \n",
       "2             0  \n",
       "3             0  \n",
       "4             1  \n",
       "..          ...  \n",
       "495           1  \n",
       "496           1  \n",
       "497           0  \n",
       "498           0  \n",
       "499           1  \n",
       "\n",
       "[500 rows x 10 columns]"
      ]
     },
     "execution_count": 11,
     "metadata": {},
     "output_type": "execute_result"
    }
   ],
   "source": [
    "# Select only the numeric features\n",
    "df[numeric_columns]"
   ]
  },
  {
   "cell_type": "code",
   "execution_count": 12,
   "id": "8d8c9516",
   "metadata": {},
   "outputs": [
    {
     "data": {
      "text/plain": [
       "array([  1,   2,   3,   4,   5,   6,   7,   8,   9,  10,  11,  12,  13,\n",
       "        14,  15,  16,  17,  18,  19,  20,  21,  22,  23,  24,  25,  26,\n",
       "        27,  28,  29,  30,  31,  32,  33,  34,  35,  36,  37,  38,  39,\n",
       "        40,  41,  42,  43,  44,  45,  46,  47,  48,  49,  50,  51,  52,\n",
       "        53,  54,  55,  56,  57,  58,  59,  60,  61,  62,  63,  64,  65,\n",
       "        66,  67,  68,  69,  70,  71,  72,  73,  74,  75,  76,  77,  78,\n",
       "        79,  80,  81,  82,  83,  84,  85,  86,  87,  88,  89,  90,  91,\n",
       "        92,  93,  94,  95,  96,  97,  98,  99, 100, 101, 102, 103, 104,\n",
       "       105, 106, 107, 108, 109, 110, 111, 112, 113, 114, 115, 116, 117,\n",
       "       118, 119, 120, 121, 122, 123, 124, 125, 126, 127, 128, 129, 130,\n",
       "       131, 132, 133, 134, 135, 136, 137, 138, 139, 140, 141, 142, 143,\n",
       "       144, 145, 146, 147, 148, 149, 150, 151, 152, 153, 154, 155, 156,\n",
       "       157, 158, 159, 160, 161, 162, 163, 164, 165, 166, 167, 168, 169,\n",
       "       170, 171, 172, 173, 174, 175, 176, 177, 178, 179, 180, 181, 182,\n",
       "       183, 184, 185, 186, 187, 188, 189, 190, 191, 192, 193, 194, 195,\n",
       "       196, 197, 198, 199, 200, 201, 202, 203, 204, 205, 206, 207, 208,\n",
       "       209, 210, 211, 212, 213, 214, 215, 216, 217, 218, 219, 220, 221,\n",
       "       222, 223, 224, 225, 226, 227, 228, 229, 230, 231, 232, 233, 234,\n",
       "       235, 236, 237, 238, 239, 240, 241, 242, 243, 244, 245, 246, 247,\n",
       "       248, 249, 250, 251, 252, 253, 254, 255, 256, 257, 258, 259, 260,\n",
       "       261, 262, 263, 264, 265, 266, 267, 268, 269, 270, 271, 272, 273,\n",
       "       274, 275, 276, 277, 278, 279, 280, 281, 282, 283, 284, 285, 286,\n",
       "       287, 288, 289, 290, 291, 292, 293, 294, 295, 296, 297, 298, 299,\n",
       "       300, 301, 302, 303, 304, 305, 306, 307, 308, 309, 310, 311, 312,\n",
       "       313, 314, 315, 316, 317, 318, 319, 320, 321, 322, 323, 324, 325,\n",
       "       326, 327, 328, 329, 330, 331, 332, 333, 334, 335, 336, 337, 338,\n",
       "       339, 340, 341, 342, 343, 344, 345, 346, 347, 348, 349, 350, 351,\n",
       "       352, 353, 354, 355, 356, 357, 358, 359, 360, 361, 362, 363, 364,\n",
       "       365, 366, 367, 368, 369, 370, 371, 372, 373, 374, 375, 376, 377,\n",
       "       378, 379, 380, 381, 382, 383, 384, 385, 386, 387, 388, 389, 390,\n",
       "       391, 392, 393, 394, 395, 396, 397, 398, 399, 400, 401, 402, 403,\n",
       "       404, 405, 406, 407, 408, 409, 410, 411, 412, 413, 414, 415, 416,\n",
       "       417, 418, 419, 420, 421, 422, 423, 424, 425, 426, 427, 428, 429,\n",
       "       430, 431, 432, 433, 434, 435, 436, 437, 438, 439, 440, 441, 442,\n",
       "       443, 444, 445, 446, 447, 448, 449, 450, 451, 452, 453, 454, 455,\n",
       "       456, 457, 458, 459, 460, 461, 462, 463, 464, 465, 466, 467, 468,\n",
       "       469, 470, 471, 472, 473, 474, 475, 476, 477, 478, 479, 480, 481,\n",
       "       482, 483, 484, 485, 486, 487, 488, 489, 490, 491, 492, 493, 494,\n",
       "       495, 496, 497, 498, 499, 500], dtype=int64)"
      ]
     },
     "execution_count": 12,
     "metadata": {},
     "output_type": "execute_result"
    }
   ],
   "source": [
    "# Return the set of unique values for feature ID\n",
    "df['ID'].unique()"
   ]
  },
  {
   "cell_type": "code",
   "execution_count": 13,
   "id": "64620baa",
   "metadata": {},
   "outputs": [
    {
     "data": {
      "text/plain": [
       "500"
      ]
     },
     "execution_count": 13,
     "metadata": {},
     "output_type": "execute_result"
    }
   ],
   "source": [
    "# Return the cardinality of the set of unique values, i.e., number of distinct values for feature ID\n",
    "len(df['ID'].unique())"
   ]
  },
  {
   "cell_type": "code",
   "execution_count": 14,
   "id": "0110254d",
   "metadata": {},
   "outputs": [
    {
     "data": {
      "text/plain": [
       "ID                         500\n",
       "Insurance Type               1\n",
       "Income of Policy Holder    171\n",
       "Marital Status               3\n",
       "Num Claimants                4\n",
       "Injury Type                  4\n",
       "Overnight Hospital Stay      2\n",
       "Claim Amount               493\n",
       "Total Claimed              235\n",
       "Num Claims                   7\n",
       "Num Soft Tissue              5\n",
       "% Soft Tissue                9\n",
       "Claim Amount Received      329\n",
       "Fraud Flag                   2\n",
       "dtype: int64"
      ]
     },
     "execution_count": 14,
     "metadata": {},
     "output_type": "execute_result"
    }
   ],
   "source": [
    "# Get the number of unique values per feature\n",
    "df.nunique()"
   ]
  },
  {
   "cell_type": "markdown",
   "id": "da3342b3",
   "metadata": {},
   "source": [
    "`Insurance Type` contains 1 unique value throughout the dataset. This implies it is a constant column."
   ]
  },
  {
   "cell_type": "code",
   "execution_count": 15,
   "id": "c4bdc4ab",
   "metadata": {},
   "outputs": [
    {
     "data": {
      "text/plain": [
       "array([nan, 'Married', 'Single', 'Divorced'], dtype=object)"
      ]
     },
     "execution_count": 15,
     "metadata": {},
     "output_type": "execute_result"
    }
   ],
   "source": [
    "# Return the unique values for feature Income\n",
    "df['Marital Status'].unique()"
   ]
  },
  {
   "cell_type": "code",
   "execution_count": 16,
   "id": "f748402b",
   "metadata": {},
   "outputs": [
    {
     "data": {
      "text/plain": [
       "ID                           0\n",
       "Insurance Type               0\n",
       "Income of Policy Holder      0\n",
       "Marital Status             330\n",
       "Num Claimants                0\n",
       "Injury Type                  0\n",
       "Overnight Hospital Stay      0\n",
       "Claim Amount                 0\n",
       "Total Claimed                0\n",
       "Num Claims                   0\n",
       "Num Soft Tissue             10\n",
       "% Soft Tissue                0\n",
       "Claim Amount Received        0\n",
       "Fraud Flag                   0\n",
       "dtype: int64"
      ]
     },
     "execution_count": 16,
     "metadata": {},
     "output_type": "execute_result"
    }
   ],
   "source": [
    "#Missing data\n",
    "#http://pandas.pydata.org/pandas-docs/stable/missing_data.html\n",
    "# When summing data, NA (missing) values will be treated as zero\n",
    "# If the data are all NA, the result will be NA\n",
    "# Methods like cumsum and cumprod ignore NA values, but preserve them in the resulting arrays\n",
    "\n",
    "#Missing data per feature\n",
    "df.isnull().sum()"
   ]
  },
  {
   "cell_type": "code",
   "execution_count": 17,
   "id": "fc3edb10",
   "metadata": {},
   "outputs": [
    {
     "data": {
      "text/plain": [
       "ID                         category\n",
       "Insurance Type               object\n",
       "Income of Policy Holder       int64\n",
       "Marital Status               object\n",
       "Num Claimants                 int64\n",
       "Injury Type                  object\n",
       "Overnight Hospital Stay      object\n",
       "Claim Amount                  int64\n",
       "Total Claimed                 int64\n",
       "Num Claims                    int64\n",
       "Num Soft Tissue             float64\n",
       "% Soft Tissue               float64\n",
       "Claim Amount Received         int64\n",
       "Fraud Flag                 category\n",
       "dtype: object"
      ]
     },
     "execution_count": 17,
     "metadata": {},
     "output_type": "execute_result"
    }
   ],
   "source": [
    "# Turn the feature 'ID' from 'int64' to 'category' type\n",
    "# Assigning it back to the column is important, else it is not reflected in the dataframe\n",
    "df['ID'] = df['ID'].astype('category')\n",
    "# Turn the feature FraudFlag into type 'category'\n",
    "df['Fraud Flag'] = df['Fraud Flag'].astype('category')\n",
    "df.dtypes"
   ]
  },
  {
   "cell_type": "code",
   "execution_count": 18,
   "id": "e75812d2",
   "metadata": {},
   "outputs": [
    {
     "data": {
      "text/plain": [
       "Index(['Insurance Type ', 'Marital Status', 'Injury Type',\n",
       "       'Overnight Hospital Stay'],\n",
       "      dtype='object')"
      ]
     },
     "execution_count": 18,
     "metadata": {},
     "output_type": "execute_result"
    }
   ],
   "source": [
    "#Select all columns of type 'object'\n",
    "object_columns = df.select_dtypes(['object']).columns\n",
    "object_columns"
   ]
  },
  {
   "cell_type": "code",
   "execution_count": 19,
   "id": "80f02b70",
   "metadata": {},
   "outputs": [
    {
     "data": {
      "text/plain": [
       "ID                         category\n",
       "Insurance Type             category\n",
       "Income of Policy Holder       int64\n",
       "Marital Status             category\n",
       "Num Claimants                 int64\n",
       "Injury Type                category\n",
       "Overnight Hospital Stay    category\n",
       "Claim Amount                  int64\n",
       "Total Claimed                 int64\n",
       "Num Claims                    int64\n",
       "Num Soft Tissue             float64\n",
       "% Soft Tissue               float64\n",
       "Claim Amount Received         int64\n",
       "Fraud Flag                 category\n",
       "dtype: object"
      ]
     },
     "execution_count": 19,
     "metadata": {},
     "output_type": "execute_result"
    }
   ],
   "source": [
    "#Convert selected columns to type 'category'\n",
    "for column in object_columns:\n",
    "    df[column] = df[column].astype('category')\n",
    "df.dtypes    "
   ]
  },
  {
   "cell_type": "code",
   "execution_count": 20,
   "id": "79a73838",
   "metadata": {},
   "outputs": [
    {
     "data": {
      "text/plain": [
       "Index(['Income of Policy Holder', 'Num Claimants', 'Claim Amount',\n",
       "       'Total Claimed', 'Num Claims', 'Num Soft Tissue', '% Soft Tissue',\n",
       "       'Claim Amount Received'],\n",
       "      dtype='object')"
      ]
     },
     "execution_count": 20,
     "metadata": {},
     "output_type": "execute_result"
    }
   ],
   "source": [
    "#Update the numeric features, after converting ID and flag to 'category'.\n",
    "numeric_columns = df.select_dtypes(['int64', 'float64']).columns\n",
    "numeric_columns"
   ]
  },
  {
   "cell_type": "code",
   "execution_count": 21,
   "id": "d5d97718",
   "metadata": {},
   "outputs": [
    {
     "data": {
      "text/plain": [
       "Income of Policy Holder    13739.994000\n",
       "Num Claimants                  1.908000\n",
       "Claim Amount               16373.204000\n",
       "Total Claimed               9597.186000\n",
       "Num Claims                     0.798000\n",
       "Num Soft Tissue                0.234694\n",
       "% Soft Tissue                  0.172012\n",
       "Claim Amount Received      13051.942000\n",
       "dtype: float64"
      ]
     },
     "execution_count": 21,
     "metadata": {},
     "output_type": "execute_result"
    }
   ],
   "source": [
    "# Performing a descriptive statistic\n",
    "# Shows the mean for each numeric feature\n",
    "df[numeric_columns].mean()"
   ]
  },
  {
   "cell_type": "markdown",
   "id": "42374c4c",
   "metadata": {},
   "source": [
    "## Exercise\n",
    "\n",
    "1. Load the NYC13 flights dataset - \n",
    "   Data frame should contain the following columns\n",
    "   - *year, month, day* Date of departure.\n",
    "   - *dep_time, arr_time* Actual departure and arrival times (format HHMM or HMM), local tz.\n",
    "   - *dep_delay, arr_delay* Departure and arrival delays, in minutes. Negative times represent early departures/arrivals.\n",
    "   - *carrier* Two letter carrier abbreviation. See airlines to get name.\n",
    "   - *flight* Flight number.\n",
    "   - *tailnum* Plane tail number. See planes for additional metadata.\n",
    "   - *origin, dest* Origin and destination. See airports for additional metadata.\n",
    "   - *air_time* Amount of time spent in the air, in minutes.\n",
    "   - *distance* Distance between airports, in miles.\n",
    "   - *hour, minute* Time of scheduled departure broken into hour and minutes.\n",
    "2. Identify the numerical and object columns. Do you find anything incorrectly detected? If yes, how to correct it?\n",
    "3. a. How many different destinations are present? How many destinations have less than 10 flights listed?    \n",
    "   b. Identify the top 3 carriers and compute what proportion of the flights do they have listed in this data?    \n",
    "4. Calculate the number of missing values for   \n",
    "    a. each column            \n",
    "    b. the whole dataframe             \n",
    "5. Perform descriptive statistics (standarad deviation, median) on the numerical columns"
   ]
  },
  {
   "cell_type": "markdown",
   "id": "1f1c37f2",
   "metadata": {},
   "source": [
    "Additional Reading (useful for exercise): \n",
    "\n",
    "https://pandas.pydata.org/pandas-docs/dev/reference/frame.html#computations-descriptive-stats"
   ]
  },
  {
   "cell_type": "code",
   "execution_count": 19,
   "id": "64c5658c-8b06-4d88-afce-a313fe6effd2",
   "metadata": {},
   "outputs": [
    {
     "data": {
      "text/html": [
       "<div>\n",
       "<style scoped>\n",
       "    .dataframe tbody tr th:only-of-type {\n",
       "        vertical-align: middle;\n",
       "    }\n",
       "\n",
       "    .dataframe tbody tr th {\n",
       "        vertical-align: top;\n",
       "    }\n",
       "\n",
       "    .dataframe thead th {\n",
       "        text-align: right;\n",
       "    }\n",
       "</style>\n",
       "<table border=\"1\" class=\"dataframe\">\n",
       "  <thead>\n",
       "    <tr style=\"text-align: right;\">\n",
       "      <th></th>\n",
       "      <th>year</th>\n",
       "      <th>month</th>\n",
       "      <th>day</th>\n",
       "      <th>dep_time</th>\n",
       "      <th>dep_delay</th>\n",
       "      <th>arr_time</th>\n",
       "      <th>arr_delay</th>\n",
       "      <th>carrier</th>\n",
       "      <th>tailnum</th>\n",
       "      <th>flight</th>\n",
       "      <th>origin</th>\n",
       "      <th>dest</th>\n",
       "      <th>air_time</th>\n",
       "      <th>distance</th>\n",
       "      <th>hour</th>\n",
       "      <th>minute</th>\n",
       "    </tr>\n",
       "  </thead>\n",
       "  <tbody>\n",
       "    <tr>\n",
       "      <th>0</th>\n",
       "      <td>2013</td>\n",
       "      <td>1</td>\n",
       "      <td>1</td>\n",
       "      <td>517.0</td>\n",
       "      <td>2.0</td>\n",
       "      <td>830.0</td>\n",
       "      <td>11.0</td>\n",
       "      <td>UA</td>\n",
       "      <td>N14228</td>\n",
       "      <td>1545</td>\n",
       "      <td>EWR</td>\n",
       "      <td>IAH</td>\n",
       "      <td>227.0</td>\n",
       "      <td>1400</td>\n",
       "      <td>5.0</td>\n",
       "      <td>17.0</td>\n",
       "    </tr>\n",
       "    <tr>\n",
       "      <th>1</th>\n",
       "      <td>2013</td>\n",
       "      <td>1</td>\n",
       "      <td>1</td>\n",
       "      <td>533.0</td>\n",
       "      <td>4.0</td>\n",
       "      <td>850.0</td>\n",
       "      <td>20.0</td>\n",
       "      <td>UA</td>\n",
       "      <td>N24211</td>\n",
       "      <td>1714</td>\n",
       "      <td>LGA</td>\n",
       "      <td>IAH</td>\n",
       "      <td>227.0</td>\n",
       "      <td>1416</td>\n",
       "      <td>5.0</td>\n",
       "      <td>33.0</td>\n",
       "    </tr>\n",
       "    <tr>\n",
       "      <th>2</th>\n",
       "      <td>2013</td>\n",
       "      <td>1</td>\n",
       "      <td>1</td>\n",
       "      <td>542.0</td>\n",
       "      <td>2.0</td>\n",
       "      <td>923.0</td>\n",
       "      <td>33.0</td>\n",
       "      <td>AA</td>\n",
       "      <td>N619AA</td>\n",
       "      <td>1141</td>\n",
       "      <td>JFK</td>\n",
       "      <td>MIA</td>\n",
       "      <td>160.0</td>\n",
       "      <td>1089</td>\n",
       "      <td>5.0</td>\n",
       "      <td>42.0</td>\n",
       "    </tr>\n",
       "    <tr>\n",
       "      <th>3</th>\n",
       "      <td>2013</td>\n",
       "      <td>1</td>\n",
       "      <td>1</td>\n",
       "      <td>544.0</td>\n",
       "      <td>-1.0</td>\n",
       "      <td>1004.0</td>\n",
       "      <td>-18.0</td>\n",
       "      <td>B6</td>\n",
       "      <td>N804JB</td>\n",
       "      <td>725</td>\n",
       "      <td>JFK</td>\n",
       "      <td>BQN</td>\n",
       "      <td>183.0</td>\n",
       "      <td>1576</td>\n",
       "      <td>5.0</td>\n",
       "      <td>44.0</td>\n",
       "    </tr>\n",
       "    <tr>\n",
       "      <th>4</th>\n",
       "      <td>2013</td>\n",
       "      <td>1</td>\n",
       "      <td>1</td>\n",
       "      <td>554.0</td>\n",
       "      <td>-6.0</td>\n",
       "      <td>812.0</td>\n",
       "      <td>-25.0</td>\n",
       "      <td>DL</td>\n",
       "      <td>N668DN</td>\n",
       "      <td>461</td>\n",
       "      <td>LGA</td>\n",
       "      <td>ATL</td>\n",
       "      <td>116.0</td>\n",
       "      <td>762</td>\n",
       "      <td>5.0</td>\n",
       "      <td>54.0</td>\n",
       "    </tr>\n",
       "  </tbody>\n",
       "</table>\n",
       "</div>"
      ],
      "text/plain": [
       "   year  month  day  dep_time  dep_delay  arr_time  arr_delay carrier tailnum  \\\n",
       "0  2013      1    1     517.0        2.0     830.0       11.0      UA  N14228   \n",
       "1  2013      1    1     533.0        4.0     850.0       20.0      UA  N24211   \n",
       "2  2013      1    1     542.0        2.0     923.0       33.0      AA  N619AA   \n",
       "3  2013      1    1     544.0       -1.0    1004.0      -18.0      B6  N804JB   \n",
       "4  2013      1    1     554.0       -6.0     812.0      -25.0      DL  N668DN   \n",
       "\n",
       "   flight origin dest  air_time  distance  hour  minute  \n",
       "0    1545    EWR  IAH     227.0      1400   5.0    17.0  \n",
       "1    1714    LGA  IAH     227.0      1416   5.0    33.0  \n",
       "2    1141    JFK  MIA     160.0      1089   5.0    42.0  \n",
       "3     725    JFK  BQN     183.0      1576   5.0    44.0  \n",
       "4     461    LGA  ATL     116.0       762   5.0    54.0  "
      ]
     },
     "execution_count": 19,
     "metadata": {},
     "output_type": "execute_result"
    }
   ],
   "source": [
    "import pandas as pd\n",
    "\n",
    "df = pd.read_csv('flights.csv')\n",
    "df.head()"
   ]
  },
  {
   "cell_type": "code",
   "execution_count": 21,
   "id": "779b503d-2a87-4976-a9ea-9c96fdadc6da",
   "metadata": {},
   "outputs": [
    {
     "name": "stdout",
     "output_type": "stream",
     "text": [
      "<class 'pandas.core.frame.DataFrame'>\n",
      "RangeIndex: 336776 entries, 0 to 336775\n",
      "Data columns (total 16 columns):\n",
      " #   Column     Non-Null Count   Dtype  \n",
      "---  ------     --------------   -----  \n",
      " 0   year       336776 non-null  int64  \n",
      " 1   month      336776 non-null  int64  \n",
      " 2   day        336776 non-null  int64  \n",
      " 3   dep_time   328521 non-null  float64\n",
      " 4   dep_delay  328521 non-null  float64\n",
      " 5   arr_time   328063 non-null  float64\n",
      " 6   arr_delay  327346 non-null  float64\n",
      " 7   carrier    336776 non-null  object \n",
      " 8   tailnum    334264 non-null  object \n",
      " 9   flight     336776 non-null  int64  \n",
      " 10  origin     336776 non-null  object \n",
      " 11  dest       336776 non-null  object \n",
      " 12  air_time   327346 non-null  float64\n",
      " 13  distance   336776 non-null  int64  \n",
      " 14  hour       328521 non-null  float64\n",
      " 15  minute     328521 non-null  float64\n",
      "dtypes: float64(7), int64(5), object(4)\n",
      "memory usage: 41.1+ MB\n"
     ]
    }
   ],
   "source": [
    "df.info()"
   ]
  },
  {
   "cell_type": "code",
   "execution_count": 23,
   "id": "d0db45b1-69cb-44b4-a66d-8920b5486495",
   "metadata": {},
   "outputs": [
    {
     "data": {
      "text/plain": [
       "(Index(['year', 'month', 'day', 'dep_time', 'dep_delay', 'arr_time',\n",
       "        'arr_delay', 'flight', 'air_time', 'distance', 'hour', 'minute'],\n",
       "       dtype='object'),\n",
       " Index(['carrier', 'tailnum', 'origin', 'dest'], dtype='object'))"
      ]
     },
     "execution_count": 23,
     "metadata": {},
     "output_type": "execute_result"
    }
   ],
   "source": [
    "num_cols = df.select_dtypes(include=['int64', 'float64']).columns\n",
    "obj_cols = df.select_dtypes(include=['object']).columns\n",
    "\n",
    "num_cols, obj_cols"
   ]
  },
  {
   "cell_type": "code",
   "execution_count": 25,
   "id": "8fa1311c-96a5-44e5-a70f-b96dd160aa6e",
   "metadata": {},
   "outputs": [],
   "source": [
    "df['dep_time'] = pd.to_datetime(df['dep_time'], format='%H%M', errors='coerce').dt.time\n"
   ]
  },
  {
   "cell_type": "code",
   "execution_count": 31,
   "id": "97dd299f-016d-4159-89cf-0fc47acbfc64",
   "metadata": {},
   "outputs": [
    {
     "data": {
      "text/plain": [
       "105"
      ]
     },
     "execution_count": 31,
     "metadata": {},
     "output_type": "execute_result"
    }
   ],
   "source": [
    "num_dest = df['dest'].nunique()\n",
    "num_dest"
   ]
  },
  {
   "cell_type": "code",
   "execution_count": 35,
   "id": "7e3a5279-b26c-4747-8b6e-a3f02929861b",
   "metadata": {},
   "outputs": [
    {
     "data": {
      "text/plain": [
       "3"
      ]
     },
     "execution_count": 35,
     "metadata": {},
     "output_type": "execute_result"
    }
   ],
   "source": [
    "dest_counts = df['dest'].value_counts()\n",
    "num_less10 = (dest_counts < 10).sum()\n",
    "num_less10"
   ]
  },
  {
   "cell_type": "code",
   "execution_count": 47,
   "id": "533cb12b-5664-41e5-87ef-a500701d4d3a",
   "metadata": {},
   "outputs": [
    {
     "name": "stdout",
     "output_type": "stream",
     "text": [
      "carrier\n",
      "UA    58665\n",
      "B6    54635\n",
      "EV    54173\n",
      "Name: count, dtype: int64 49.72830605506331\n"
     ]
    }
   ],
   "source": [
    "carrier_counts = df['carrier'].value_counts()\n",
    "top3 = carrier_counts.head(3)\n",
    "prop_top3 = (top3.sum() / len(df)) * 100\n",
    "print(top3, prop_top3)"
   ]
  },
  {
   "cell_type": "code",
   "execution_count": 49,
   "id": "97b8e85c-96b1-48b4-9bd5-2f17441f56b9",
   "metadata": {},
   "outputs": [
    {
     "data": {
      "text/plain": [
       "year            0\n",
       "month           0\n",
       "day             0\n",
       "dep_time     8512\n",
       "dep_delay    8255\n",
       "arr_time     8713\n",
       "arr_delay    9430\n",
       "carrier         0\n",
       "tailnum      2512\n",
       "flight          0\n",
       "origin          0\n",
       "dest            0\n",
       "air_time     9430\n",
       "distance        0\n",
       "hour         8255\n",
       "minute       8255\n",
       "dtype: int64"
      ]
     },
     "execution_count": 49,
     "metadata": {},
     "output_type": "execute_result"
    }
   ],
   "source": [
    "df.isnull().sum()\n"
   ]
  },
  {
   "cell_type": "code",
   "execution_count": 51,
   "id": "f2a3967e-5aa6-45bf-9c58-37df031a2af3",
   "metadata": {},
   "outputs": [
    {
     "data": {
      "text/plain": [
       "63362"
      ]
     },
     "execution_count": 51,
     "metadata": {},
     "output_type": "execute_result"
    }
   ],
   "source": [
    "df.isnull().sum().sum()\n"
   ]
  },
  {
   "cell_type": "code",
   "execution_count": 55,
   "id": "44ebdcd2-7fa1-4353-ad6b-2fe9a684b400",
   "metadata": {},
   "outputs": [
    {
     "data": {
      "text/html": [
       "<div>\n",
       "<style scoped>\n",
       "    .dataframe tbody tr th:only-of-type {\n",
       "        vertical-align: middle;\n",
       "    }\n",
       "\n",
       "    .dataframe tbody tr th {\n",
       "        vertical-align: top;\n",
       "    }\n",
       "\n",
       "    .dataframe thead th {\n",
       "        text-align: right;\n",
       "    }\n",
       "</style>\n",
       "<table border=\"1\" class=\"dataframe\">\n",
       "  <thead>\n",
       "    <tr style=\"text-align: right;\">\n",
       "      <th></th>\n",
       "      <th>std</th>\n",
       "      <th>50%</th>\n",
       "    </tr>\n",
       "  </thead>\n",
       "  <tbody>\n",
       "    <tr>\n",
       "      <th>year</th>\n",
       "      <td>0.000000</td>\n",
       "      <td>2013.0</td>\n",
       "    </tr>\n",
       "    <tr>\n",
       "      <th>month</th>\n",
       "      <td>3.414457</td>\n",
       "      <td>7.0</td>\n",
       "    </tr>\n",
       "    <tr>\n",
       "      <th>day</th>\n",
       "      <td>8.768607</td>\n",
       "      <td>16.0</td>\n",
       "    </tr>\n",
       "    <tr>\n",
       "      <th>dep_delay</th>\n",
       "      <td>40.210061</td>\n",
       "      <td>-2.0</td>\n",
       "    </tr>\n",
       "    <tr>\n",
       "      <th>arr_time</th>\n",
       "      <td>533.264132</td>\n",
       "      <td>1535.0</td>\n",
       "    </tr>\n",
       "    <tr>\n",
       "      <th>arr_delay</th>\n",
       "      <td>44.633292</td>\n",
       "      <td>-5.0</td>\n",
       "    </tr>\n",
       "    <tr>\n",
       "      <th>flight</th>\n",
       "      <td>1632.471938</td>\n",
       "      <td>1496.0</td>\n",
       "    </tr>\n",
       "    <tr>\n",
       "      <th>air_time</th>\n",
       "      <td>93.688305</td>\n",
       "      <td>129.0</td>\n",
       "    </tr>\n",
       "    <tr>\n",
       "      <th>distance</th>\n",
       "      <td>733.233033</td>\n",
       "      <td>872.0</td>\n",
       "    </tr>\n",
       "    <tr>\n",
       "      <th>hour</th>\n",
       "      <td>4.894426</td>\n",
       "      <td>14.0</td>\n",
       "    </tr>\n",
       "    <tr>\n",
       "      <th>minute</th>\n",
       "      <td>18.230997</td>\n",
       "      <td>31.0</td>\n",
       "    </tr>\n",
       "  </tbody>\n",
       "</table>\n",
       "</div>"
      ],
      "text/plain": [
       "                   std     50%\n",
       "year          0.000000  2013.0\n",
       "month         3.414457     7.0\n",
       "day           8.768607    16.0\n",
       "dep_delay    40.210061    -2.0\n",
       "arr_time    533.264132  1535.0\n",
       "arr_delay    44.633292    -5.0\n",
       "flight     1632.471938  1496.0\n",
       "air_time     93.688305   129.0\n",
       "distance    733.233033   872.0\n",
       "hour          4.894426    14.0\n",
       "minute       18.230997    31.0"
      ]
     },
     "execution_count": 55,
     "metadata": {},
     "output_type": "execute_result"
    }
   ],
   "source": [
    "df.describe().loc[['std','50%']].T\n"
   ]
  },
  {
   "cell_type": "code",
   "execution_count": null,
   "id": "afe05f89-7eaa-497b-a4f6-a8ea0d29ff71",
   "metadata": {},
   "outputs": [],
   "source": []
  }
 ],
 "metadata": {
  "kernelspec": {
   "display_name": "Python 3 (ipykernel)",
   "language": "python",
   "name": "python3"
  },
  "language_info": {
   "codemirror_mode": {
    "name": "ipython",
    "version": 3
   },
   "file_extension": ".py",
   "mimetype": "text/x-python",
   "name": "python",
   "nbconvert_exporter": "python",
   "pygments_lexer": "ipython3",
   "version": "3.12.4"
  }
 },
 "nbformat": 4,
 "nbformat_minor": 5
}
