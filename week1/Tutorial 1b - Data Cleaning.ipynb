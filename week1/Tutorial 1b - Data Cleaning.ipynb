{
 "cells": [
  {
   "cell_type": "markdown",
   "id": "1c0a923f",
   "metadata": {},
   "source": [
    "## Week 1 - Data cleaning "
   ]
  },
  {
   "cell_type": "markdown",
   "id": "cd7ca51a",
   "metadata": {},
   "source": [
    "#### What is data cleaning? \n",
    "Data cleaning is the process of identifying and removing/modifying the incorrect, duplicate or missing parts of the data to create a reliable dataset. Data cleaning is crucial for the success of Machine Learning applications. \n",
    "\n",
    "#### Why is data cleaning important? \n",
    "- Machine learning models learn from the data. This implies that the models will only be as good as the data provided.\n",
    "- Better data > complex algorithms\n",
    "\n",
    "#### How to perform  data cleaning? \n",
    "- Identify and remove rows with single values. If there is no variation in the feature, it is most likely to be useless for modelling. \n",
    "- Fix structural errors (no typographical errors and inconsistencies in upper or lower case for categorical features).\n",
    "- Handle missing values \n",
    "- Remove columns with constant or too many values.\n",
    "- Filter _unwanted_ outliers. \n",
    "- Remove unwanted (duplicate / irrelevant) observations.  \n",
    "- Check for invalid / inconsistent data and rectify where possible\n",
    "- Check for logical integrity of the data (if applicable)\n",
    "- Derive new features (if applicable) by combining or performing appropriate operations on the existing features\n",
    "\n",
    "Now, let's get started...\n",
    "\n",
    "For this tutorial, install matplotlib package in your virtual environment: `conda install matplotlib` and `conda install seaborn`"
   ]
  },
  {
   "cell_type": "markdown",
   "id": "79da268e",
   "metadata": {},
   "source": [
    "### Import Packages "
   ]
  },
  {
   "cell_type": "code",
   "execution_count": 1,
   "id": "3425c302",
   "metadata": {},
   "outputs": [],
   "source": [
    "import pandas as pd\n",
    "import numpy as np\n",
    "import matplotlib\n",
    "import matplotlib.pyplot as plt\n",
    "# to make the plots display inline \n",
    "%matplotlib inline "
   ]
  },
  {
   "cell_type": "code",
   "execution_count": 2,
   "id": "c9e79655",
   "metadata": {},
   "outputs": [
    {
     "data": {
      "text/html": [
       "<div>\n",
       "<style scoped>\n",
       "    .dataframe tbody tr th:only-of-type {\n",
       "        vertical-align: middle;\n",
       "    }\n",
       "\n",
       "    .dataframe tbody tr th {\n",
       "        vertical-align: top;\n",
       "    }\n",
       "\n",
       "    .dataframe thead th {\n",
       "        text-align: right;\n",
       "    }\n",
       "</style>\n",
       "<table border=\"1\" class=\"dataframe\">\n",
       "  <thead>\n",
       "    <tr style=\"text-align: right;\">\n",
       "      <th></th>\n",
       "      <th>ID</th>\n",
       "      <th>Insurance Type</th>\n",
       "      <th>Income of Policy Holder</th>\n",
       "      <th>Marital Status</th>\n",
       "      <th>Num Claimants</th>\n",
       "      <th>Injury Type</th>\n",
       "      <th>Overnight Hospital Stay</th>\n",
       "      <th>Claim Amount</th>\n",
       "      <th>Total Claimed</th>\n",
       "      <th>Num Claims</th>\n",
       "      <th>Num Soft Tissue</th>\n",
       "      <th>% Soft Tissue</th>\n",
       "      <th>Claim Amount Received</th>\n",
       "      <th>Fraud Flag</th>\n",
       "    </tr>\n",
       "  </thead>\n",
       "  <tbody>\n",
       "    <tr>\n",
       "      <th>0</th>\n",
       "      <td>1</td>\n",
       "      <td>CI</td>\n",
       "      <td>0</td>\n",
       "      <td>NaN</td>\n",
       "      <td>2</td>\n",
       "      <td>Soft Tissue</td>\n",
       "      <td>No</td>\n",
       "      <td>1625</td>\n",
       "      <td>3250</td>\n",
       "      <td>2</td>\n",
       "      <td>2.0</td>\n",
       "      <td>1.0</td>\n",
       "      <td>0</td>\n",
       "      <td>1</td>\n",
       "    </tr>\n",
       "    <tr>\n",
       "      <th>1</th>\n",
       "      <td>2</td>\n",
       "      <td>CI</td>\n",
       "      <td>0</td>\n",
       "      <td>NaN</td>\n",
       "      <td>2</td>\n",
       "      <td>Back</td>\n",
       "      <td>Yes</td>\n",
       "      <td>15028</td>\n",
       "      <td>60112</td>\n",
       "      <td>1</td>\n",
       "      <td>0.0</td>\n",
       "      <td>0.0</td>\n",
       "      <td>15028</td>\n",
       "      <td>0</td>\n",
       "    </tr>\n",
       "    <tr>\n",
       "      <th>2</th>\n",
       "      <td>3</td>\n",
       "      <td>CI</td>\n",
       "      <td>54613</td>\n",
       "      <td>Married</td>\n",
       "      <td>1</td>\n",
       "      <td>Broken Limb</td>\n",
       "      <td>No</td>\n",
       "      <td>-99999</td>\n",
       "      <td>0</td>\n",
       "      <td>0</td>\n",
       "      <td>0.0</td>\n",
       "      <td>0.0</td>\n",
       "      <td>572</td>\n",
       "      <td>0</td>\n",
       "    </tr>\n",
       "    <tr>\n",
       "      <th>3</th>\n",
       "      <td>4</td>\n",
       "      <td>CI</td>\n",
       "      <td>0</td>\n",
       "      <td>NaN</td>\n",
       "      <td>3</td>\n",
       "      <td>Serious</td>\n",
       "      <td>Yes</td>\n",
       "      <td>270200</td>\n",
       "      <td>0</td>\n",
       "      <td>0</td>\n",
       "      <td>0.0</td>\n",
       "      <td>0.0</td>\n",
       "      <td>270200</td>\n",
       "      <td>0</td>\n",
       "    </tr>\n",
       "    <tr>\n",
       "      <th>4</th>\n",
       "      <td>5</td>\n",
       "      <td>CI</td>\n",
       "      <td>0</td>\n",
       "      <td>NaN</td>\n",
       "      <td>4</td>\n",
       "      <td>Soft Tissue</td>\n",
       "      <td>No</td>\n",
       "      <td>8869</td>\n",
       "      <td>0</td>\n",
       "      <td>0</td>\n",
       "      <td>0.0</td>\n",
       "      <td>0.0</td>\n",
       "      <td>0</td>\n",
       "      <td>1</td>\n",
       "    </tr>\n",
       "  </tbody>\n",
       "</table>\n",
       "</div>"
      ],
      "text/plain": [
       "   ID Insurance Type   Income of Policy Holder Marital Status  Num Claimants  \\\n",
       "0   1              CI                        0            NaN              2   \n",
       "1   2              CI                        0            NaN              2   \n",
       "2   3              CI                    54613        Married              1   \n",
       "3   4              CI                        0            NaN              3   \n",
       "4   5              CI                        0            NaN              4   \n",
       "\n",
       "   Injury Type Overnight Hospital Stay  Claim Amount  Total Claimed  \\\n",
       "0  Soft Tissue                      No          1625           3250   \n",
       "1         Back                     Yes         15028          60112   \n",
       "2  Broken Limb                      No        -99999              0   \n",
       "3      Serious                     Yes        270200              0   \n",
       "4  Soft Tissue                      No          8869              0   \n",
       "\n",
       "   Num Claims  Num Soft Tissue  % Soft Tissue  Claim Amount Received  \\\n",
       "0           2              2.0            1.0                      0   \n",
       "1           1              0.0            0.0                  15028   \n",
       "2           0              0.0            0.0                    572   \n",
       "3           0              0.0            0.0                 270200   \n",
       "4           0              0.0            0.0                      0   \n",
       "\n",
       "   Fraud Flag  \n",
       "0           1  \n",
       "1           0  \n",
       "2           0  \n",
       "3           0  \n",
       "4           1  "
      ]
     },
     "execution_count": 2,
     "metadata": {},
     "output_type": "execute_result"
    }
   ],
   "source": [
    "# Reading from a csv file, into a data frame\n",
    "df = pd.read_csv('data/MotorInsuranceFraudClaimABTFull.csv')\n",
    "# Show data frame first few rows\n",
    "df.head()"
   ]
  },
  {
   "cell_type": "code",
   "execution_count": 3,
   "id": "23afe6ec",
   "metadata": {},
   "outputs": [
    {
     "data": {
      "text/plain": [
       "ID                           int64\n",
       "Insurance Type              object\n",
       "Income of Policy Holder      int64\n",
       "Marital Status              object\n",
       "Num Claimants                int64\n",
       "Injury Type                 object\n",
       "Overnight Hospital Stay     object\n",
       "Claim Amount                 int64\n",
       "Total Claimed                int64\n",
       "Num Claims                   int64\n",
       "Num Soft Tissue            float64\n",
       "% Soft Tissue              float64\n",
       "Claim Amount Received        int64\n",
       "Fraud Flag                   int64\n",
       "dtype: object"
      ]
     },
     "execution_count": 3,
     "metadata": {},
     "output_type": "execute_result"
    }
   ],
   "source": [
    "df.dtypes"
   ]
  },
  {
   "cell_type": "markdown",
   "id": "01a5d55a",
   "metadata": {},
   "source": [
    "### Clean the column names"
   ]
  },
  {
   "cell_type": "code",
   "execution_count": 4,
   "id": "80064f6a",
   "metadata": {},
   "outputs": [
    {
     "data": {
      "text/plain": [
       "Index(['ID', 'InsuranceType', 'IncomeofPolicyHolder', 'MaritalStatus',\n",
       "       'NumClaimants', 'InjuryType', 'OvernightHospitalStay', 'ClaimAmount',\n",
       "       'TotalClaimed', 'NumClaims', 'NumSoftTissue', '%SoftTissue',\n",
       "       'ClaimAmountReceived', 'FraudFlag'],\n",
       "      dtype='object')"
      ]
     },
     "execution_count": 4,
     "metadata": {},
     "output_type": "execute_result"
    }
   ],
   "source": [
    "# Clean the column names to remove white space after the name or in the name\n",
    "df.columns = df.columns.str.replace(' ', '')\n",
    "df.columns"
   ]
  },
  {
   "cell_type": "markdown",
   "id": "b36cd428",
   "metadata": {},
   "source": [
    "### Check the cardinality of the columns"
   ]
  },
  {
   "cell_type": "code",
   "execution_count": 5,
   "id": "1a743980",
   "metadata": {},
   "outputs": [
    {
     "data": {
      "text/plain": [
       "ID                       500\n",
       "InsuranceType              1\n",
       "IncomeofPolicyHolder     171\n",
       "MaritalStatus              3\n",
       "NumClaimants               4\n",
       "InjuryType                 4\n",
       "OvernightHospitalStay      2\n",
       "ClaimAmount              493\n",
       "TotalClaimed             235\n",
       "NumClaims                  7\n",
       "NumSoftTissue              5\n",
       "%SoftTissue                9\n",
       "ClaimAmountReceived      329\n",
       "FraudFlag                  2\n",
       "dtype: int64"
      ]
     },
     "execution_count": 5,
     "metadata": {},
     "output_type": "execute_result"
    }
   ],
   "source": [
    "# A way to get the number of unique values for all features\n",
    "df.nunique()"
   ]
  },
  {
   "cell_type": "markdown",
   "id": "92859f0c",
   "metadata": {},
   "source": [
    "InsuranceType contains only one value in the entire dataset. The machine learning models have no distinct pattern to learn from this feature. "
   ]
  },
  {
   "cell_type": "markdown",
   "id": "72c05ee8",
   "metadata": {},
   "source": [
    "### Check for typographical errors"
   ]
  },
  {
   "cell_type": "code",
   "execution_count": 6,
   "id": "0f9e2fff",
   "metadata": {},
   "outputs": [
    {
     "data": {
      "text/plain": [
       "ID                          int64\n",
       "InsuranceType            category\n",
       "IncomeofPolicyHolder        int64\n",
       "MaritalStatus            category\n",
       "NumClaimants                int64\n",
       "InjuryType               category\n",
       "OvernightHospitalStay    category\n",
       "ClaimAmount                 int64\n",
       "TotalClaimed                int64\n",
       "NumClaims                   int64\n",
       "NumSoftTissue             float64\n",
       "%SoftTissue               float64\n",
       "ClaimAmountReceived         int64\n",
       "FraudFlag                   int64\n",
       "dtype: object"
      ]
     },
     "execution_count": 6,
     "metadata": {},
     "output_type": "execute_result"
    }
   ],
   "source": [
    "# Convert object columns to category\n",
    "for column in df.select_dtypes(['object']).columns:\n",
    "    df[column] = df[column].astype('category')\n",
    "df.dtypes    "
   ]
  },
  {
   "cell_type": "markdown",
   "id": "42f6af24",
   "metadata": {},
   "source": [
    "Although `FraudFlag` is identified as numerical columns, they should rather be categorical. "
   ]
  },
  {
   "cell_type": "code",
   "execution_count": 7,
   "id": "79f22187",
   "metadata": {},
   "outputs": [],
   "source": [
    "df['FraudFlag'] = df['FraudFlag'].astype('category')\n",
    "df['ID'] = df['ID'].astype('object')"
   ]
  },
  {
   "cell_type": "code",
   "execution_count": 8,
   "id": "359d6876",
   "metadata": {},
   "outputs": [
    {
     "name": "stdout",
     "output_type": "stream",
     "text": [
      "CI    500\n",
      "Name: InsuranceType, dtype: int64 \n",
      "\n",
      "Married     99\n",
      "Single      48\n",
      "Divorced    23\n",
      "Name: MaritalStatus, dtype: int64 \n",
      "\n",
      "Broken Limb    177\n",
      "Soft Tissue    172\n",
      "Back           116\n",
      "Serious         35\n",
      "Name: InjuryType, dtype: int64 \n",
      "\n",
      "No     354\n",
      "Yes    146\n",
      "Name: OvernightHospitalStay, dtype: int64 \n",
      "\n",
      "0    332\n",
      "1    168\n",
      "Name: FraudFlag, dtype: int64 \n",
      "\n"
     ]
    }
   ],
   "source": [
    "category_columns = df.select_dtypes(['category']).columns\n",
    "for column in category_columns:\n",
    "    print(df[column].value_counts(), '\\n')"
   ]
  },
  {
   "cell_type": "markdown",
   "id": "b6a349c2",
   "metadata": {},
   "source": [
    "Categorical values do not have any typographical errors"
   ]
  },
  {
   "cell_type": "markdown",
   "id": "18b7f4c4",
   "metadata": {},
   "source": [
    "### Check for missing values"
   ]
  },
  {
   "cell_type": "code",
   "execution_count": 9,
   "id": "d1a74c47",
   "metadata": {},
   "outputs": [
    {
     "data": {
      "text/plain": [
       "ID                        0.0\n",
       "InsuranceType             0.0\n",
       "IncomeofPolicyHolder      0.0\n",
       "MaritalStatus            66.0\n",
       "NumClaimants              0.0\n",
       "InjuryType                0.0\n",
       "OvernightHospitalStay     0.0\n",
       "ClaimAmount               0.0\n",
       "TotalClaimed              0.0\n",
       "NumClaims                 0.0\n",
       "NumSoftTissue             2.0\n",
       "%SoftTissue               0.0\n",
       "ClaimAmountReceived       0.0\n",
       "FraudFlag                 0.0\n",
       "dtype: float64"
      ]
     },
     "execution_count": 9,
     "metadata": {},
     "output_type": "execute_result"
    }
   ],
   "source": [
    "#% of missing data for all features\n",
    "100 * (df.isnull().sum()/df.shape[0])"
   ]
  },
  {
   "cell_type": "markdown",
   "id": "d1f9671b",
   "metadata": {},
   "source": [
    "`MaritalStatus` has missing data for ~two-thirds of the dataset."
   ]
  },
  {
   "cell_type": "markdown",
   "id": "a3564775",
   "metadata": {},
   "source": [
    "### Check for outliers"
   ]
  },
  {
   "cell_type": "markdown",
   "id": "94ee9211",
   "metadata": {},
   "source": [
    "Outliers are unusually high/low values compared to the other observations in the data.     \n",
    "Visual approach make it easier to identify the distribution of values and in spotting unusual obserations in the data."
   ]
  },
  {
   "cell_type": "code",
   "execution_count": 10,
   "id": "a7f555ec",
   "metadata": {},
   "outputs": [],
   "source": [
    "params = {'axes.titlesize':'20',\n",
    "          'xtick.labelsize':'14',\n",
    "          'ytick.labelsize':'14'}\n",
    "matplotlib.rcParams.update(params)"
   ]
  },
  {
   "cell_type": "code",
   "execution_count": 11,
   "id": "ebf57d6f",
   "metadata": {},
   "outputs": [
    {
     "data": {
      "image/png": "[encoded data removed]",
      "text/plain": [
       "<Figure size 1440x1800 with 8 Axes>"
      ]
     },
     "metadata": {
      "needs_background": "light"
     },
     "output_type": "display_data"
    }
   ],
   "source": [
    "# add semicolon at the end of the code to avoid displaying matplotlib objects\n",
    "# df.hist plots the distribution of the numerical features \n",
    "df.hist(figsize=(20, 25), layout=(4,2));\n",
    "plt.grid(b=True, which='major', color='#666666', linestyle='-')"
   ]
  },
  {
   "cell_type": "markdown",
   "id": "d5c25cd6",
   "metadata": {},
   "source": [
    "From the histograms we can quickly see potential invalid data such as negative numbers (ClaimAmount < 0) or very large numbers (TotalClaimed > 700k) or very man zeroes (IncomeofPolicyHolder). Another way to see outliers and potential errors is to look at boxplots for each feature."
   ]
  },
  {
   "cell_type": "code",
   "execution_count": 12,
   "id": "4dbad3f1",
   "metadata": {},
   "outputs": [
    {
     "data": {
      "image/png": "[encoded data removed]",
      "text/plain": [
       "<Figure size 1440x1800 with 8 Axes>"
      ]
     },
     "metadata": {
      "needs_background": "light"
     },
     "output_type": "display_data"
    }
   ],
   "source": [
    "numeric_columns = df.select_dtypes(['int64', 'float64']).columns\n",
    "df[numeric_columns].plot(kind='box', subplots=True, figsize=(20,25), layout=(4, 2), sharex=False, sharey=False);"
   ]
  },
  {
   "cell_type": "code",
   "execution_count": 13,
   "id": "5060bd42",
   "metadata": {},
   "outputs": [
    {
     "data": {
      "image/png": "[encoded data removed]",
      "text/plain": [
       "<Figure size 504x360 with 1 Axes>"
      ]
     },
     "metadata": {
      "needs_background": "light"
     },
     "output_type": "display_data"
    },
    {
     "data": {
      "image/png": "[encoded data removed]",
      "text/plain": [
       "<Figure size 504x360 with 1 Axes>"
      ]
     },
     "metadata": {
      "needs_background": "light"
     },
     "output_type": "display_data"
    },
    {
     "data": {
      "image/png": "[encoded data removed]",
      "text/plain": [
       "<Figure size 504x360 with 1 Axes>"
      ]
     },
     "metadata": {
      "needs_background": "light"
     },
     "output_type": "display_data"
    },
    {
     "data": {
      "image/png": "[encoded data removed]",
      "text/plain": [
       "<Figure size 504x360 with 1 Axes>"
      ]
     },
     "metadata": {
      "needs_background": "light"
     },
     "output_type": "display_data"
    },
    {
     "data": {
      "image/png": "[encoded data removed]",
      "text/plain": [
       "<Figure size 504x360 with 1 Axes>"
      ]
     },
     "metadata": {
      "needs_background": "light"
     },
     "output_type": "display_data"
    }
   ],
   "source": [
    "categorical_columns = df.select_dtypes(['category']).columns\n",
    "for column in category_columns:\n",
    "    df[column].value_counts(dropna=False).plot(kind='bar', title=column, figsize=(7,5), rot=0)\n",
    "    plt.show()"
   ]
  },
  {
   "cell_type": "markdown",
   "id": "7819aae9",
   "metadata": {},
   "source": [
    "From the barplots of categorical features we note that InsuranceType has a cardinality of 1 and that MaritalStatus has many missing values. "
   ]
  },
  {
   "cell_type": "markdown",
   "id": "77e7f676",
   "metadata": {},
   "source": [
    "### Summary of the issues in data and potential handling strategies"
   ]
  },
  {
   "cell_type": "markdown",
   "id": "ba46ebc6",
   "metadata": {},
   "source": [
    "    \n",
    "| Feature                 | Data Quality Issue         | Handling Strategy         |\n",
    "|-------------------------|----------------------      |------------------------   |\n",
    "|ID (object)                          |   Unique identifier not to be used as feature in data preparation|Keep to be able to link example to actual customer, but do not use for data preparation|\n",
    "InsuranceType (category)             | Irregular Cardinality (1)              | Constant column, drop feature       \n",
    "IncomeofPolicyHolder (int64)       | More than 50% values are 0 | Investigate cause and decide what to do with this feature|\n",
    "MaritalStatus (category)             | Missing Values (66%)       | Too many missing values, drop feature  | \n",
    "NumClaimants (int64)                 | None | Keep as is|   \n",
    "InjuryType (category)                | None | Keep as is|\n",
    "OvernightHospitalStay (category)    | None | Keep as is|\n",
    "ClaimAmount (int64)         | Negative feature value (-99999) | Investigate cause of error and how many rows are affected. If invalid data and only few rows affected, drop rows|\n",
    "ClaimAmount (int64)                  | Outliers (high) | Clamp high outliers to the 95th percentile |\n",
    "TotalClaimed (int64)                 | Outlier, very large value (729k) | Investigate rows where this value appears. If invalid data and only few rows affected, drop rows |    \n",
    "NumClaims (int64)                    | Outlier, very large value (>50) | Investigate rows where this value appears. If invalid data and only few rows affected, drop rows  |   \n",
    "NumSoft Tissue (float64)             | Missing values (2%) | Investigate rows affected, consider imputation |\n",
    "%SoftTissue (float64)               | None | Keep as is|\n",
    "ClaimAmountReceived (int64)         | Outliers (high) | Clamp high outliers to the 95th percentile|\n",
    "FraudFlag                 (category) |Unbalanced number of 0 and 1 (proportion of 0: 66%)  | Leave as is; may consider sampling strategies to balance the training dataset|"
   ]
  },
  {
   "cell_type": "markdown",
   "id": "03ba76aa",
   "metadata": {},
   "source": [
    "### Clean the data using the strategies:"
   ]
  },
  {
   "cell_type": "code",
   "execution_count": 14,
   "id": "cdc1fb36",
   "metadata": {},
   "outputs": [],
   "source": [
    "# Keep a copy of the original data\n",
    "df_raw = df.copy()"
   ]
  },
  {
   "cell_type": "code",
   "execution_count": 15,
   "id": "20cc875c",
   "metadata": {},
   "outputs": [
    {
     "data": {
      "text/html": [
       "<div>\n",
       "<style scoped>\n",
       "    .dataframe tbody tr th:only-of-type {\n",
       "        vertical-align: middle;\n",
       "    }\n",
       "\n",
       "    .dataframe tbody tr th {\n",
       "        vertical-align: top;\n",
       "    }\n",
       "\n",
       "    .dataframe thead th {\n",
       "        text-align: right;\n",
       "    }\n",
       "</style>\n",
       "<table border=\"1\" class=\"dataframe\">\n",
       "  <thead>\n",
       "    <tr style=\"text-align: right;\">\n",
       "      <th></th>\n",
       "      <th>ID</th>\n",
       "      <th>IncomeofPolicyHolder</th>\n",
       "      <th>MaritalStatus</th>\n",
       "      <th>NumClaimants</th>\n",
       "      <th>InjuryType</th>\n",
       "      <th>OvernightHospitalStay</th>\n",
       "      <th>ClaimAmount</th>\n",
       "      <th>TotalClaimed</th>\n",
       "      <th>NumClaims</th>\n",
       "      <th>NumSoftTissue</th>\n",
       "      <th>%SoftTissue</th>\n",
       "      <th>ClaimAmountReceived</th>\n",
       "      <th>FraudFlag</th>\n",
       "    </tr>\n",
       "  </thead>\n",
       "  <tbody>\n",
       "    <tr>\n",
       "      <th>0</th>\n",
       "      <td>1</td>\n",
       "      <td>0</td>\n",
       "      <td>NaN</td>\n",
       "      <td>2</td>\n",
       "      <td>Soft Tissue</td>\n",
       "      <td>No</td>\n",
       "      <td>1625</td>\n",
       "      <td>3250</td>\n",
       "      <td>2</td>\n",
       "      <td>2.0</td>\n",
       "      <td>1.0</td>\n",
       "      <td>0</td>\n",
       "      <td>1</td>\n",
       "    </tr>\n",
       "    <tr>\n",
       "      <th>1</th>\n",
       "      <td>2</td>\n",
       "      <td>0</td>\n",
       "      <td>NaN</td>\n",
       "      <td>2</td>\n",
       "      <td>Back</td>\n",
       "      <td>Yes</td>\n",
       "      <td>15028</td>\n",
       "      <td>60112</td>\n",
       "      <td>1</td>\n",
       "      <td>0.0</td>\n",
       "      <td>0.0</td>\n",
       "      <td>15028</td>\n",
       "      <td>0</td>\n",
       "    </tr>\n",
       "    <tr>\n",
       "      <th>2</th>\n",
       "      <td>3</td>\n",
       "      <td>54613</td>\n",
       "      <td>Married</td>\n",
       "      <td>1</td>\n",
       "      <td>Broken Limb</td>\n",
       "      <td>No</td>\n",
       "      <td>-99999</td>\n",
       "      <td>0</td>\n",
       "      <td>0</td>\n",
       "      <td>0.0</td>\n",
       "      <td>0.0</td>\n",
       "      <td>572</td>\n",
       "      <td>0</td>\n",
       "    </tr>\n",
       "    <tr>\n",
       "      <th>3</th>\n",
       "      <td>4</td>\n",
       "      <td>0</td>\n",
       "      <td>NaN</td>\n",
       "      <td>3</td>\n",
       "      <td>Serious</td>\n",
       "      <td>Yes</td>\n",
       "      <td>270200</td>\n",
       "      <td>0</td>\n",
       "      <td>0</td>\n",
       "      <td>0.0</td>\n",
       "      <td>0.0</td>\n",
       "      <td>270200</td>\n",
       "      <td>0</td>\n",
       "    </tr>\n",
       "    <tr>\n",
       "      <th>4</th>\n",
       "      <td>5</td>\n",
       "      <td>0</td>\n",
       "      <td>NaN</td>\n",
       "      <td>4</td>\n",
       "      <td>Soft Tissue</td>\n",
       "      <td>No</td>\n",
       "      <td>8869</td>\n",
       "      <td>0</td>\n",
       "      <td>0</td>\n",
       "      <td>0.0</td>\n",
       "      <td>0.0</td>\n",
       "      <td>0</td>\n",
       "      <td>1</td>\n",
       "    </tr>\n",
       "  </tbody>\n",
       "</table>\n",
       "</div>"
      ],
      "text/plain": [
       "  ID  IncomeofPolicyHolder MaritalStatus  NumClaimants   InjuryType  \\\n",
       "0  1                     0           NaN             2  Soft Tissue   \n",
       "1  2                     0           NaN             2         Back   \n",
       "2  3                 54613       Married             1  Broken Limb   \n",
       "3  4                     0           NaN             3      Serious   \n",
       "4  5                     0           NaN             4  Soft Tissue   \n",
       "\n",
       "  OvernightHospitalStay  ClaimAmount  TotalClaimed  NumClaims  NumSoftTissue  \\\n",
       "0                    No         1625          3250          2            2.0   \n",
       "1                   Yes        15028         60112          1            0.0   \n",
       "2                    No       -99999             0          0            0.0   \n",
       "3                   Yes       270200             0          0            0.0   \n",
       "4                    No         8869             0          0            0.0   \n",
       "\n",
       "   %SoftTissue  ClaimAmountReceived FraudFlag  \n",
       "0          1.0                    0         1  \n",
       "1          0.0                15028         0  \n",
       "2          0.0                  572         0  \n",
       "3          0.0               270200         0  \n",
       "4          0.0                    0         1  "
      ]
     },
     "execution_count": 15,
     "metadata": {},
     "output_type": "execute_result"
    }
   ],
   "source": [
    "# Drop column InsuranceType\n",
    "df = df.drop('InsuranceType', axis=1)\n",
    "df.head()"
   ]
  },
  {
   "cell_type": "code",
   "execution_count": 16,
   "id": "b13044d4",
   "metadata": {},
   "outputs": [
    {
     "data": {
      "text/html": [
       "<div>\n",
       "<style scoped>\n",
       "    .dataframe tbody tr th:only-of-type {\n",
       "        vertical-align: middle;\n",
       "    }\n",
       "\n",
       "    .dataframe tbody tr th {\n",
       "        vertical-align: top;\n",
       "    }\n",
       "\n",
       "    .dataframe thead th {\n",
       "        text-align: right;\n",
       "    }\n",
       "</style>\n",
       "<table border=\"1\" class=\"dataframe\">\n",
       "  <thead>\n",
       "    <tr style=\"text-align: right;\">\n",
       "      <th></th>\n",
       "      <th>ID</th>\n",
       "      <th>IncomeofPolicyHolder</th>\n",
       "      <th>MaritalStatus</th>\n",
       "      <th>NumClaimants</th>\n",
       "      <th>InjuryType</th>\n",
       "      <th>OvernightHospitalStay</th>\n",
       "      <th>ClaimAmount</th>\n",
       "      <th>TotalClaimed</th>\n",
       "      <th>NumClaims</th>\n",
       "      <th>NumSoftTissue</th>\n",
       "      <th>%SoftTissue</th>\n",
       "      <th>ClaimAmountReceived</th>\n",
       "      <th>FraudFlag</th>\n",
       "    </tr>\n",
       "  </thead>\n",
       "  <tbody>\n",
       "    <tr>\n",
       "      <th>0</th>\n",
       "      <td>1</td>\n",
       "      <td>0</td>\n",
       "      <td>NaN</td>\n",
       "      <td>2</td>\n",
       "      <td>Soft Tissue</td>\n",
       "      <td>No</td>\n",
       "      <td>1625</td>\n",
       "      <td>3250</td>\n",
       "      <td>2</td>\n",
       "      <td>2.0</td>\n",
       "      <td>1.0</td>\n",
       "      <td>0</td>\n",
       "      <td>1</td>\n",
       "    </tr>\n",
       "    <tr>\n",
       "      <th>1</th>\n",
       "      <td>2</td>\n",
       "      <td>0</td>\n",
       "      <td>NaN</td>\n",
       "      <td>2</td>\n",
       "      <td>Back</td>\n",
       "      <td>Yes</td>\n",
       "      <td>15028</td>\n",
       "      <td>60112</td>\n",
       "      <td>1</td>\n",
       "      <td>0.0</td>\n",
       "      <td>0.0</td>\n",
       "      <td>15028</td>\n",
       "      <td>0</td>\n",
       "    </tr>\n",
       "    <tr>\n",
       "      <th>3</th>\n",
       "      <td>4</td>\n",
       "      <td>0</td>\n",
       "      <td>NaN</td>\n",
       "      <td>3</td>\n",
       "      <td>Serious</td>\n",
       "      <td>Yes</td>\n",
       "      <td>270200</td>\n",
       "      <td>0</td>\n",
       "      <td>0</td>\n",
       "      <td>0.0</td>\n",
       "      <td>0.0</td>\n",
       "      <td>270200</td>\n",
       "      <td>0</td>\n",
       "    </tr>\n",
       "    <tr>\n",
       "      <th>4</th>\n",
       "      <td>5</td>\n",
       "      <td>0</td>\n",
       "      <td>NaN</td>\n",
       "      <td>4</td>\n",
       "      <td>Soft Tissue</td>\n",
       "      <td>No</td>\n",
       "      <td>8869</td>\n",
       "      <td>0</td>\n",
       "      <td>0</td>\n",
       "      <td>0.0</td>\n",
       "      <td>0.0</td>\n",
       "      <td>0</td>\n",
       "      <td>1</td>\n",
       "    </tr>\n",
       "    <tr>\n",
       "      <th>5</th>\n",
       "      <td>6</td>\n",
       "      <td>0</td>\n",
       "      <td>NaN</td>\n",
       "      <td>1</td>\n",
       "      <td>Broken Limb</td>\n",
       "      <td>Yes</td>\n",
       "      <td>17480</td>\n",
       "      <td>0</td>\n",
       "      <td>0</td>\n",
       "      <td>0.0</td>\n",
       "      <td>0.0</td>\n",
       "      <td>17480</td>\n",
       "      <td>0</td>\n",
       "    </tr>\n",
       "    <tr>\n",
       "      <th>...</th>\n",
       "      <td>...</td>\n",
       "      <td>...</td>\n",
       "      <td>...</td>\n",
       "      <td>...</td>\n",
       "      <td>...</td>\n",
       "      <td>...</td>\n",
       "      <td>...</td>\n",
       "      <td>...</td>\n",
       "      <td>...</td>\n",
       "      <td>...</td>\n",
       "      <td>...</td>\n",
       "      <td>...</td>\n",
       "      <td>...</td>\n",
       "    </tr>\n",
       "    <tr>\n",
       "      <th>492</th>\n",
       "      <td>493</td>\n",
       "      <td>0</td>\n",
       "      <td>NaN</td>\n",
       "      <td>1</td>\n",
       "      <td>Soft Tissue</td>\n",
       "      <td>Yes</td>\n",
       "      <td>2569</td>\n",
       "      <td>20055</td>\n",
       "      <td>1</td>\n",
       "      <td>NaN</td>\n",
       "      <td>0.0</td>\n",
       "      <td>2569</td>\n",
       "      <td>0</td>\n",
       "    </tr>\n",
       "    <tr>\n",
       "      <th>494</th>\n",
       "      <td>495</td>\n",
       "      <td>0</td>\n",
       "      <td>NaN</td>\n",
       "      <td>2</td>\n",
       "      <td>Back</td>\n",
       "      <td>No</td>\n",
       "      <td>3813</td>\n",
       "      <td>9882</td>\n",
       "      <td>3</td>\n",
       "      <td>0.0</td>\n",
       "      <td>0.0</td>\n",
       "      <td>0</td>\n",
       "      <td>1</td>\n",
       "    </tr>\n",
       "    <tr>\n",
       "      <th>495</th>\n",
       "      <td>496</td>\n",
       "      <td>0</td>\n",
       "      <td>NaN</td>\n",
       "      <td>1</td>\n",
       "      <td>Soft Tissue</td>\n",
       "      <td>No</td>\n",
       "      <td>2118</td>\n",
       "      <td>0</td>\n",
       "      <td>0</td>\n",
       "      <td>0.0</td>\n",
       "      <td>0.0</td>\n",
       "      <td>0</td>\n",
       "      <td>1</td>\n",
       "    </tr>\n",
       "    <tr>\n",
       "      <th>497</th>\n",
       "      <td>498</td>\n",
       "      <td>0</td>\n",
       "      <td>NaN</td>\n",
       "      <td>1</td>\n",
       "      <td>Broken Limb</td>\n",
       "      <td>Yes</td>\n",
       "      <td>32469</td>\n",
       "      <td>0</td>\n",
       "      <td>0</td>\n",
       "      <td>0.0</td>\n",
       "      <td>0.0</td>\n",
       "      <td>16763</td>\n",
       "      <td>0</td>\n",
       "    </tr>\n",
       "    <tr>\n",
       "      <th>499</th>\n",
       "      <td>500</td>\n",
       "      <td>0</td>\n",
       "      <td>NaN</td>\n",
       "      <td>1</td>\n",
       "      <td>Broken Limb</td>\n",
       "      <td>No</td>\n",
       "      <td>8259</td>\n",
       "      <td>0</td>\n",
       "      <td>0</td>\n",
       "      <td>0.0</td>\n",
       "      <td>0.0</td>\n",
       "      <td>0</td>\n",
       "      <td>1</td>\n",
       "    </tr>\n",
       "  </tbody>\n",
       "</table>\n",
       "<p>330 rows × 13 columns</p>\n",
       "</div>"
      ],
      "text/plain": [
       "      ID  IncomeofPolicyHolder MaritalStatus  NumClaimants   InjuryType  \\\n",
       "0      1                     0           NaN             2  Soft Tissue   \n",
       "1      2                     0           NaN             2         Back   \n",
       "3      4                     0           NaN             3      Serious   \n",
       "4      5                     0           NaN             4  Soft Tissue   \n",
       "5      6                     0           NaN             1  Broken Limb   \n",
       "..   ...                   ...           ...           ...          ...   \n",
       "492  493                     0           NaN             1  Soft Tissue   \n",
       "494  495                     0           NaN             2         Back   \n",
       "495  496                     0           NaN             1  Soft Tissue   \n",
       "497  498                     0           NaN             1  Broken Limb   \n",
       "499  500                     0           NaN             1  Broken Limb   \n",
       "\n",
       "    OvernightHospitalStay  ClaimAmount  TotalClaimed  NumClaims  \\\n",
       "0                      No         1625          3250          2   \n",
       "1                     Yes        15028         60112          1   \n",
       "3                     Yes       270200             0          0   \n",
       "4                      No         8869             0          0   \n",
       "5                     Yes        17480             0          0   \n",
       "..                    ...          ...           ...        ...   \n",
       "492                   Yes         2569         20055          1   \n",
       "494                    No         3813          9882          3   \n",
       "495                    No         2118             0          0   \n",
       "497                   Yes        32469             0          0   \n",
       "499                    No         8259             0          0   \n",
       "\n",
       "     NumSoftTissue  %SoftTissue  ClaimAmountReceived FraudFlag  \n",
       "0              2.0          1.0                    0         1  \n",
       "1              0.0          0.0                15028         0  \n",
       "3              0.0          0.0               270200         0  \n",
       "4              0.0          0.0                    0         1  \n",
       "5              0.0          0.0                17480         0  \n",
       "..             ...          ...                  ...       ...  \n",
       "492            NaN          0.0                 2569         0  \n",
       "494            0.0          0.0                    0         1  \n",
       "495            0.0          0.0                    0         1  \n",
       "497            0.0          0.0                16763         0  \n",
       "499            0.0          0.0                    0         1  \n",
       "\n",
       "[330 rows x 13 columns]"
      ]
     },
     "execution_count": 16,
     "metadata": {},
     "output_type": "execute_result"
    }
   ],
   "source": [
    "df[df['IncomeofPolicyHolder'] == 0]"
   ]
  },
  {
   "cell_type": "code",
   "execution_count": 17,
   "id": "f2e02643",
   "metadata": {},
   "outputs": [
    {
     "data": {
      "text/plain": [
       "(330, 13)"
      ]
     },
     "execution_count": 17,
     "metadata": {},
     "output_type": "execute_result"
    }
   ],
   "source": [
    "df[df['IncomeofPolicyHolder'] == 0].shape"
   ]
  },
  {
   "cell_type": "code",
   "execution_count": 18,
   "id": "0005faf3",
   "metadata": {},
   "outputs": [
    {
     "data": {
      "text/plain": [
       "(330, 13)"
      ]
     },
     "execution_count": 18,
     "metadata": {},
     "output_type": "execute_result"
    }
   ],
   "source": [
    "df[df['MaritalStatus'].isnull()].shape"
   ]
  },
  {
   "cell_type": "markdown",
   "id": "b0397236",
   "metadata": {},
   "source": [
    "Seems like records for which `IncomeofPolicyHolder` is 0, `MarritalStatus` is also null. Therefore, it is better to drop both these features for now. "
   ]
  },
  {
   "cell_type": "code",
   "execution_count": 19,
   "id": "dc1944c0",
   "metadata": {},
   "outputs": [
    {
     "data": {
      "text/html": [
       "<div>\n",
       "<style scoped>\n",
       "    .dataframe tbody tr th:only-of-type {\n",
       "        vertical-align: middle;\n",
       "    }\n",
       "\n",
       "    .dataframe tbody tr th {\n",
       "        vertical-align: top;\n",
       "    }\n",
       "\n",
       "    .dataframe thead th {\n",
       "        text-align: right;\n",
       "    }\n",
       "</style>\n",
       "<table border=\"1\" class=\"dataframe\">\n",
       "  <thead>\n",
       "    <tr style=\"text-align: right;\">\n",
       "      <th></th>\n",
       "      <th>ID</th>\n",
       "      <th>NumClaimants</th>\n",
       "      <th>InjuryType</th>\n",
       "      <th>OvernightHospitalStay</th>\n",
       "      <th>ClaimAmount</th>\n",
       "      <th>TotalClaimed</th>\n",
       "      <th>NumClaims</th>\n",
       "      <th>NumSoftTissue</th>\n",
       "      <th>%SoftTissue</th>\n",
       "      <th>ClaimAmountReceived</th>\n",
       "      <th>FraudFlag</th>\n",
       "    </tr>\n",
       "  </thead>\n",
       "  <tbody>\n",
       "    <tr>\n",
       "      <th>0</th>\n",
       "      <td>1</td>\n",
       "      <td>2</td>\n",
       "      <td>Soft Tissue</td>\n",
       "      <td>No</td>\n",
       "      <td>1625</td>\n",
       "      <td>3250</td>\n",
       "      <td>2</td>\n",
       "      <td>2.0</td>\n",
       "      <td>1.0</td>\n",
       "      <td>0</td>\n",
       "      <td>1</td>\n",
       "    </tr>\n",
       "    <tr>\n",
       "      <th>1</th>\n",
       "      <td>2</td>\n",
       "      <td>2</td>\n",
       "      <td>Back</td>\n",
       "      <td>Yes</td>\n",
       "      <td>15028</td>\n",
       "      <td>60112</td>\n",
       "      <td>1</td>\n",
       "      <td>0.0</td>\n",
       "      <td>0.0</td>\n",
       "      <td>15028</td>\n",
       "      <td>0</td>\n",
       "    </tr>\n",
       "    <tr>\n",
       "      <th>2</th>\n",
       "      <td>3</td>\n",
       "      <td>1</td>\n",
       "      <td>Broken Limb</td>\n",
       "      <td>No</td>\n",
       "      <td>-99999</td>\n",
       "      <td>0</td>\n",
       "      <td>0</td>\n",
       "      <td>0.0</td>\n",
       "      <td>0.0</td>\n",
       "      <td>572</td>\n",
       "      <td>0</td>\n",
       "    </tr>\n",
       "    <tr>\n",
       "      <th>3</th>\n",
       "      <td>4</td>\n",
       "      <td>3</td>\n",
       "      <td>Serious</td>\n",
       "      <td>Yes</td>\n",
       "      <td>270200</td>\n",
       "      <td>0</td>\n",
       "      <td>0</td>\n",
       "      <td>0.0</td>\n",
       "      <td>0.0</td>\n",
       "      <td>270200</td>\n",
       "      <td>0</td>\n",
       "    </tr>\n",
       "    <tr>\n",
       "      <th>4</th>\n",
       "      <td>5</td>\n",
       "      <td>4</td>\n",
       "      <td>Soft Tissue</td>\n",
       "      <td>No</td>\n",
       "      <td>8869</td>\n",
       "      <td>0</td>\n",
       "      <td>0</td>\n",
       "      <td>0.0</td>\n",
       "      <td>0.0</td>\n",
       "      <td>0</td>\n",
       "      <td>1</td>\n",
       "    </tr>\n",
       "  </tbody>\n",
       "</table>\n",
       "</div>"
      ],
      "text/plain": [
       "  ID  NumClaimants   InjuryType OvernightHospitalStay  ClaimAmount  \\\n",
       "0  1             2  Soft Tissue                    No         1625   \n",
       "1  2             2         Back                   Yes        15028   \n",
       "2  3             1  Broken Limb                    No       -99999   \n",
       "3  4             3      Serious                   Yes       270200   \n",
       "4  5             4  Soft Tissue                    No         8869   \n",
       "\n",
       "   TotalClaimed  NumClaims  NumSoftTissue  %SoftTissue  ClaimAmountReceived  \\\n",
       "0          3250          2            2.0          1.0                    0   \n",
       "1         60112          1            0.0          0.0                15028   \n",
       "2             0          0            0.0          0.0                  572   \n",
       "3             0          0            0.0          0.0               270200   \n",
       "4             0          0            0.0          0.0                    0   \n",
       "\n",
       "  FraudFlag  \n",
       "0         1  \n",
       "1         0  \n",
       "2         0  \n",
       "3         0  \n",
       "4         1  "
      ]
     },
     "execution_count": 19,
     "metadata": {},
     "output_type": "execute_result"
    }
   ],
   "source": [
    "# Drop column IncomeofPolicyHolder and MaritalStatus\n",
    "df = df.drop(['IncomeofPolicyHolder', 'MaritalStatus'], axis=1)\n",
    "df.head()"
   ]
  },
  {
   "cell_type": "code",
   "execution_count": 20,
   "id": "d7d200cd",
   "metadata": {},
   "outputs": [
    {
     "data": {
      "text/html": [
       "<div>\n",
       "<style scoped>\n",
       "    .dataframe tbody tr th:only-of-type {\n",
       "        vertical-align: middle;\n",
       "    }\n",
       "\n",
       "    .dataframe tbody tr th {\n",
       "        vertical-align: top;\n",
       "    }\n",
       "\n",
       "    .dataframe thead th {\n",
       "        text-align: right;\n",
       "    }\n",
       "</style>\n",
       "<table border=\"1\" class=\"dataframe\">\n",
       "  <thead>\n",
       "    <tr style=\"text-align: right;\">\n",
       "      <th></th>\n",
       "      <th>ID</th>\n",
       "      <th>NumClaimants</th>\n",
       "      <th>InjuryType</th>\n",
       "      <th>OvernightHospitalStay</th>\n",
       "      <th>ClaimAmount</th>\n",
       "      <th>TotalClaimed</th>\n",
       "      <th>NumClaims</th>\n",
       "      <th>NumSoftTissue</th>\n",
       "      <th>%SoftTissue</th>\n",
       "      <th>ClaimAmountReceived</th>\n",
       "      <th>FraudFlag</th>\n",
       "    </tr>\n",
       "  </thead>\n",
       "  <tbody>\n",
       "    <tr>\n",
       "      <th>21</th>\n",
       "      <td>22</td>\n",
       "      <td>3</td>\n",
       "      <td>Back</td>\n",
       "      <td>No</td>\n",
       "      <td>8688</td>\n",
       "      <td>729792</td>\n",
       "      <td>56</td>\n",
       "      <td>5.0</td>\n",
       "      <td>0.089286</td>\n",
       "      <td>8688</td>\n",
       "      <td>0</td>\n",
       "    </tr>\n",
       "  </tbody>\n",
       "</table>\n",
       "</div>"
      ],
      "text/plain": [
       "    ID  NumClaimants InjuryType OvernightHospitalStay  ClaimAmount  \\\n",
       "21  22             3       Back                    No         8688   \n",
       "\n",
       "    TotalClaimed  NumClaims  NumSoftTissue  %SoftTissue  ClaimAmountReceived  \\\n",
       "21        729792         56            5.0     0.089286                 8688   \n",
       "\n",
       "   FraudFlag  \n",
       "21         0  "
      ]
     },
     "execution_count": 20,
     "metadata": {},
     "output_type": "execute_result"
    }
   ],
   "source": [
    "df[df['TotalClaimed'] > 700000]"
   ]
  },
  {
   "cell_type": "code",
   "execution_count": 21,
   "id": "f6cc1799",
   "metadata": {},
   "outputs": [
    {
     "data": {
      "text/html": [
       "<div>\n",
       "<style scoped>\n",
       "    .dataframe tbody tr th:only-of-type {\n",
       "        vertical-align: middle;\n",
       "    }\n",
       "\n",
       "    .dataframe tbody tr th {\n",
       "        vertical-align: top;\n",
       "    }\n",
       "\n",
       "    .dataframe thead th {\n",
       "        text-align: right;\n",
       "    }\n",
       "</style>\n",
       "<table border=\"1\" class=\"dataframe\">\n",
       "  <thead>\n",
       "    <tr style=\"text-align: right;\">\n",
       "      <th></th>\n",
       "      <th>ID</th>\n",
       "      <th>NumClaimants</th>\n",
       "      <th>InjuryType</th>\n",
       "      <th>OvernightHospitalStay</th>\n",
       "      <th>ClaimAmount</th>\n",
       "      <th>TotalClaimed</th>\n",
       "      <th>NumClaims</th>\n",
       "      <th>NumSoftTissue</th>\n",
       "      <th>%SoftTissue</th>\n",
       "      <th>ClaimAmountReceived</th>\n",
       "      <th>FraudFlag</th>\n",
       "    </tr>\n",
       "  </thead>\n",
       "  <tbody>\n",
       "    <tr>\n",
       "      <th>21</th>\n",
       "      <td>22</td>\n",
       "      <td>3</td>\n",
       "      <td>Back</td>\n",
       "      <td>No</td>\n",
       "      <td>8688</td>\n",
       "      <td>729792</td>\n",
       "      <td>56</td>\n",
       "      <td>5.0</td>\n",
       "      <td>0.089286</td>\n",
       "      <td>8688</td>\n",
       "      <td>0</td>\n",
       "    </tr>\n",
       "  </tbody>\n",
       "</table>\n",
       "</div>"
      ],
      "text/plain": [
       "    ID  NumClaimants InjuryType OvernightHospitalStay  ClaimAmount  \\\n",
       "21  22             3       Back                    No         8688   \n",
       "\n",
       "    TotalClaimed  NumClaims  NumSoftTissue  %SoftTissue  ClaimAmountReceived  \\\n",
       "21        729792         56            5.0     0.089286                 8688   \n",
       "\n",
       "   FraudFlag  \n",
       "21         0  "
      ]
     },
     "execution_count": 21,
     "metadata": {},
     "output_type": "execute_result"
    }
   ],
   "source": [
    "df[df['NumClaims'] > 50]"
   ]
  },
  {
   "cell_type": "markdown",
   "id": "3042f2ee",
   "metadata": {},
   "source": [
    "Drop row as it does not look like any other individual claim."
   ]
  },
  {
   "cell_type": "code",
   "execution_count": 22,
   "id": "a5143852",
   "metadata": {},
   "outputs": [
    {
     "data": {
      "text/html": [
       "<div>\n",
       "<style scoped>\n",
       "    .dataframe tbody tr th:only-of-type {\n",
       "        vertical-align: middle;\n",
       "    }\n",
       "\n",
       "    .dataframe tbody tr th {\n",
       "        vertical-align: top;\n",
       "    }\n",
       "\n",
       "    .dataframe thead th {\n",
       "        text-align: right;\n",
       "    }\n",
       "</style>\n",
       "<table border=\"1\" class=\"dataframe\">\n",
       "  <thead>\n",
       "    <tr style=\"text-align: right;\">\n",
       "      <th></th>\n",
       "      <th>ID</th>\n",
       "      <th>NumClaimants</th>\n",
       "      <th>InjuryType</th>\n",
       "      <th>OvernightHospitalStay</th>\n",
       "      <th>ClaimAmount</th>\n",
       "      <th>TotalClaimed</th>\n",
       "      <th>NumClaims</th>\n",
       "      <th>NumSoftTissue</th>\n",
       "      <th>%SoftTissue</th>\n",
       "      <th>ClaimAmountReceived</th>\n",
       "      <th>FraudFlag</th>\n",
       "    </tr>\n",
       "  </thead>\n",
       "  <tbody>\n",
       "  </tbody>\n",
       "</table>\n",
       "</div>"
      ],
      "text/plain": [
       "Empty DataFrame\n",
       "Columns: [ID, NumClaimants, InjuryType, OvernightHospitalStay, ClaimAmount, TotalClaimed, NumClaims, NumSoftTissue, %SoftTissue, ClaimAmountReceived, FraudFlag]\n",
       "Index: []"
      ]
     },
     "execution_count": 22,
     "metadata": {},
     "output_type": "execute_result"
    }
   ],
   "source": [
    "# Drop row with large outlier\n",
    "df = df.drop(df[df['NumClaims'] > 50].index)\n",
    "# Check if row was indeed droped\n",
    "df[df['TotalClaimed'] > 700000]"
   ]
  },
  {
   "cell_type": "code",
   "execution_count": 23,
   "id": "eaf68d73",
   "metadata": {},
   "outputs": [
    {
     "data": {
      "text/html": [
       "<div>\n",
       "<style scoped>\n",
       "    .dataframe tbody tr th:only-of-type {\n",
       "        vertical-align: middle;\n",
       "    }\n",
       "\n",
       "    .dataframe tbody tr th {\n",
       "        vertical-align: top;\n",
       "    }\n",
       "\n",
       "    .dataframe thead th {\n",
       "        text-align: right;\n",
       "    }\n",
       "</style>\n",
       "<table border=\"1\" class=\"dataframe\">\n",
       "  <thead>\n",
       "    <tr style=\"text-align: right;\">\n",
       "      <th></th>\n",
       "      <th>ID</th>\n",
       "      <th>NumClaimants</th>\n",
       "      <th>InjuryType</th>\n",
       "      <th>OvernightHospitalStay</th>\n",
       "      <th>ClaimAmount</th>\n",
       "      <th>TotalClaimed</th>\n",
       "      <th>NumClaims</th>\n",
       "      <th>NumSoftTissue</th>\n",
       "      <th>%SoftTissue</th>\n",
       "      <th>ClaimAmountReceived</th>\n",
       "      <th>FraudFlag</th>\n",
       "    </tr>\n",
       "  </thead>\n",
       "  <tbody>\n",
       "    <tr>\n",
       "      <th>8</th>\n",
       "      <td>9</td>\n",
       "      <td>1</td>\n",
       "      <td>Soft Tissue</td>\n",
       "      <td>No</td>\n",
       "      <td>2067</td>\n",
       "      <td>0</td>\n",
       "      <td>0</td>\n",
       "      <td>NaN</td>\n",
       "      <td>0.0</td>\n",
       "      <td>2067</td>\n",
       "      <td>0</td>\n",
       "    </tr>\n",
       "    <tr>\n",
       "      <th>26</th>\n",
       "      <td>27</td>\n",
       "      <td>3</td>\n",
       "      <td>Broken Limb</td>\n",
       "      <td>Yes</td>\n",
       "      <td>7193</td>\n",
       "      <td>0</td>\n",
       "      <td>0</td>\n",
       "      <td>NaN</td>\n",
       "      <td>0.0</td>\n",
       "      <td>7193</td>\n",
       "      <td>0</td>\n",
       "    </tr>\n",
       "    <tr>\n",
       "      <th>146</th>\n",
       "      <td>147</td>\n",
       "      <td>1</td>\n",
       "      <td>Soft Tissue</td>\n",
       "      <td>No</td>\n",
       "      <td>4811</td>\n",
       "      <td>0</td>\n",
       "      <td>0</td>\n",
       "      <td>NaN</td>\n",
       "      <td>0.0</td>\n",
       "      <td>0</td>\n",
       "      <td>1</td>\n",
       "    </tr>\n",
       "    <tr>\n",
       "      <th>149</th>\n",
       "      <td>150</td>\n",
       "      <td>2</td>\n",
       "      <td>Back</td>\n",
       "      <td>No</td>\n",
       "      <td>2200</td>\n",
       "      <td>21923</td>\n",
       "      <td>4</td>\n",
       "      <td>NaN</td>\n",
       "      <td>0.0</td>\n",
       "      <td>2200</td>\n",
       "      <td>0</td>\n",
       "    </tr>\n",
       "    <tr>\n",
       "      <th>220</th>\n",
       "      <td>221</td>\n",
       "      <td>2</td>\n",
       "      <td>Soft Tissue</td>\n",
       "      <td>No</td>\n",
       "      <td>3383</td>\n",
       "      <td>0</td>\n",
       "      <td>0</td>\n",
       "      <td>NaN</td>\n",
       "      <td>0.0</td>\n",
       "      <td>3383</td>\n",
       "      <td>0</td>\n",
       "    </tr>\n",
       "    <tr>\n",
       "      <th>404</th>\n",
       "      <td>405</td>\n",
       "      <td>2</td>\n",
       "      <td>Serious</td>\n",
       "      <td>Yes</td>\n",
       "      <td>7248</td>\n",
       "      <td>0</td>\n",
       "      <td>0</td>\n",
       "      <td>NaN</td>\n",
       "      <td>0.0</td>\n",
       "      <td>7248</td>\n",
       "      <td>0</td>\n",
       "    </tr>\n",
       "    <tr>\n",
       "      <th>422</th>\n",
       "      <td>423</td>\n",
       "      <td>3</td>\n",
       "      <td>Broken Limb</td>\n",
       "      <td>No</td>\n",
       "      <td>4197</td>\n",
       "      <td>61915</td>\n",
       "      <td>3</td>\n",
       "      <td>NaN</td>\n",
       "      <td>0.0</td>\n",
       "      <td>4197</td>\n",
       "      <td>0</td>\n",
       "    </tr>\n",
       "    <tr>\n",
       "      <th>479</th>\n",
       "      <td>480</td>\n",
       "      <td>1</td>\n",
       "      <td>Broken Limb</td>\n",
       "      <td>No</td>\n",
       "      <td>33739</td>\n",
       "      <td>10608</td>\n",
       "      <td>1</td>\n",
       "      <td>NaN</td>\n",
       "      <td>0.0</td>\n",
       "      <td>33739</td>\n",
       "      <td>0</td>\n",
       "    </tr>\n",
       "    <tr>\n",
       "      <th>492</th>\n",
       "      <td>493</td>\n",
       "      <td>1</td>\n",
       "      <td>Soft Tissue</td>\n",
       "      <td>Yes</td>\n",
       "      <td>2569</td>\n",
       "      <td>20055</td>\n",
       "      <td>1</td>\n",
       "      <td>NaN</td>\n",
       "      <td>0.0</td>\n",
       "      <td>2569</td>\n",
       "      <td>0</td>\n",
       "    </tr>\n",
       "    <tr>\n",
       "      <th>496</th>\n",
       "      <td>497</td>\n",
       "      <td>4</td>\n",
       "      <td>Broken Limb</td>\n",
       "      <td>Yes</td>\n",
       "      <td>3199</td>\n",
       "      <td>0</td>\n",
       "      <td>0</td>\n",
       "      <td>NaN</td>\n",
       "      <td>0.0</td>\n",
       "      <td>0</td>\n",
       "      <td>1</td>\n",
       "    </tr>\n",
       "  </tbody>\n",
       "</table>\n",
       "</div>"
      ],
      "text/plain": [
       "      ID  NumClaimants   InjuryType OvernightHospitalStay  ClaimAmount  \\\n",
       "8      9             1  Soft Tissue                    No         2067   \n",
       "26    27             3  Broken Limb                   Yes         7193   \n",
       "146  147             1  Soft Tissue                    No         4811   \n",
       "149  150             2         Back                    No         2200   \n",
       "220  221             2  Soft Tissue                    No         3383   \n",
       "404  405             2      Serious                   Yes         7248   \n",
       "422  423             3  Broken Limb                    No         4197   \n",
       "479  480             1  Broken Limb                    No        33739   \n",
       "492  493             1  Soft Tissue                   Yes         2569   \n",
       "496  497             4  Broken Limb                   Yes         3199   \n",
       "\n",
       "     TotalClaimed  NumClaims  NumSoftTissue  %SoftTissue  ClaimAmountReceived  \\\n",
       "8               0          0            NaN          0.0                 2067   \n",
       "26              0          0            NaN          0.0                 7193   \n",
       "146             0          0            NaN          0.0                    0   \n",
       "149         21923          4            NaN          0.0                 2200   \n",
       "220             0          0            NaN          0.0                 3383   \n",
       "404             0          0            NaN          0.0                 7248   \n",
       "422         61915          3            NaN          0.0                 4197   \n",
       "479         10608          1            NaN          0.0                33739   \n",
       "492         20055          1            NaN          0.0                 2569   \n",
       "496             0          0            NaN          0.0                    0   \n",
       "\n",
       "    FraudFlag  \n",
       "8           0  \n",
       "26          0  \n",
       "146         1  \n",
       "149         0  \n",
       "220         0  \n",
       "404         0  \n",
       "422         0  \n",
       "479         0  \n",
       "492         0  \n",
       "496         1  "
      ]
     },
     "execution_count": 23,
     "metadata": {},
     "output_type": "execute_result"
    }
   ],
   "source": [
    "# Look at rows where 'NumSoftTissue' is missing.\n",
    "missing_NumSoftTissue = df[df['NumSoftTissue'].isnull()]\n",
    "missing_NumSoftTissue"
   ]
  },
  {
   "cell_type": "code",
   "execution_count": 24,
   "id": "fa5d47cc",
   "metadata": {},
   "outputs": [
    {
     "data": {
      "text/html": [
       "<div>\n",
       "<style scoped>\n",
       "    .dataframe tbody tr th:only-of-type {\n",
       "        vertical-align: middle;\n",
       "    }\n",
       "\n",
       "    .dataframe tbody tr th {\n",
       "        vertical-align: top;\n",
       "    }\n",
       "\n",
       "    .dataframe thead th {\n",
       "        text-align: right;\n",
       "    }\n",
       "</style>\n",
       "<table border=\"1\" class=\"dataframe\">\n",
       "  <thead>\n",
       "    <tr style=\"text-align: right;\">\n",
       "      <th></th>\n",
       "      <th>ID</th>\n",
       "      <th>NumClaimants</th>\n",
       "      <th>InjuryType</th>\n",
       "      <th>OvernightHospitalStay</th>\n",
       "      <th>ClaimAmount</th>\n",
       "      <th>TotalClaimed</th>\n",
       "      <th>NumClaims</th>\n",
       "      <th>NumSoftTissue</th>\n",
       "      <th>%SoftTissue</th>\n",
       "      <th>ClaimAmountReceived</th>\n",
       "      <th>FraudFlag</th>\n",
       "    </tr>\n",
       "  </thead>\n",
       "  <tbody>\n",
       "    <tr>\n",
       "      <th>0</th>\n",
       "      <td>1</td>\n",
       "      <td>2</td>\n",
       "      <td>Soft Tissue</td>\n",
       "      <td>No</td>\n",
       "      <td>1625</td>\n",
       "      <td>3250</td>\n",
       "      <td>2</td>\n",
       "      <td>2.0</td>\n",
       "      <td>1.0</td>\n",
       "      <td>0</td>\n",
       "      <td>1</td>\n",
       "    </tr>\n",
       "    <tr>\n",
       "      <th>1</th>\n",
       "      <td>2</td>\n",
       "      <td>2</td>\n",
       "      <td>Back</td>\n",
       "      <td>Yes</td>\n",
       "      <td>15028</td>\n",
       "      <td>60112</td>\n",
       "      <td>1</td>\n",
       "      <td>0.0</td>\n",
       "      <td>0.0</td>\n",
       "      <td>15028</td>\n",
       "      <td>0</td>\n",
       "    </tr>\n",
       "    <tr>\n",
       "      <th>2</th>\n",
       "      <td>3</td>\n",
       "      <td>1</td>\n",
       "      <td>Broken Limb</td>\n",
       "      <td>No</td>\n",
       "      <td>-99999</td>\n",
       "      <td>0</td>\n",
       "      <td>0</td>\n",
       "      <td>0.0</td>\n",
       "      <td>0.0</td>\n",
       "      <td>572</td>\n",
       "      <td>0</td>\n",
       "    </tr>\n",
       "    <tr>\n",
       "      <th>3</th>\n",
       "      <td>4</td>\n",
       "      <td>3</td>\n",
       "      <td>Serious</td>\n",
       "      <td>Yes</td>\n",
       "      <td>270200</td>\n",
       "      <td>0</td>\n",
       "      <td>0</td>\n",
       "      <td>0.0</td>\n",
       "      <td>0.0</td>\n",
       "      <td>270200</td>\n",
       "      <td>0</td>\n",
       "    </tr>\n",
       "    <tr>\n",
       "      <th>4</th>\n",
       "      <td>5</td>\n",
       "      <td>4</td>\n",
       "      <td>Soft Tissue</td>\n",
       "      <td>No</td>\n",
       "      <td>8869</td>\n",
       "      <td>0</td>\n",
       "      <td>0</td>\n",
       "      <td>0.0</td>\n",
       "      <td>0.0</td>\n",
       "      <td>0</td>\n",
       "      <td>1</td>\n",
       "    </tr>\n",
       "    <tr>\n",
       "      <th>...</th>\n",
       "      <td>...</td>\n",
       "      <td>...</td>\n",
       "      <td>...</td>\n",
       "      <td>...</td>\n",
       "      <td>...</td>\n",
       "      <td>...</td>\n",
       "      <td>...</td>\n",
       "      <td>...</td>\n",
       "      <td>...</td>\n",
       "      <td>...</td>\n",
       "      <td>...</td>\n",
       "    </tr>\n",
       "    <tr>\n",
       "      <th>494</th>\n",
       "      <td>495</td>\n",
       "      <td>2</td>\n",
       "      <td>Back</td>\n",
       "      <td>No</td>\n",
       "      <td>3813</td>\n",
       "      <td>9882</td>\n",
       "      <td>3</td>\n",
       "      <td>0.0</td>\n",
       "      <td>0.0</td>\n",
       "      <td>0</td>\n",
       "      <td>1</td>\n",
       "    </tr>\n",
       "    <tr>\n",
       "      <th>495</th>\n",
       "      <td>496</td>\n",
       "      <td>1</td>\n",
       "      <td>Soft Tissue</td>\n",
       "      <td>No</td>\n",
       "      <td>2118</td>\n",
       "      <td>0</td>\n",
       "      <td>0</td>\n",
       "      <td>0.0</td>\n",
       "      <td>0.0</td>\n",
       "      <td>0</td>\n",
       "      <td>1</td>\n",
       "    </tr>\n",
       "    <tr>\n",
       "      <th>497</th>\n",
       "      <td>498</td>\n",
       "      <td>1</td>\n",
       "      <td>Broken Limb</td>\n",
       "      <td>Yes</td>\n",
       "      <td>32469</td>\n",
       "      <td>0</td>\n",
       "      <td>0</td>\n",
       "      <td>0.0</td>\n",
       "      <td>0.0</td>\n",
       "      <td>16763</td>\n",
       "      <td>0</td>\n",
       "    </tr>\n",
       "    <tr>\n",
       "      <th>498</th>\n",
       "      <td>499</td>\n",
       "      <td>1</td>\n",
       "      <td>Broken Limb</td>\n",
       "      <td>No</td>\n",
       "      <td>179448</td>\n",
       "      <td>0</td>\n",
       "      <td>0</td>\n",
       "      <td>0.0</td>\n",
       "      <td>0.0</td>\n",
       "      <td>179448</td>\n",
       "      <td>0</td>\n",
       "    </tr>\n",
       "    <tr>\n",
       "      <th>499</th>\n",
       "      <td>500</td>\n",
       "      <td>1</td>\n",
       "      <td>Broken Limb</td>\n",
       "      <td>No</td>\n",
       "      <td>8259</td>\n",
       "      <td>0</td>\n",
       "      <td>0</td>\n",
       "      <td>0.0</td>\n",
       "      <td>0.0</td>\n",
       "      <td>0</td>\n",
       "      <td>1</td>\n",
       "    </tr>\n",
       "  </tbody>\n",
       "</table>\n",
       "<p>489 rows × 11 columns</p>\n",
       "</div>"
      ],
      "text/plain": [
       "      ID  NumClaimants   InjuryType OvernightHospitalStay  ClaimAmount  \\\n",
       "0      1             2  Soft Tissue                    No         1625   \n",
       "1      2             2         Back                   Yes        15028   \n",
       "2      3             1  Broken Limb                    No       -99999   \n",
       "3      4             3      Serious                   Yes       270200   \n",
       "4      5             4  Soft Tissue                    No         8869   \n",
       "..   ...           ...          ...                   ...          ...   \n",
       "494  495             2         Back                    No         3813   \n",
       "495  496             1  Soft Tissue                    No         2118   \n",
       "497  498             1  Broken Limb                   Yes        32469   \n",
       "498  499             1  Broken Limb                    No       179448   \n",
       "499  500             1  Broken Limb                    No         8259   \n",
       "\n",
       "     TotalClaimed  NumClaims  NumSoftTissue  %SoftTissue  ClaimAmountReceived  \\\n",
       "0            3250          2            2.0          1.0                    0   \n",
       "1           60112          1            0.0          0.0                15028   \n",
       "2               0          0            0.0          0.0                  572   \n",
       "3               0          0            0.0          0.0               270200   \n",
       "4               0          0            0.0          0.0                    0   \n",
       "..            ...        ...            ...          ...                  ...   \n",
       "494          9882          3            0.0          0.0                    0   \n",
       "495             0          0            0.0          0.0                    0   \n",
       "497             0          0            0.0          0.0                16763   \n",
       "498             0          0            0.0          0.0               179448   \n",
       "499             0          0            0.0          0.0                    0   \n",
       "\n",
       "    FraudFlag  \n",
       "0           1  \n",
       "1           0  \n",
       "2           0  \n",
       "3           0  \n",
       "4           1  \n",
       "..        ...  \n",
       "494         1  \n",
       "495         1  \n",
       "497         0  \n",
       "498         0  \n",
       "499         1  \n",
       "\n",
       "[489 rows x 11 columns]"
      ]
     },
     "execution_count": 24,
     "metadata": {},
     "output_type": "execute_result"
    }
   ],
   "source": [
    "# Look at rows where 'NumSoftTissue' is not missing and the values for %SoftTissue.\n",
    "df[df['NumSoftTissue'].notnull()]"
   ]
  },
  {
   "cell_type": "code",
   "execution_count": 25,
   "id": "7de02401",
   "metadata": {},
   "outputs": [
    {
     "data": {
      "text/html": [
       "<div>\n",
       "<style scoped>\n",
       "    .dataframe tbody tr th:only-of-type {\n",
       "        vertical-align: middle;\n",
       "    }\n",
       "\n",
       "    .dataframe tbody tr th {\n",
       "        vertical-align: top;\n",
       "    }\n",
       "\n",
       "    .dataframe thead th {\n",
       "        text-align: right;\n",
       "    }\n",
       "</style>\n",
       "<table border=\"1\" class=\"dataframe\">\n",
       "  <thead>\n",
       "    <tr style=\"text-align: right;\">\n",
       "      <th></th>\n",
       "      <th>ID</th>\n",
       "      <th>NumClaimants</th>\n",
       "      <th>InjuryType</th>\n",
       "      <th>OvernightHospitalStay</th>\n",
       "      <th>ClaimAmount</th>\n",
       "      <th>TotalClaimed</th>\n",
       "      <th>NumClaims</th>\n",
       "      <th>NumSoftTissue</th>\n",
       "      <th>%SoftTissue</th>\n",
       "      <th>ClaimAmountReceived</th>\n",
       "      <th>FraudFlag</th>\n",
       "    </tr>\n",
       "  </thead>\n",
       "  <tbody>\n",
       "  </tbody>\n",
       "</table>\n",
       "</div>"
      ],
      "text/plain": [
       "Empty DataFrame\n",
       "Columns: [ID, NumClaimants, InjuryType, OvernightHospitalStay, ClaimAmount, TotalClaimed, NumClaims, NumSoftTissue, %SoftTissue, ClaimAmountReceived, FraudFlag]\n",
       "Index: []"
      ]
     },
     "execution_count": 25,
     "metadata": {},
     "output_type": "execute_result"
    }
   ],
   "source": [
    "# It seems that when '%SoftTissue' is 0, so is NumSoftTissue, so we will replace Nan with 0.\n",
    "df['NumSoftTissue'] = df['NumSoftTissue'].replace(np.nan, 0)\n",
    "df[df['NumSoftTissue'].isnull()]"
   ]
  },
  {
   "cell_type": "code",
   "execution_count": 26,
   "id": "073974cb",
   "metadata": {},
   "outputs": [
    {
     "data": {
      "text/html": [
       "<div>\n",
       "<style scoped>\n",
       "    .dataframe tbody tr th:only-of-type {\n",
       "        vertical-align: middle;\n",
       "    }\n",
       "\n",
       "    .dataframe tbody tr th {\n",
       "        vertical-align: top;\n",
       "    }\n",
       "\n",
       "    .dataframe thead th {\n",
       "        text-align: right;\n",
       "    }\n",
       "</style>\n",
       "<table border=\"1\" class=\"dataframe\">\n",
       "  <thead>\n",
       "    <tr style=\"text-align: right;\">\n",
       "      <th></th>\n",
       "      <th>ID</th>\n",
       "      <th>NumClaimants</th>\n",
       "      <th>InjuryType</th>\n",
       "      <th>OvernightHospitalStay</th>\n",
       "      <th>ClaimAmount</th>\n",
       "      <th>TotalClaimed</th>\n",
       "      <th>NumClaims</th>\n",
       "      <th>NumSoftTissue</th>\n",
       "      <th>%SoftTissue</th>\n",
       "      <th>ClaimAmountReceived</th>\n",
       "      <th>FraudFlag</th>\n",
       "    </tr>\n",
       "  </thead>\n",
       "  <tbody>\n",
       "    <tr>\n",
       "      <th>2</th>\n",
       "      <td>3</td>\n",
       "      <td>1</td>\n",
       "      <td>Broken Limb</td>\n",
       "      <td>No</td>\n",
       "      <td>-99999</td>\n",
       "      <td>0</td>\n",
       "      <td>0</td>\n",
       "      <td>0.0</td>\n",
       "      <td>0.0</td>\n",
       "      <td>572</td>\n",
       "      <td>0</td>\n",
       "    </tr>\n",
       "  </tbody>\n",
       "</table>\n",
       "</div>"
      ],
      "text/plain": [
       "  ID  NumClaimants   InjuryType OvernightHospitalStay  ClaimAmount  \\\n",
       "2  3             1  Broken Limb                    No       -99999   \n",
       "\n",
       "   TotalClaimed  NumClaims  NumSoftTissue  %SoftTissue  ClaimAmountReceived  \\\n",
       "2             0          0            0.0          0.0                  572   \n",
       "\n",
       "  FraudFlag  \n",
       "2         0  "
      ]
     },
     "execution_count": 26,
     "metadata": {},
     "output_type": "execute_result"
    }
   ],
   "source": [
    "# Look at feature ClaimAmount\n",
    "df[df['ClaimAmount'] < 0]"
   ]
  },
  {
   "cell_type": "markdown",
   "id": "faf024c4",
   "metadata": {},
   "source": [
    "ClaimAmount and ClaimAmoutnReceived seem to have same value for all cases with FraudFlag=0. \n",
    "We will replace the negative value with the ClaimAmountReceived value."
   ]
  },
  {
   "cell_type": "code",
   "execution_count": 27,
   "id": "6dd162d5",
   "metadata": {},
   "outputs": [
    {
     "data": {
      "text/html": [
       "<div>\n",
       "<style scoped>\n",
       "    .dataframe tbody tr th:only-of-type {\n",
       "        vertical-align: middle;\n",
       "    }\n",
       "\n",
       "    .dataframe tbody tr th {\n",
       "        vertical-align: top;\n",
       "    }\n",
       "\n",
       "    .dataframe thead th {\n",
       "        text-align: right;\n",
       "    }\n",
       "</style>\n",
       "<table border=\"1\" class=\"dataframe\">\n",
       "  <thead>\n",
       "    <tr style=\"text-align: right;\">\n",
       "      <th></th>\n",
       "      <th>ID</th>\n",
       "      <th>NumClaimants</th>\n",
       "      <th>InjuryType</th>\n",
       "      <th>OvernightHospitalStay</th>\n",
       "      <th>ClaimAmount</th>\n",
       "      <th>TotalClaimed</th>\n",
       "      <th>NumClaims</th>\n",
       "      <th>NumSoftTissue</th>\n",
       "      <th>%SoftTissue</th>\n",
       "      <th>ClaimAmountReceived</th>\n",
       "      <th>FraudFlag</th>\n",
       "    </tr>\n",
       "  </thead>\n",
       "  <tbody>\n",
       "  </tbody>\n",
       "</table>\n",
       "</div>"
      ],
      "text/plain": [
       "Empty DataFrame\n",
       "Columns: [ID, NumClaimants, InjuryType, OvernightHospitalStay, ClaimAmount, TotalClaimed, NumClaims, NumSoftTissue, %SoftTissue, ClaimAmountReceived, FraudFlag]\n",
       "Index: []"
      ]
     },
     "execution_count": 27,
     "metadata": {},
     "output_type": "execute_result"
    }
   ],
   "source": [
    "df['ClaimAmount'] = df['ClaimAmount'].replace(-99999, 572)\n",
    "df[df['ClaimAmount'] < 0]"
   ]
  },
  {
   "cell_type": "code",
   "execution_count": 28,
   "id": "2d6b611c",
   "metadata": {},
   "outputs": [
    {
     "data": {
      "text/plain": [
       "Index(['NumClaimants', 'ClaimAmount', 'TotalClaimed', 'NumClaims',\n",
       "       'NumSoftTissue', '%SoftTissue', 'ClaimAmountReceived'],\n",
       "      dtype='object')"
      ]
     },
     "execution_count": 28,
     "metadata": {},
     "output_type": "execute_result"
    }
   ],
   "source": [
    "#Update the numeric features after dropping some columns.\n",
    "numeric_columns = df.select_dtypes(['int64', 'float64']).columns\n",
    "numeric_columns"
   ]
  },
  {
   "cell_type": "code",
   "execution_count": 29,
   "id": "1e617233",
   "metadata": {},
   "outputs": [
    {
     "name": "stdout",
     "output_type": "stream",
     "text": [
      "NumClaimants\n",
      "----------\n",
      "\n",
      "Range NumClaimants is:  3\n",
      "----------\n",
      "Value  Number of Instances\n",
      "1    235\n",
      "2    122\n",
      "3     96\n",
      "4     46\n",
      "Name: NumClaimants, dtype: int64 \n",
      "\n",
      "\n",
      "\n",
      "ClaimAmount\n",
      "----------\n",
      "\n",
      "Range ClaimAmount is:  269815\n",
      "----------\n",
      "Value  Number of Instances\n",
      "8065      2\n",
      "3640      2\n",
      "2390      2\n",
      "3771      2\n",
      "3383      2\n",
      "4384      2\n",
      "5097      2\n",
      "4200      1\n",
      "11052     1\n",
      "104534    1\n",
      "7202      1\n",
      "2223      1\n",
      "48671     1\n",
      "4411      1\n",
      "112386    1\n",
      "Name: ClaimAmount, dtype: int64 \n",
      "\n",
      "\n",
      "\n",
      "TotalClaimed\n",
      "----------\n",
      "\n",
      "Range TotalClaimed is:  144000\n",
      "----------\n",
      "Value  Number of Instances\n",
      "0        266\n",
      "3250       1\n",
      "7061       1\n",
      "2303       1\n",
      "7527       1\n",
      "14698      1\n",
      "5284       1\n",
      "4252       1\n",
      "7239       1\n",
      "22420      1\n",
      "28381      1\n",
      "3565       1\n",
      "7903       1\n",
      "39479      1\n",
      "2812       1\n",
      "Name: TotalClaimed, dtype: int64 \n",
      "\n",
      "\n",
      "\n",
      "NumClaims\n",
      "----------\n",
      "\n",
      "Range NumClaims is:  5\n",
      "----------\n",
      "Value  Number of Instances\n",
      "0    265\n",
      "1    188\n",
      "3     22\n",
      "4     19\n",
      "2      4\n",
      "5      1\n",
      "Name: NumClaims, dtype: int64 \n",
      "\n",
      "\n",
      "\n",
      "NumSoftTissue\n",
      "----------\n",
      "\n",
      "Range NumSoftTissue is:  3.0\n",
      "----------\n",
      "Value  Number of Instances\n",
      "0.0    416\n",
      "1.0     60\n",
      "2.0     19\n",
      "3.0      4\n",
      "Name: NumSoftTissue, dtype: int64 \n",
      "\n",
      "\n",
      "\n",
      "%SoftTissue\n",
      "----------\n",
      "\n",
      "Range %SoftTissue is:  2.0\n",
      "----------\n",
      "Value  Number of Instances\n",
      "0.000000    416\n",
      "1.000000     54\n",
      "2.000000     12\n",
      "0.333333      5\n",
      "0.500000      4\n",
      "0.666667      3\n",
      "0.250000      3\n",
      "0.750000      2\n",
      "Name: %SoftTissue, dtype: int64 \n",
      "\n",
      "\n",
      "\n",
      "ClaimAmountReceived\n",
      "----------\n",
      "\n",
      "Range ClaimAmountReceived is:  295303\n",
      "----------\n",
      "Value  Number of Instances\n",
      "0         168\n",
      "5060        2\n",
      "2802        2\n",
      "4026        2\n",
      "4824        2\n",
      "212661      1\n",
      "4588        1\n",
      "6320        1\n",
      "1372        1\n",
      "14257       1\n",
      "13356       1\n",
      "30897       1\n",
      "4253        1\n",
      "4834        1\n",
      "3780        1\n",
      "Name: ClaimAmountReceived, dtype: int64 \n",
      "\n",
      "\n",
      "\n"
     ]
    }
   ],
   "source": [
    "for feature in numeric_columns:\n",
    "    print(feature)\n",
    "    print(\"----------\\n\")\n",
    "    print(\"Range {} is: \".format(feature), (df[feature].max() - df[feature].min()))\n",
    "    print(\"----------\")\n",
    "    print('{0:.5}  {1}'.format(\"Value\", \"Number of Instances\"))\n",
    "    print(df[feature].value_counts(dropna=False).nlargest(15), \"\\n\\n\\n\")"
   ]
  },
  {
   "cell_type": "markdown",
   "id": "83e6ec02",
   "metadata": {},
   "source": [
    "`ClaimAmount` and `ClaimAmountReceived` have very large range. Clamp to the 95 percentile."
   ]
  },
  {
   "cell_type": "code",
   "execution_count": 30,
   "id": "e5d20c39",
   "metadata": {},
   "outputs": [
    {
     "data": {
      "image/png": "[encoded data removed]",
      "text/plain": [
       "<Figure size 720x720 with 1 Axes>"
      ]
     },
     "metadata": {
      "needs_background": "light"
     },
     "output_type": "display_data"
    }
   ],
   "source": [
    "df['ClaimAmount'].plot(kind='box', figsize=(10,10));"
   ]
  },
  {
   "cell_type": "code",
   "execution_count": 31,
   "id": "22e9d14c",
   "metadata": {},
   "outputs": [
    {
     "data": {
      "text/plain": [
       "12306.0"
      ]
     },
     "execution_count": 31,
     "metadata": {},
     "output_type": "execute_result"
    }
   ],
   "source": [
    "np.percentile(df['ClaimAmount'], 75)"
   ]
  },
  {
   "cell_type": "code",
   "execution_count": 32,
   "id": "f73a979d",
   "metadata": {},
   "outputs": [
    {
     "data": {
      "text/plain": [
       "75631.9"
      ]
     },
     "execution_count": 32,
     "metadata": {},
     "output_type": "execute_result"
    }
   ],
   "source": [
    "perc95 = np.percentile(df['ClaimAmount'], 95)\n",
    "perc95"
   ]
  },
  {
   "cell_type": "code",
   "execution_count": 33,
   "id": "cd6f6548",
   "metadata": {},
   "outputs": [
    {
     "data": {
      "text/plain": [
       "(25, 11)"
      ]
     },
     "execution_count": 33,
     "metadata": {},
     "output_type": "execute_result"
    }
   ],
   "source": [
    "df[df['ClaimAmount'] > perc95].shape"
   ]
  },
  {
   "cell_type": "markdown",
   "id": "2476bd57",
   "metadata": {},
   "source": [
    "25 rows affected for `ClaimAmount` for 95 percentile"
   ]
  },
  {
   "cell_type": "code",
   "execution_count": 34,
   "id": "939e81e1",
   "metadata": {},
   "outputs": [
    {
     "data": {
      "text/plain": [
       "0    False\n",
       "1    False\n",
       "2    False\n",
       "3     True\n",
       "4    False\n",
       "Name: ClaimAmount, dtype: bool"
      ]
     },
     "execution_count": 34,
     "metadata": {},
     "output_type": "execute_result"
    }
   ],
   "source": [
    "# Clamp high outiers for 'ClaimAmount' to perc95. This affects 25 rows in the data.\n",
    "high_claim_index = df['ClaimAmount'] > perc95\n",
    "high_claim_index.head()"
   ]
  },
  {
   "cell_type": "code",
   "execution_count": 35,
   "id": "f0603d8c",
   "metadata": {},
   "outputs": [],
   "source": [
    "# Change all values above perc95 to the value of perc95\n",
    "df.loc [high_claim_index, 'ClaimAmount'] = perc95"
   ]
  },
  {
   "cell_type": "code",
   "execution_count": 36,
   "id": "61bc7e61",
   "metadata": {},
   "outputs": [
    {
     "data": {
      "image/png": "[encoded data removed]",
      "text/plain": [
       "<Figure size 720x720 with 1 Axes>"
      ]
     },
     "metadata": {
      "needs_background": "light"
     },
     "output_type": "display_data"
    }
   ],
   "source": [
    "# Replot the clamped feature\n",
    "df['ClaimAmount'].plot(kind='box', figsize=(10,10));"
   ]
  },
  {
   "cell_type": "code",
   "execution_count": 37,
   "id": "2339e931",
   "metadata": {},
   "outputs": [
    {
     "data": {
      "text/plain": [
       "71946.0"
      ]
     },
     "execution_count": 37,
     "metadata": {},
     "output_type": "execute_result"
    }
   ],
   "source": [
    "# Do the same for ClaimAmountReceived\n",
    "perc95 = np.percentile(df['ClaimAmountReceived'], 95)\n",
    "perc95"
   ]
  },
  {
   "cell_type": "code",
   "execution_count": 38,
   "id": "0b1f89a9",
   "metadata": {},
   "outputs": [
    {
     "data": {
      "text/plain": [
       "(25, 11)"
      ]
     },
     "execution_count": 38,
     "metadata": {},
     "output_type": "execute_result"
    }
   ],
   "source": [
    "df[df['ClaimAmountReceived'] > perc95].shape"
   ]
  },
  {
   "cell_type": "code",
   "execution_count": 39,
   "id": "17d413f3",
   "metadata": {},
   "outputs": [
    {
     "data": {
      "text/plain": [
       "0    False\n",
       "1    False\n",
       "2    False\n",
       "3     True\n",
       "4    False\n",
       "Name: ClaimAmountReceived, dtype: bool"
      ]
     },
     "execution_count": 39,
     "metadata": {},
     "output_type": "execute_result"
    }
   ],
   "source": [
    "# Clamp high outiers for 'ClaimAmountReceived' to perc95. This affects 25 rows in the data.\n",
    "high_claim_index = df['ClaimAmountReceived'] > perc95\n",
    "high_claim_index.head()"
   ]
  },
  {
   "cell_type": "code",
   "execution_count": 40,
   "id": "40db0abd",
   "metadata": {},
   "outputs": [],
   "source": [
    "# Change all values above perc95 to the value of perc95\n",
    "df.loc [high_claim_index, 'ClaimAmountReceived'] = perc95"
   ]
  },
  {
   "cell_type": "code",
   "execution_count": 41,
   "id": "cc3c1957",
   "metadata": {},
   "outputs": [
    {
     "data": {
      "image/png": "[encoded data removed]",
      "text/plain": [
       "<Figure size 720x720 with 1 Axes>"
      ]
     },
     "metadata": {
      "needs_background": "light"
     },
     "output_type": "display_data"
    }
   ],
   "source": [
    "# Replot the clamped feature\n",
    "df['ClaimAmountReceived'].plot(kind='box', figsize=(10,10));"
   ]
  },
  {
   "cell_type": "code",
   "execution_count": 42,
   "id": "72238788",
   "metadata": {},
   "outputs": [
    {
     "data": {
      "text/html": [
       "<div>\n",
       "<style scoped>\n",
       "    .dataframe tbody tr th:only-of-type {\n",
       "        vertical-align: middle;\n",
       "    }\n",
       "\n",
       "    .dataframe tbody tr th {\n",
       "        vertical-align: top;\n",
       "    }\n",
       "\n",
       "    .dataframe thead th {\n",
       "        text-align: right;\n",
       "    }\n",
       "</style>\n",
       "<table border=\"1\" class=\"dataframe\">\n",
       "  <thead>\n",
       "    <tr style=\"text-align: right;\">\n",
       "      <th></th>\n",
       "      <th>count</th>\n",
       "      <th>mean</th>\n",
       "      <th>std</th>\n",
       "      <th>min</th>\n",
       "      <th>25%</th>\n",
       "      <th>50%</th>\n",
       "      <th>75%</th>\n",
       "      <th>max</th>\n",
       "    </tr>\n",
       "  </thead>\n",
       "  <tbody>\n",
       "    <tr>\n",
       "      <th>NumClaimants</th>\n",
       "      <td>499.0</td>\n",
       "      <td>1.905812</td>\n",
       "      <td>1.012545</td>\n",
       "      <td>1.0</td>\n",
       "      <td>1.0</td>\n",
       "      <td>2.0</td>\n",
       "      <td>3.0</td>\n",
       "      <td>4.0</td>\n",
       "    </tr>\n",
       "    <tr>\n",
       "      <th>ClaimAmount</th>\n",
       "      <td>499.0</td>\n",
       "      <td>14640.359719</td>\n",
       "      <td>20654.315863</td>\n",
       "      <td>385.0</td>\n",
       "      <td>3311.5</td>\n",
       "      <td>5658.0</td>\n",
       "      <td>12306.0</td>\n",
       "      <td>75631.9</td>\n",
       "    </tr>\n",
       "    <tr>\n",
       "      <th>TotalClaimed</th>\n",
       "      <td>499.0</td>\n",
       "      <td>8153.909820</td>\n",
       "      <td>15174.529615</td>\n",
       "      <td>0.0</td>\n",
       "      <td>0.0</td>\n",
       "      <td>0.0</td>\n",
       "      <td>11171.5</td>\n",
       "      <td>144000.0</td>\n",
       "    </tr>\n",
       "    <tr>\n",
       "      <th>NumClaims</th>\n",
       "      <td>499.0</td>\n",
       "      <td>0.687375</td>\n",
       "      <td>0.997215</td>\n",
       "      <td>0.0</td>\n",
       "      <td>0.0</td>\n",
       "      <td>0.0</td>\n",
       "      <td>1.0</td>\n",
       "      <td>5.0</td>\n",
       "    </tr>\n",
       "    <tr>\n",
       "      <th>NumSoftTissue</th>\n",
       "      <td>499.0</td>\n",
       "      <td>0.220441</td>\n",
       "      <td>0.544692</td>\n",
       "      <td>0.0</td>\n",
       "      <td>0.0</td>\n",
       "      <td>0.0</td>\n",
       "      <td>0.0</td>\n",
       "      <td>3.0</td>\n",
       "    </tr>\n",
       "    <tr>\n",
       "      <th>%SoftTissue</th>\n",
       "      <td>499.0</td>\n",
       "      <td>0.172178</td>\n",
       "      <td>0.428429</td>\n",
       "      <td>0.0</td>\n",
       "      <td>0.0</td>\n",
       "      <td>0.0</td>\n",
       "      <td>0.0</td>\n",
       "      <td>2.0</td>\n",
       "    </tr>\n",
       "    <tr>\n",
       "      <th>ClaimAmountReceived</th>\n",
       "      <td>499.0</td>\n",
       "      <td>10660.010020</td>\n",
       "      <td>18860.482856</td>\n",
       "      <td>0.0</td>\n",
       "      <td>0.0</td>\n",
       "      <td>3238.0</td>\n",
       "      <td>8118.0</td>\n",
       "      <td>71946.0</td>\n",
       "    </tr>\n",
       "  </tbody>\n",
       "</table>\n",
       "</div>"
      ],
      "text/plain": [
       "                     count          mean           std    min     25%     50%  \\\n",
       "NumClaimants         499.0      1.905812      1.012545    1.0     1.0     2.0   \n",
       "ClaimAmount          499.0  14640.359719  20654.315863  385.0  3311.5  5658.0   \n",
       "TotalClaimed         499.0   8153.909820  15174.529615    0.0     0.0     0.0   \n",
       "NumClaims            499.0      0.687375      0.997215    0.0     0.0     0.0   \n",
       "NumSoftTissue        499.0      0.220441      0.544692    0.0     0.0     0.0   \n",
       "%SoftTissue          499.0      0.172178      0.428429    0.0     0.0     0.0   \n",
       "ClaimAmountReceived  499.0  10660.010020  18860.482856    0.0     0.0  3238.0   \n",
       "\n",
       "                         75%       max  \n",
       "NumClaimants             3.0       4.0  \n",
       "ClaimAmount          12306.0   75631.9  \n",
       "TotalClaimed         11171.5  144000.0  \n",
       "NumClaims                1.0       5.0  \n",
       "NumSoftTissue            0.0       3.0  \n",
       "%SoftTissue              0.0       2.0  \n",
       "ClaimAmountReceived   8118.0   71946.0  "
      ]
     },
     "execution_count": 42,
     "metadata": {},
     "output_type": "execute_result"
    }
   ],
   "source": [
    "# Stats for numeric features.\n",
    "df.describe(include=['int', 'float']).T"
   ]
  },
  {
   "cell_type": "code",
   "execution_count": 43,
   "id": "4129c474",
   "metadata": {},
   "outputs": [
    {
     "data": {
      "text/html": [
       "<div>\n",
       "<style scoped>\n",
       "    .dataframe tbody tr th:only-of-type {\n",
       "        vertical-align: middle;\n",
       "    }\n",
       "\n",
       "    .dataframe tbody tr th {\n",
       "        vertical-align: top;\n",
       "    }\n",
       "\n",
       "    .dataframe thead th {\n",
       "        text-align: right;\n",
       "    }\n",
       "</style>\n",
       "<table border=\"1\" class=\"dataframe\">\n",
       "  <thead>\n",
       "    <tr style=\"text-align: right;\">\n",
       "      <th></th>\n",
       "      <th>count</th>\n",
       "      <th>unique</th>\n",
       "      <th>top</th>\n",
       "      <th>freq</th>\n",
       "    </tr>\n",
       "  </thead>\n",
       "  <tbody>\n",
       "    <tr>\n",
       "      <th>InjuryType</th>\n",
       "      <td>499</td>\n",
       "      <td>4</td>\n",
       "      <td>Broken Limb</td>\n",
       "      <td>177</td>\n",
       "    </tr>\n",
       "    <tr>\n",
       "      <th>OvernightHospitalStay</th>\n",
       "      <td>499</td>\n",
       "      <td>2</td>\n",
       "      <td>No</td>\n",
       "      <td>353</td>\n",
       "    </tr>\n",
       "    <tr>\n",
       "      <th>FraudFlag</th>\n",
       "      <td>499</td>\n",
       "      <td>2</td>\n",
       "      <td>0</td>\n",
       "      <td>331</td>\n",
       "    </tr>\n",
       "  </tbody>\n",
       "</table>\n",
       "</div>"
      ],
      "text/plain": [
       "                      count unique          top freq\n",
       "InjuryType              499      4  Broken Limb  177\n",
       "OvernightHospitalStay   499      2           No  353\n",
       "FraudFlag               499      2            0  331"
      ]
     },
     "execution_count": 43,
     "metadata": {},
     "output_type": "execute_result"
    }
   ],
   "source": [
    "# Stats for category features.\n",
    "df.describe(include=\"category\").T"
   ]
  },
  {
   "cell_type": "code",
   "execution_count": 44,
   "id": "f5e1319b",
   "metadata": {},
   "outputs": [
    {
     "data": {
      "text/plain": [
       "ID                         object\n",
       "NumClaimants                int64\n",
       "InjuryType               category\n",
       "OvernightHospitalStay    category\n",
       "ClaimAmount               float64\n",
       "TotalClaimed                int64\n",
       "NumClaims                   int64\n",
       "NumSoftTissue             float64\n",
       "%SoftTissue               float64\n",
       "ClaimAmountReceived         int64\n",
       "FraudFlag                category\n",
       "dtype: object"
      ]
     },
     "execution_count": 44,
     "metadata": {},
     "output_type": "execute_result"
    }
   ],
   "source": [
    "df.dtypes"
   ]
  },
  {
   "cell_type": "code",
   "execution_count": 45,
   "id": "64f363a6",
   "metadata": {},
   "outputs": [
    {
     "data": {
      "text/plain": [
       "ID                       499\n",
       "NumClaimants               4\n",
       "InjuryType                 4\n",
       "OvernightHospitalStay      2\n",
       "ClaimAmount              468\n",
       "TotalClaimed             234\n",
       "NumClaims                  6\n",
       "NumSoftTissue              4\n",
       "%SoftTissue                8\n",
       "ClaimAmountReceived      304\n",
       "FraudFlag                  2\n",
       "dtype: int64"
      ]
     },
     "execution_count": 45,
     "metadata": {},
     "output_type": "execute_result"
    }
   ],
   "source": [
    "df.nunique()"
   ]
  },
  {
   "cell_type": "code",
   "execution_count": 46,
   "id": "526327c1",
   "metadata": {},
   "outputs": [
    {
     "data": {
      "text/plain": [
       "ID                       0\n",
       "NumClaimants             0\n",
       "InjuryType               0\n",
       "OvernightHospitalStay    0\n",
       "ClaimAmount              0\n",
       "TotalClaimed             0\n",
       "NumClaims                0\n",
       "NumSoftTissue            0\n",
       "%SoftTissue              0\n",
       "ClaimAmountReceived      0\n",
       "FraudFlag                0\n",
       "dtype: int64"
      ]
     },
     "execution_count": 46,
     "metadata": {},
     "output_type": "execute_result"
    }
   ],
   "source": [
    "df.isnull().sum()"
   ]
  },
  {
   "cell_type": "markdown",
   "id": "da8eece3",
   "metadata": {},
   "source": [
    "All features seem ok now, no missing values or strange values.\n",
    "Save the new data frame to a file with a name that reflects that the data has been cleaned."
   ]
  },
  {
   "cell_type": "code",
   "execution_count": 47,
   "id": "6ec3ba3b",
   "metadata": {},
   "outputs": [],
   "source": [
    "# Write the cleaned dataframe to a csv file\n",
    "df.to_csv('../data/MotorInsuranceFraudClaimABTFull_cleaned.csv', index=False)"
   ]
  },
  {
   "cell_type": "markdown",
   "id": "96ae9102",
   "metadata": {},
   "source": [
    "### Exercsie\n",
    "\n",
    "\n",
    "Load `adult.csv` and prepare a clean dataset. This data was extracted from the census bureau database found at http://www.census.gov/ftp/pub/DES/www/welcome.html. The task is to clean the dataset for applying classification algorithms eventually. The classification task would be to predict the income of the person based on the different features. "
   ]
  },
  {
   "cell_type": "markdown",
   "id": "bdebcace",
   "metadata": {},
   "source": [
    "#### Feature Explanations"
   ]
  },
  {
   "cell_type": "markdown",
   "id": "c275695d",
   "metadata": {},
   "source": [
    "\n",
    "|Variable Names |Description |   \n",
    "|:-------------------------|:-----------------------------|\n",
    "age | continuous.|\n",
    "workclass | Private, Self-emp-not-inc, Self-emp-inc, Federal-gov, Local-gov, State-gov, Without-pay, Never-worked.\n",
    "fnlwgt | continuous.|\n",
    "education |Bachelors, Some-college, 11th, HS-grad, Prof-school, Assoc-acdm, Assoc-voc, 9th, 7th-8th, 12th, Masters, 1st-4th, 10th, Doctorate, 5th-6th, Preschool.\n",
    "education-num | continuous.\n",
    "marital-status | Married-civ-spouse, Divorced, Never-married, Separated, Widowed, Married-spouse-absent, Married-AF-spouse.\n",
    "occupation | Tech-support, Craft-repair, Other-service, Sales, Exec-managerial, Prof-specialty, Handlers-cleaners, Machine-op-inspct, Adm-clerical, Farming-fishing, Transport-moving, Priv-house-serv, Protective-serv, Armed-Forces.\n",
    "relationship | Wife, Own-child, Husband, Not-in-family, Other-relative, Unmarried.\n",
    "race |White, Asian-Pac-Islander, Amer-Indian-Eskimo, Other, Black.\n",
    "sex | Female, Male.\n",
    "capital-gain | continuous.\n",
    "capital-loss | continuous.\n",
    "hours-per-week | continuous.\n",
    "native-country | United-States, Cambodia, England, Puerto-Rico, Canada, Germany, Outlying-US(Guam-USVI-etc), India, Japan, Greece, South, China, Cuba, Iran, Honduras, Philippines, Italy, Poland, Jamaica, Vietnam, Mexico, Portugal, Ireland, France, Dominican-Republic, Laos, Ecuador, Taiwan, Haiti, Columbia, Hungary, Guatemala, Nicaragua, Scotland, Thailand, Yugoslavia, El-Salvador, Trinadad&Tobago, Peru, Hong, Holand-Netherlands.\n",
    "income| >50K, <=50K"
   ]
  },
  {
   "cell_type": "markdown",
   "id": "4823afb0",
   "metadata": {},
   "source": [
    "**Note:** \n",
    "1. Check for missing values, invalid data\n",
    "2. For all features containing too many categories, try to reduce the number of categories if you think it is useful information for prediction of income."
   ]
  },
  {
   "cell_type": "code",
   "execution_count": 5,
   "id": "01fa6d55-a73e-4b8a-a65f-e39bb7893bf3",
   "metadata": {},
   "outputs": [
    {
     "name": "stdout",
     "output_type": "stream",
     "text": [
      "Loaded adult.csv\n",
      "Shape: (32571, 15)\n"
     ]
    },
    {
     "data": {
      "text/html": [
       "<div>\n",
       "<style scoped>\n",
       "    .dataframe tbody tr th:only-of-type {\n",
       "        vertical-align: middle;\n",
       "    }\n",
       "\n",
       "    .dataframe tbody tr th {\n",
       "        vertical-align: top;\n",
       "    }\n",
       "\n",
       "    .dataframe thead th {\n",
       "        text-align: right;\n",
       "    }\n",
       "</style>\n",
       "<table border=\"1\" class=\"dataframe\">\n",
       "  <thead>\n",
       "    <tr style=\"text-align: right;\">\n",
       "      <th></th>\n",
       "      <th>age</th>\n",
       "      <th>workclass</th>\n",
       "      <th>fnlwgt</th>\n",
       "      <th>education</th>\n",
       "      <th>education-num</th>\n",
       "      <th>marital-status</th>\n",
       "      <th>occupation</th>\n",
       "      <th>relationship</th>\n",
       "      <th>race</th>\n",
       "      <th>sex</th>\n",
       "      <th>capital-gain</th>\n",
       "      <th>capital-loss</th>\n",
       "      <th>hours-per-week</th>\n",
       "      <th>native-country</th>\n",
       "      <th>income</th>\n",
       "    </tr>\n",
       "  </thead>\n",
       "  <tbody>\n",
       "    <tr>\n",
       "      <th>0</th>\n",
       "      <td>39</td>\n",
       "      <td>State-gov</td>\n",
       "      <td>77516</td>\n",
       "      <td>Bachelors</td>\n",
       "      <td>13</td>\n",
       "      <td>Never-married</td>\n",
       "      <td>Adm-clerical</td>\n",
       "      <td>Not-in-family</td>\n",
       "      <td>White</td>\n",
       "      <td>Male</td>\n",
       "      <td>2174</td>\n",
       "      <td>0</td>\n",
       "      <td>40</td>\n",
       "      <td>United-States</td>\n",
       "      <td>&lt;=50K</td>\n",
       "    </tr>\n",
       "    <tr>\n",
       "      <th>1</th>\n",
       "      <td>50</td>\n",
       "      <td>Self-emp-not-inc</td>\n",
       "      <td>83311</td>\n",
       "      <td>Bachelors</td>\n",
       "      <td>13</td>\n",
       "      <td>Married-civ-spouse</td>\n",
       "      <td>Exec-managerial</td>\n",
       "      <td>Husband</td>\n",
       "      <td>White</td>\n",
       "      <td>Male</td>\n",
       "      <td>0</td>\n",
       "      <td>0</td>\n",
       "      <td>13</td>\n",
       "      <td>United-States</td>\n",
       "      <td>&lt;=50K</td>\n",
       "    </tr>\n",
       "    <tr>\n",
       "      <th>2</th>\n",
       "      <td>38</td>\n",
       "      <td>Private</td>\n",
       "      <td>215646</td>\n",
       "      <td>HS-grad</td>\n",
       "      <td>9</td>\n",
       "      <td>Divorced</td>\n",
       "      <td>Handlers-cleaners</td>\n",
       "      <td>Not-in-family</td>\n",
       "      <td>White</td>\n",
       "      <td>Male</td>\n",
       "      <td>0</td>\n",
       "      <td>0</td>\n",
       "      <td>40</td>\n",
       "      <td>United-States</td>\n",
       "      <td>&lt;=50K</td>\n",
       "    </tr>\n",
       "    <tr>\n",
       "      <th>3</th>\n",
       "      <td>53</td>\n",
       "      <td>Private</td>\n",
       "      <td>234721</td>\n",
       "      <td>11th</td>\n",
       "      <td>7</td>\n",
       "      <td>Married-civ-spouse</td>\n",
       "      <td>Handlers-cleaners</td>\n",
       "      <td>Husband</td>\n",
       "      <td>Black</td>\n",
       "      <td>Male</td>\n",
       "      <td>0</td>\n",
       "      <td>0</td>\n",
       "      <td>40</td>\n",
       "      <td>United-States</td>\n",
       "      <td>&lt;=50K</td>\n",
       "    </tr>\n",
       "    <tr>\n",
       "      <th>4</th>\n",
       "      <td>28</td>\n",
       "      <td>Private</td>\n",
       "      <td>338409</td>\n",
       "      <td>Bachelors</td>\n",
       "      <td>13</td>\n",
       "      <td>Married-civ-spouse</td>\n",
       "      <td>Prof-specialty</td>\n",
       "      <td>Wife</td>\n",
       "      <td>Black</td>\n",
       "      <td>Female</td>\n",
       "      <td>0</td>\n",
       "      <td>0</td>\n",
       "      <td>40</td>\n",
       "      <td>Cuba</td>\n",
       "      <td>&lt;=50K</td>\n",
       "    </tr>\n",
       "  </tbody>\n",
       "</table>\n",
       "</div>"
      ],
      "text/plain": [
       "   age          workclass  fnlwgt   education  education-num       marital-status          occupation    relationship  \\\n",
       "0   39          State-gov   77516   Bachelors             13        Never-married        Adm-clerical   Not-in-family   \n",
       "1   50   Self-emp-not-inc   83311   Bachelors             13   Married-civ-spouse     Exec-managerial         Husband   \n",
       "2   38            Private  215646     HS-grad              9             Divorced   Handlers-cleaners   Not-in-family   \n",
       "3   53            Private  234721        11th              7   Married-civ-spouse   Handlers-cleaners         Husband   \n",
       "4   28            Private  338409   Bachelors             13   Married-civ-spouse      Prof-specialty            Wife   \n",
       "\n",
       "     race      sex  capital-gain  capital-loss  hours-per-week  native-country  income  \n",
       "0   White     Male          2174             0              40   United-States   <=50K  \n",
       "1   White     Male             0             0              13   United-States   <=50K  \n",
       "2   White     Male             0             0              40   United-States   <=50K  \n",
       "3   Black     Male             0             0              40   United-States   <=50K  \n",
       "4   Black   Female             0             0              40            Cuba   <=50K  "
      ]
     },
     "execution_count": 5,
     "metadata": {},
     "output_type": "execute_result"
    }
   ],
   "source": [
    "import pandas as pd\n",
    "import numpy as np\n",
    "\n",
    "# 보기 좋게 표시 설정\n",
    "#pd.set_option(\"display.max_rows\", 100)\n",
    "#pd.set_option(\"display.max_columns\", 50)\n",
    "#pd.set_option(\"display.width\", 120)\n",
    "\n",
    "df = pd.read_csv('adult.csv')\n",
    "\n",
    "print(\"Loaded adult.csv\")\n",
    "print(\"Shape:\", df.shape)\n",
    "df.head()\n"
   ]
  },
  {
   "cell_type": "code",
   "execution_count": 9,
   "id": "c145181d-2577-44be-8b19-5e628203f6e1",
   "metadata": {},
   "outputs": [
    {
     "name": "stdout",
     "output_type": "stream",
     "text": [
      "age                int64\n",
      "workclass         object\n",
      "fnlwgt             int64\n",
      "education         object\n",
      "education-num      int64\n",
      "marital-status    object\n",
      "occupation        object\n",
      "relationship      object\n",
      "race              object\n",
      "sex               object\n",
      "capital-gain       int64\n",
      "capital-loss       int64\n",
      "hours-per-week     int64\n",
      "native-country    object\n",
      "income            object\n",
      "dtype: object\n"
     ]
    }
   ],
   "source": [
    "print(df.dtypes)"
   ]
  },
  {
   "cell_type": "code",
   "execution_count": 11,
   "id": "d677d258-0007-4b61-94a4-e96af5d8cc79",
   "metadata": {},
   "outputs": [
    {
     "data": {
      "text/plain": [
       "fnlwgt            21648\n",
       "capital-gain        119\n",
       "hours-per-week       94\n",
       "capital-loss         92\n",
       "age                  73\n",
       "native-country       42\n",
       "education            16\n",
       "education-num        16\n",
       "occupation           15\n",
       "workclass             9\n",
       "marital-status        7\n",
       "relationship          6\n",
       "race                  5\n",
       "sex                   2\n",
       "income                2\n",
       "dtype: int64"
      ]
     },
     "execution_count": 11,
     "metadata": {},
     "output_type": "execute_result"
    }
   ],
   "source": [
    "df.nunique(dropna=False).sort_values(ascending=False)"
   ]
  },
  {
   "cell_type": "code",
   "execution_count": 13,
   "id": "72dd3aae-02b5-4d0f-ae4e-55d094c9e661",
   "metadata": {},
   "outputs": [
    {
     "name": "stdout",
     "output_type": "stream",
     "text": [
      "Sample value counts for 'workclass':\n",
      " workclass\n",
      "Private             22704\n",
      "Self-emp-not-inc     2542\n",
      "Local-gov            2093\n",
      "?                    1836\n",
      "State-gov            1299\n",
      "Self-emp-inc         1116\n",
      "Federal-gov           960\n",
      "Without-pay            14\n",
      "Never-worked            7\n",
      "Name: count, dtype: int64\n"
     ]
    }
   ],
   "source": [
    "print(\"Sample value counts for 'workclass':\\n\", df['workclass'].value_counts(dropna=False).head(10))\n"
   ]
  },
  {
   "cell_type": "code",
   "execution_count": 21,
   "id": "d3b93b15-586a-454a-843c-bfea4bfdf559",
   "metadata": {},
   "outputs": [
    {
     "name": "stdout",
     "output_type": "stream",
     "text": [
      "Missing values per column:\n",
      " age               0\n",
      "workclass         0\n",
      "fnlwgt            0\n",
      "education         0\n",
      "education-num     0\n",
      "marital-status    0\n",
      "occupation        0\n",
      "relationship      0\n",
      "race              0\n",
      "sex               0\n",
      "capital-gain      0\n",
      "capital-loss      0\n",
      "hours-per-week    0\n",
      "native-country    0\n",
      "income            0\n",
      "dtype: int64 \n",
      "\n",
      "Total missing values in dataframe: 0\n"
     ]
    }
   ],
   "source": [
    "# ? -> NaN\n",
    "obj_cols = df.select_dtypes(include=['object']).columns\n",
    "for c in obj_cols:\n",
    "    df[c] = df[c].astype(str).str.strip()\n",
    "\n",
    "df.replace('?', np.nan, inplace=True)\n",
    "\n",
    "missing_per_col = df.isna().sum().sort_values(ascending=False)\n",
    "print(\"Missing values per column:\\n\", missing_per_col, \"\\n\")\n",
    "print(\"Total missing values in dataframe:\", int(df.isna().sum().sum()))\n"
   ]
  },
  {
   "cell_type": "code",
   "execution_count": 23,
   "id": "c9271520-2189-46c9-86f0-aa5d7317fe8a",
   "metadata": {},
   "outputs": [
    {
     "name": "stdout",
     "output_type": "stream",
     "text": [
      "                age        fnlwgt  education-num  capital-gain  capital-loss  hours-per-week\n",
      "count  32571.000000  3.257100e+04   32571.000000  32571.000000  32571.000000    32571.000000\n",
      "mean      38.582512  1.897863e+05      10.080777   1077.317982     87.277026       40.437506\n",
      "std       13.640623  1.055484e+05       2.572477   7384.182377    402.901257       12.345725\n",
      "min       17.000000  1.228500e+04       1.000000      0.000000      0.000000        1.000000\n",
      "25%       28.000000  1.178330e+05       9.000000      0.000000      0.000000       40.000000\n",
      "50%       37.000000  1.783830e+05      10.000000      0.000000      0.000000       40.000000\n",
      "75%       48.000000  2.370650e+05      12.000000      0.000000      0.000000       45.000000\n",
      "max       90.000000  1.484705e+06      16.000000  99999.000000   4356.000000       99.000000\n",
      "\n",
      "Negative counts by column:\n",
      " age               0\n",
      "fnlwgt            0\n",
      "education-num     0\n",
      "capital-gain      0\n",
      "capital-loss      0\n",
      "hours-per-week    0\n",
      "dtype: int64\n"
     ]
    }
   ],
   "source": [
    "num_cols = ['age','fnlwgt','education-num','capital-gain','capital-loss','hours-per-week']\n",
    "desc = df[num_cols].describe()\n",
    "print(desc)\n",
    "\n",
    "neg_counts = (df[num_cols] < 0).sum()\n",
    "print(\"\\nNegative counts by column:\\n\", neg_counts)\n"
   ]
  },
  {
   "cell_type": "code",
   "execution_count": 25,
   "id": "33883950-3332-42ed-937d-8ac2cd7f02df",
   "metadata": {},
   "outputs": [
    {
     "name": "stdout",
     "output_type": "stream",
     "text": [
      "Missing values per column AFTER fill:\n",
      " age               0\n",
      "workclass         0\n",
      "fnlwgt            0\n",
      "education         0\n",
      "education-num     0\n",
      "marital-status    0\n",
      "occupation        0\n",
      "relationship      0\n",
      "race              0\n",
      "sex               0\n",
      "capital-gain      0\n",
      "capital-loss      0\n",
      "hours-per-week    0\n",
      "native-country    0\n",
      "income            0\n",
      "dtype: int64\n",
      "\n",
      "Total missing AFTER fill: 0\n"
     ]
    }
   ],
   "source": [
    "fill_unknown_cols = ['workclass', 'occupation', 'native-country']\n",
    "for c in fill_unknown_cols:\n",
    "    df[c] = df[c].fillna('Unknown')\n",
    "\n",
    "missing_after = df.isna().sum().sort_values(ascending=False)\n",
    "print(\"Missing values per column AFTER fill:\\n\", missing_after)\n",
    "print(\"\\nTotal missing AFTER fill:\", int(df.isna().sum().sum()))\n"
   ]
  },
  {
   "cell_type": "code",
   "execution_count": 27,
   "id": "203e039c-c524-424a-a363-0a417806598e",
   "metadata": {},
   "outputs": [
    {
     "name": "stdout",
     "output_type": "stream",
     "text": [
      "native-country value counts:\n",
      " native-country\n",
      "United-States    29177\n",
      "Other             3394\n",
      "Name: count, dtype: int64\n",
      "\n",
      "workclass categories: ['Federal-gov', 'Local-gov', 'Never-worked', 'Private', 'Self-emp-inc', 'Self-emp-not-inc', 'State-gov', 'Without-pay', 'nan']\n",
      "occupation categories (len=15): ['Adm-clerical', 'Armed-Forces', 'Craft-repair', 'Exec-managerial', 'Farming-fishing', 'Handlers-cleaners', 'Machine-op-inspct', 'Other-service', 'Priv-house-serv', 'Prof-specialty', 'Protective-serv', 'Sales', 'Tech-support', 'Transport-moving', 'nan']\n"
     ]
    }
   ],
   "source": [
    "# native-country → United-States vs Other\n",
    "df['native-country'] = np.where(df['native-country'] == 'United-States', 'United-States', 'Other')\n",
    "\n",
    "print(\"native-country value counts:\\n\", df['native-country'].value_counts())\n",
    "\n",
    "print(\"\\nworkclass categories:\", sorted(df['workclass'].unique().tolist()))\n",
    "print(\"occupation categories (len={}):\".format(df['occupation'].nunique()), sorted(df['occupation'].unique().tolist()))\n"
   ]
  },
  {
   "cell_type": "code",
   "execution_count": 31,
   "id": "eb570654-5841-4490-ae7a-0a51655bb207",
   "metadata": {},
   "outputs": [
    {
     "name": "stdout",
     "output_type": "stream",
     "text": [
      "Class balance (income):\n",
      " income\n",
      "<=50K    0.759234\n",
      ">50K     0.240766\n",
      "Name: proportion, dtype: float64\n",
      "\n",
      "Preview of dtypes:\n",
      " age                  int64\n",
      "workclass         category\n",
      "fnlwgt               int64\n",
      "education         category\n",
      "education-num        int64\n",
      "marital-status    category\n",
      "occupation        category\n",
      "relationship      category\n",
      "race              category\n",
      "sex               category\n",
      "capital-gain         int64\n",
      "capital-loss         int64\n",
      "hours-per-week       int64\n",
      "native-country    category\n",
      "income            category\n",
      "income_binary         int8\n",
      "dtype: object\n"
     ]
    }
   ],
   "source": [
    "# numeric\n",
    "numeric_cols = ['age','fnlwgt','education-num','capital-gain','capital-loss','hours-per-week']\n",
    "for c in numeric_cols:\n",
    "    df[c] = pd.to_numeric(df[c], errors='coerce')\n",
    "\n",
    "# category\n",
    "cat_cols = ['workclass','education','marital-status','occupation','relationship','race','sex','native-country','income']\n",
    "for c in cat_cols:\n",
    "    df[c] = df[c].astype('category')\n",
    "\n",
    "# income_binary\n",
    "df['income_binary'] = df['income'].map({'>50K':1, '<=50K':0}).astype('int8')\n",
    "\n",
    "print(\"Class balance (income):\\n\", df['income'].value_counts(normalize=True))\n",
    "print(\"\\nPreview of dtypes:\\n\", df.dtypes)\n"
   ]
  },
  {
   "cell_type": "code",
   "execution_count": 33,
   "id": "c66b9655-9e19-44ff-b59b-9aa59c0c9a48",
   "metadata": {},
   "outputs": [
    {
     "data": {
      "text/html": [
       "<div>\n",
       "<style scoped>\n",
       "    .dataframe tbody tr th:only-of-type {\n",
       "        vertical-align: middle;\n",
       "    }\n",
       "\n",
       "    .dataframe tbody tr th {\n",
       "        vertical-align: top;\n",
       "    }\n",
       "\n",
       "    .dataframe thead th {\n",
       "        text-align: right;\n",
       "    }\n",
       "</style>\n",
       "<table border=\"1\" class=\"dataframe\">\n",
       "  <thead>\n",
       "    <tr style=\"text-align: right;\">\n",
       "      <th></th>\n",
       "      <th>std</th>\n",
       "      <th>median</th>\n",
       "    </tr>\n",
       "  </thead>\n",
       "  <tbody>\n",
       "    <tr>\n",
       "      <th>age</th>\n",
       "      <td>13.640623</td>\n",
       "      <td>37.0</td>\n",
       "    </tr>\n",
       "    <tr>\n",
       "      <th>fnlwgt</th>\n",
       "      <td>105548.390541</td>\n",
       "      <td>178383.0</td>\n",
       "    </tr>\n",
       "    <tr>\n",
       "      <th>education-num</th>\n",
       "      <td>2.572477</td>\n",
       "      <td>10.0</td>\n",
       "    </tr>\n",
       "    <tr>\n",
       "      <th>capital-gain</th>\n",
       "      <td>7384.182377</td>\n",
       "      <td>0.0</td>\n",
       "    </tr>\n",
       "    <tr>\n",
       "      <th>capital-loss</th>\n",
       "      <td>402.901257</td>\n",
       "      <td>0.0</td>\n",
       "    </tr>\n",
       "    <tr>\n",
       "      <th>hours-per-week</th>\n",
       "      <td>12.345725</td>\n",
       "      <td>40.0</td>\n",
       "    </tr>\n",
       "  </tbody>\n",
       "</table>\n",
       "</div>"
      ],
      "text/plain": [
       "                          std    median\n",
       "age                 13.640623      37.0\n",
       "fnlwgt          105548.390541  178383.0\n",
       "education-num        2.572477      10.0\n",
       "capital-gain      7384.182377       0.0\n",
       "capital-loss       402.901257       0.0\n",
       "hours-per-week      12.345725      40.0"
      ]
     },
     "execution_count": 33,
     "metadata": {},
     "output_type": "execute_result"
    }
   ],
   "source": [
    "stats_std = df[numeric_cols].std()\n",
    "stats_median = df[numeric_cols].median()\n",
    "summary_stats = pd.DataFrame({'std': stats_std, 'median': stats_median})\n",
    "summary_stats\n"
   ]
  },
  {
   "cell_type": "code",
   "execution_count": null,
   "id": "a3a03721-4184-4f04-9619-5103008690b3",
   "metadata": {},
   "outputs": [],
   "source": [
    "clean_cols = ['age','workclass','fnlwgt','education','education-num','marital-status',\n",
    "              'occupation','relationship','race','sex','capital-gain','capital-loss',\n",
    "              'hours-per-week','native-country','income','income_binary']\n",
    "\n",
    "df_clean = df[clean_cols].copy()\n",
    "df_clean.to_csv('adult_clean.csv', index=False)\n",
    "\n",
    "print(\"Saved cleaned dataset to adult_clean.csv\")\n",
    "df_clean.head()\n"
   ]
  }
 ],
 "metadata": {
  "kernelspec": {
   "display_name": "Python 3 (ipykernel)",
   "language": "python",
   "name": "python3"
  },
  "language_info": {
   "codemirror_mode": {
    "name": "ipython",
    "version": 3
   },
   "file_extension": ".py",
   "mimetype": "text/x-python",
   "name": "python",
   "nbconvert_exporter": "python",
   "pygments_lexer": "ipython3",
   "version": "3.12.4"
  }
 },
 "nbformat": 4,
 "nbformat_minor": 5
}
