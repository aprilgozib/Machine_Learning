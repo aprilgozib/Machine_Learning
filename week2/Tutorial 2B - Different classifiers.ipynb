{
 "cells": [
  {
   "cell_type": "markdown",
   "id": "bce07351",
   "metadata": {},
   "source": [
    "## Week 2 - Different classifiers"
   ]
  },
  {
   "cell_type": "markdown",
   "id": "e1533d6e",
   "metadata": {},
   "source": [
    "Here, we look at building models using the different classifiers (discussed in the lectures) from scikit-learn."
   ]
  },
  {
   "cell_type": "markdown",
   "id": "3a805f1c",
   "metadata": {},
   "source": [
    "#### Import packages"
   ]
  },
  {
   "cell_type": "code",
   "execution_count": 5,
   "id": "d4fd8339",
   "metadata": {},
   "outputs": [],
   "source": [
    "import numpy as np\n",
    "import pandas as pd\n",
    "\n",
    "#from graphviz import Source # required for printing decision trees in graphic format\n",
    "from sklearn.naive_bayes import GaussianNB\n",
    "from sklearn.neighbors import KNeighborsClassifier\n",
    "from sklearn.tree import DecisionTreeClassifier, export_graphviz\n",
    "\n",
    "# model utils\n",
    "from sklearn.metrics import accuracy_score\n",
    "from sklearn.preprocessing import LabelEncoder\n",
    "from sklearn.model_selection import train_test_split\n",
    "from sklearn.compose import make_column_selector as selector"
   ]
  },
  {
   "cell_type": "code",
   "execution_count": 2,
   "id": "35dbff4b",
   "metadata": {},
   "outputs": [],
   "source": [
    "#Input files - this can be obtained running 'Tutorial 2A - Introduction to machine-learning with scikit-learn.ipynb'\n",
    "file_adult_census = 'adult_census_normalized_encoded.csv'"
   ]
  },
  {
   "cell_type": "markdown",
   "id": "59a769e8",
   "metadata": {},
   "source": [
    "#### Load data"
   ]
  },
  {
   "cell_type": "code",
   "execution_count": 3,
   "id": "49973c61",
   "metadata": {},
   "outputs": [
    {
     "data": {
      "text/html": [
       "<div>\n",
       "<style scoped>\n",
       "    .dataframe tbody tr th:only-of-type {\n",
       "        vertical-align: middle;\n",
       "    }\n",
       "\n",
       "    .dataframe tbody tr th {\n",
       "        vertical-align: top;\n",
       "    }\n",
       "\n",
       "    .dataframe thead th {\n",
       "        text-align: right;\n",
       "    }\n",
       "</style>\n",
       "<table border=\"1\" class=\"dataframe\">\n",
       "  <thead>\n",
       "    <tr style=\"text-align: right;\">\n",
       "      <th></th>\n",
       "      <th>age</th>\n",
       "      <th>education-num</th>\n",
       "      <th>workclass_Federal-gov</th>\n",
       "      <th>workclass_Local-gov</th>\n",
       "      <th>workclass_Never-worked</th>\n",
       "      <th>workclass_Private</th>\n",
       "      <th>workclass_Self-emp-inc</th>\n",
       "      <th>workclass_Self-emp-not-inc</th>\n",
       "      <th>workclass_State-gov</th>\n",
       "      <th>workclass_Without-pay</th>\n",
       "      <th>...</th>\n",
       "      <th>native-region_Asia_East</th>\n",
       "      <th>native-region_Central_America</th>\n",
       "      <th>native-region_Europe_East</th>\n",
       "      <th>native-region_Europe_West</th>\n",
       "      <th>native-region_North_America</th>\n",
       "      <th>native-region_South_America</th>\n",
       "      <th>capital-gain</th>\n",
       "      <th>capital-loss</th>\n",
       "      <th>hours-per-week</th>\n",
       "      <th>income&gt;50K</th>\n",
       "    </tr>\n",
       "  </thead>\n",
       "  <tbody>\n",
       "    <tr>\n",
       "      <th>0</th>\n",
       "      <td>0.301370</td>\n",
       "      <td>13</td>\n",
       "      <td>0.0</td>\n",
       "      <td>0.0</td>\n",
       "      <td>0.0</td>\n",
       "      <td>0.0</td>\n",
       "      <td>0.0</td>\n",
       "      <td>0.0</td>\n",
       "      <td>1.0</td>\n",
       "      <td>0.0</td>\n",
       "      <td>...</td>\n",
       "      <td>0.0</td>\n",
       "      <td>0.0</td>\n",
       "      <td>0.0</td>\n",
       "      <td>0.0</td>\n",
       "      <td>1.0</td>\n",
       "      <td>0.0</td>\n",
       "      <td>0.0</td>\n",
       "      <td>0.0</td>\n",
       "      <td>1.0</td>\n",
       "      <td>0</td>\n",
       "    </tr>\n",
       "    <tr>\n",
       "      <th>1</th>\n",
       "      <td>0.452055</td>\n",
       "      <td>13</td>\n",
       "      <td>0.0</td>\n",
       "      <td>0.0</td>\n",
       "      <td>0.0</td>\n",
       "      <td>0.0</td>\n",
       "      <td>0.0</td>\n",
       "      <td>1.0</td>\n",
       "      <td>0.0</td>\n",
       "      <td>0.0</td>\n",
       "      <td>...</td>\n",
       "      <td>0.0</td>\n",
       "      <td>0.0</td>\n",
       "      <td>0.0</td>\n",
       "      <td>0.0</td>\n",
       "      <td>1.0</td>\n",
       "      <td>0.0</td>\n",
       "      <td>0.0</td>\n",
       "      <td>0.0</td>\n",
       "      <td>0.0</td>\n",
       "      <td>0</td>\n",
       "    </tr>\n",
       "    <tr>\n",
       "      <th>2</th>\n",
       "      <td>0.287671</td>\n",
       "      <td>9</td>\n",
       "      <td>0.0</td>\n",
       "      <td>0.0</td>\n",
       "      <td>0.0</td>\n",
       "      <td>1.0</td>\n",
       "      <td>0.0</td>\n",
       "      <td>0.0</td>\n",
       "      <td>0.0</td>\n",
       "      <td>0.0</td>\n",
       "      <td>...</td>\n",
       "      <td>0.0</td>\n",
       "      <td>0.0</td>\n",
       "      <td>0.0</td>\n",
       "      <td>0.0</td>\n",
       "      <td>1.0</td>\n",
       "      <td>0.0</td>\n",
       "      <td>0.0</td>\n",
       "      <td>0.0</td>\n",
       "      <td>1.0</td>\n",
       "      <td>0</td>\n",
       "    </tr>\n",
       "    <tr>\n",
       "      <th>3</th>\n",
       "      <td>0.493151</td>\n",
       "      <td>7</td>\n",
       "      <td>0.0</td>\n",
       "      <td>0.0</td>\n",
       "      <td>0.0</td>\n",
       "      <td>1.0</td>\n",
       "      <td>0.0</td>\n",
       "      <td>0.0</td>\n",
       "      <td>0.0</td>\n",
       "      <td>0.0</td>\n",
       "      <td>...</td>\n",
       "      <td>0.0</td>\n",
       "      <td>0.0</td>\n",
       "      <td>0.0</td>\n",
       "      <td>0.0</td>\n",
       "      <td>1.0</td>\n",
       "      <td>0.0</td>\n",
       "      <td>0.0</td>\n",
       "      <td>0.0</td>\n",
       "      <td>1.0</td>\n",
       "      <td>0</td>\n",
       "    </tr>\n",
       "    <tr>\n",
       "      <th>4</th>\n",
       "      <td>0.150685</td>\n",
       "      <td>13</td>\n",
       "      <td>0.0</td>\n",
       "      <td>0.0</td>\n",
       "      <td>0.0</td>\n",
       "      <td>1.0</td>\n",
       "      <td>0.0</td>\n",
       "      <td>0.0</td>\n",
       "      <td>0.0</td>\n",
       "      <td>0.0</td>\n",
       "      <td>...</td>\n",
       "      <td>0.0</td>\n",
       "      <td>1.0</td>\n",
       "      <td>0.0</td>\n",
       "      <td>0.0</td>\n",
       "      <td>0.0</td>\n",
       "      <td>0.0</td>\n",
       "      <td>0.0</td>\n",
       "      <td>0.0</td>\n",
       "      <td>1.0</td>\n",
       "      <td>0</td>\n",
       "    </tr>\n",
       "  </tbody>\n",
       "</table>\n",
       "<p>5 rows × 56 columns</p>\n",
       "</div>"
      ],
      "text/plain": [
       "        age  education-num  workclass_Federal-gov  workclass_Local-gov  \\\n",
       "0  0.301370             13                    0.0                  0.0   \n",
       "1  0.452055             13                    0.0                  0.0   \n",
       "2  0.287671              9                    0.0                  0.0   \n",
       "3  0.493151              7                    0.0                  0.0   \n",
       "4  0.150685             13                    0.0                  0.0   \n",
       "\n",
       "   workclass_Never-worked  workclass_Private  workclass_Self-emp-inc  \\\n",
       "0                     0.0                0.0                     0.0   \n",
       "1                     0.0                0.0                     0.0   \n",
       "2                     0.0                1.0                     0.0   \n",
       "3                     0.0                1.0                     0.0   \n",
       "4                     0.0                1.0                     0.0   \n",
       "\n",
       "   workclass_Self-emp-not-inc  workclass_State-gov  workclass_Without-pay  \\\n",
       "0                         0.0                  1.0                    0.0   \n",
       "1                         1.0                  0.0                    0.0   \n",
       "2                         0.0                  0.0                    0.0   \n",
       "3                         0.0                  0.0                    0.0   \n",
       "4                         0.0                  0.0                    0.0   \n",
       "\n",
       "   ...  native-region_Asia_East  native-region_Central_America  \\\n",
       "0  ...                      0.0                            0.0   \n",
       "1  ...                      0.0                            0.0   \n",
       "2  ...                      0.0                            0.0   \n",
       "3  ...                      0.0                            0.0   \n",
       "4  ...                      0.0                            1.0   \n",
       "\n",
       "   native-region_Europe_East  native-region_Europe_West  \\\n",
       "0                        0.0                        0.0   \n",
       "1                        0.0                        0.0   \n",
       "2                        0.0                        0.0   \n",
       "3                        0.0                        0.0   \n",
       "4                        0.0                        0.0   \n",
       "\n",
       "   native-region_North_America  native-region_South_America  capital-gain  \\\n",
       "0                          1.0                          0.0           0.0   \n",
       "1                          1.0                          0.0           0.0   \n",
       "2                          1.0                          0.0           0.0   \n",
       "3                          1.0                          0.0           0.0   \n",
       "4                          0.0                          0.0           0.0   \n",
       "\n",
       "   capital-loss  hours-per-week  income>50K  \n",
       "0           0.0             1.0           0  \n",
       "1           0.0             0.0           0  \n",
       "2           0.0             1.0           0  \n",
       "3           0.0             1.0           0  \n",
       "4           0.0             1.0           0  \n",
       "\n",
       "[5 rows x 56 columns]"
      ]
     },
     "execution_count": 3,
     "metadata": {},
     "output_type": "execute_result"
    }
   ],
   "source": [
    "df = pd.read_csv(file_adult_census)\n",
    "df.head()"
   ]
  },
  {
   "cell_type": "markdown",
   "id": "85688ce4",
   "metadata": {},
   "source": [
    "Here, we use the 55 features to determine the outcome of the target variable, `income>50K`."
   ]
  },
  {
   "cell_type": "code",
   "execution_count": 4,
   "id": "b39255f3",
   "metadata": {},
   "outputs": [
    {
     "data": {
      "text/plain": [
       "age                                     float64\n",
       "education-num                             int64\n",
       "workclass_Federal-gov                   float64\n",
       "workclass_Local-gov                     float64\n",
       "workclass_Never-worked                  float64\n",
       "workclass_Private                       float64\n",
       "workclass_Self-emp-inc                  float64\n",
       "workclass_Self-emp-not-inc              float64\n",
       "workclass_State-gov                     float64\n",
       "workclass_Without-pay                   float64\n",
       "marital-status_Divorced                 float64\n",
       "marital-status_Married-AF-spouse        float64\n",
       "marital-status_Married-civ-spouse       float64\n",
       "marital-status_Married-spouse-absent    float64\n",
       "marital-status_Never-married            float64\n",
       "marital-status_Separated                float64\n",
       "marital-status_Widowed                  float64\n",
       "occupation_Adm-clerical                 float64\n",
       "occupation_Armed-Forces                 float64\n",
       "occupation_Craft-repair                 float64\n",
       "occupation_Exec-managerial              float64\n",
       "occupation_Farming-fishing              float64\n",
       "occupation_Handlers-cleaners            float64\n",
       "occupation_Machine-op-inspct            float64\n",
       "occupation_None                         float64\n",
       "occupation_Other-service                float64\n",
       "occupation_Priv-house-serv              float64\n",
       "occupation_Prof-specialty               float64\n",
       "occupation_Protective-serv              float64\n",
       "occupation_Sales                        float64\n",
       "occupation_Tech-support                 float64\n",
       "occupation_Transport-moving             float64\n",
       "relationship_Husband                    float64\n",
       "relationship_Not-in-family              float64\n",
       "relationship_Other-relative             float64\n",
       "relationship_Own-child                  float64\n",
       "relationship_Unmarried                  float64\n",
       "relationship_Wife                       float64\n",
       "race_Amer-Indian-Eskimo                 float64\n",
       "race_Asian-Pac-Islander                 float64\n",
       "race_Black                              float64\n",
       "race_Other                              float64\n",
       "race_White                              float64\n",
       "sex_Female                              float64\n",
       "sex_Male                                float64\n",
       "native-region_Asia_Central              float64\n",
       "native-region_Asia_East                 float64\n",
       "native-region_Central_America           float64\n",
       "native-region_Europe_East               float64\n",
       "native-region_Europe_West               float64\n",
       "native-region_North_America             float64\n",
       "native-region_South_America             float64\n",
       "capital-gain                            float64\n",
       "capital-loss                            float64\n",
       "hours-per-week                          float64\n",
       "income>50K                                int64\n",
       "dtype: object"
      ]
     },
     "execution_count": 4,
     "metadata": {},
     "output_type": "execute_result"
    }
   ],
   "source": [
    "df.dtypes"
   ]
  },
  {
   "cell_type": "code",
   "execution_count": 5,
   "id": "7b12c53b",
   "metadata": {},
   "outputs": [],
   "source": [
    "# Select columns containing categorical data\n",
    "categorical_columns = df[['education-num', 'capital-gain','capital-loss','hours-per-week']].columns\n",
    "# MaxDelq2PublicRecLast12M and MaxDelqEver were chosen as categories because \n",
    "# the data contains single digit values each representing a different meaning\n",
    "\n",
    "# Convert data type to category for these columns\n",
    "for column in categorical_columns:\n",
    "    df[column] = df[column].astype('category')  "
   ]
  },
  {
   "cell_type": "markdown",
   "id": "b243c833",
   "metadata": {},
   "source": [
    "Converted *education-num*, *capital-gain*, *capital-loss*, *hours-per-week* to categorical type."
   ]
  },
  {
   "cell_type": "code",
   "execution_count": 6,
   "id": "f3195d44",
   "metadata": {},
   "outputs": [
    {
     "data": {
      "text/plain": [
       "age                                     0\n",
       "education-num                           0\n",
       "workclass_Federal-gov                   0\n",
       "workclass_Local-gov                     0\n",
       "workclass_Never-worked                  0\n",
       "workclass_Private                       0\n",
       "workclass_Self-emp-inc                  0\n",
       "workclass_Self-emp-not-inc              0\n",
       "workclass_State-gov                     0\n",
       "workclass_Without-pay                   0\n",
       "marital-status_Divorced                 0\n",
       "marital-status_Married-AF-spouse        0\n",
       "marital-status_Married-civ-spouse       0\n",
       "marital-status_Married-spouse-absent    0\n",
       "marital-status_Never-married            0\n",
       "marital-status_Separated                0\n",
       "marital-status_Widowed                  0\n",
       "occupation_Adm-clerical                 0\n",
       "occupation_Armed-Forces                 0\n",
       "occupation_Craft-repair                 0\n",
       "occupation_Exec-managerial              0\n",
       "occupation_Farming-fishing              0\n",
       "occupation_Handlers-cleaners            0\n",
       "occupation_Machine-op-inspct            0\n",
       "occupation_None                         0\n",
       "occupation_Other-service                0\n",
       "occupation_Priv-house-serv              0\n",
       "occupation_Prof-specialty               0\n",
       "occupation_Protective-serv              0\n",
       "occupation_Sales                        0\n",
       "occupation_Tech-support                 0\n",
       "occupation_Transport-moving             0\n",
       "relationship_Husband                    0\n",
       "relationship_Not-in-family              0\n",
       "relationship_Other-relative             0\n",
       "relationship_Own-child                  0\n",
       "relationship_Unmarried                  0\n",
       "relationship_Wife                       0\n",
       "race_Amer-Indian-Eskimo                 0\n",
       "race_Asian-Pac-Islander                 0\n",
       "race_Black                              0\n",
       "race_Other                              0\n",
       "race_White                              0\n",
       "sex_Female                              0\n",
       "sex_Male                                0\n",
       "native-region_Asia_Central              0\n",
       "native-region_Asia_East                 0\n",
       "native-region_Central_America           0\n",
       "native-region_Europe_East               0\n",
       "native-region_Europe_West               0\n",
       "native-region_North_America             0\n",
       "native-region_South_America             0\n",
       "capital-gain                            0\n",
       "capital-loss                            0\n",
       "hours-per-week                          0\n",
       "income>50K                              0\n",
       "dtype: int64"
      ]
     },
     "execution_count": 6,
     "metadata": {},
     "output_type": "execute_result"
    }
   ],
   "source": [
    "df.isnull().sum()"
   ]
  },
  {
   "cell_type": "code",
   "execution_count": 7,
   "id": "0371fd15",
   "metadata": {},
   "outputs": [
    {
     "data": {
      "text/plain": [
       "0    0\n",
       "1    0\n",
       "2    0\n",
       "3    0\n",
       "4    0\n",
       "Name: income>50K, dtype: int64"
      ]
     },
     "execution_count": 7,
     "metadata": {},
     "output_type": "execute_result"
    }
   ],
   "source": [
    "target = df.pop('income>50K')\n",
    "target.head()"
   ]
  },
  {
   "cell_type": "code",
   "execution_count": 8,
   "id": "33291cd4",
   "metadata": {},
   "outputs": [
    {
     "data": {
      "text/html": [
       "<div>\n",
       "<style scoped>\n",
       "    .dataframe tbody tr th:only-of-type {\n",
       "        vertical-align: middle;\n",
       "    }\n",
       "\n",
       "    .dataframe tbody tr th {\n",
       "        vertical-align: top;\n",
       "    }\n",
       "\n",
       "    .dataframe thead th {\n",
       "        text-align: right;\n",
       "    }\n",
       "</style>\n",
       "<table border=\"1\" class=\"dataframe\">\n",
       "  <thead>\n",
       "    <tr style=\"text-align: right;\">\n",
       "      <th></th>\n",
       "      <th>age</th>\n",
       "      <th>education-num</th>\n",
       "      <th>workclass_Federal-gov</th>\n",
       "      <th>workclass_Local-gov</th>\n",
       "      <th>workclass_Never-worked</th>\n",
       "      <th>workclass_Private</th>\n",
       "      <th>workclass_Self-emp-inc</th>\n",
       "      <th>workclass_Self-emp-not-inc</th>\n",
       "      <th>workclass_State-gov</th>\n",
       "      <th>workclass_Without-pay</th>\n",
       "      <th>...</th>\n",
       "      <th>native-region_Asia_Central</th>\n",
       "      <th>native-region_Asia_East</th>\n",
       "      <th>native-region_Central_America</th>\n",
       "      <th>native-region_Europe_East</th>\n",
       "      <th>native-region_Europe_West</th>\n",
       "      <th>native-region_North_America</th>\n",
       "      <th>native-region_South_America</th>\n",
       "      <th>capital-gain</th>\n",
       "      <th>capital-loss</th>\n",
       "      <th>hours-per-week</th>\n",
       "    </tr>\n",
       "  </thead>\n",
       "  <tbody>\n",
       "    <tr>\n",
       "      <th>0</th>\n",
       "      <td>0.301370</td>\n",
       "      <td>13</td>\n",
       "      <td>0.0</td>\n",
       "      <td>0.0</td>\n",
       "      <td>0.0</td>\n",
       "      <td>0.0</td>\n",
       "      <td>0.0</td>\n",
       "      <td>0.0</td>\n",
       "      <td>1.0</td>\n",
       "      <td>0.0</td>\n",
       "      <td>...</td>\n",
       "      <td>0.0</td>\n",
       "      <td>0.0</td>\n",
       "      <td>0.0</td>\n",
       "      <td>0.0</td>\n",
       "      <td>0.0</td>\n",
       "      <td>1.0</td>\n",
       "      <td>0.0</td>\n",
       "      <td>0.0</td>\n",
       "      <td>0.0</td>\n",
       "      <td>1.0</td>\n",
       "    </tr>\n",
       "    <tr>\n",
       "      <th>1</th>\n",
       "      <td>0.452055</td>\n",
       "      <td>13</td>\n",
       "      <td>0.0</td>\n",
       "      <td>0.0</td>\n",
       "      <td>0.0</td>\n",
       "      <td>0.0</td>\n",
       "      <td>0.0</td>\n",
       "      <td>1.0</td>\n",
       "      <td>0.0</td>\n",
       "      <td>0.0</td>\n",
       "      <td>...</td>\n",
       "      <td>0.0</td>\n",
       "      <td>0.0</td>\n",
       "      <td>0.0</td>\n",
       "      <td>0.0</td>\n",
       "      <td>0.0</td>\n",
       "      <td>1.0</td>\n",
       "      <td>0.0</td>\n",
       "      <td>0.0</td>\n",
       "      <td>0.0</td>\n",
       "      <td>0.0</td>\n",
       "    </tr>\n",
       "    <tr>\n",
       "      <th>2</th>\n",
       "      <td>0.287671</td>\n",
       "      <td>9</td>\n",
       "      <td>0.0</td>\n",
       "      <td>0.0</td>\n",
       "      <td>0.0</td>\n",
       "      <td>1.0</td>\n",
       "      <td>0.0</td>\n",
       "      <td>0.0</td>\n",
       "      <td>0.0</td>\n",
       "      <td>0.0</td>\n",
       "      <td>...</td>\n",
       "      <td>0.0</td>\n",
       "      <td>0.0</td>\n",
       "      <td>0.0</td>\n",
       "      <td>0.0</td>\n",
       "      <td>0.0</td>\n",
       "      <td>1.0</td>\n",
       "      <td>0.0</td>\n",
       "      <td>0.0</td>\n",
       "      <td>0.0</td>\n",
       "      <td>1.0</td>\n",
       "    </tr>\n",
       "    <tr>\n",
       "      <th>3</th>\n",
       "      <td>0.493151</td>\n",
       "      <td>7</td>\n",
       "      <td>0.0</td>\n",
       "      <td>0.0</td>\n",
       "      <td>0.0</td>\n",
       "      <td>1.0</td>\n",
       "      <td>0.0</td>\n",
       "      <td>0.0</td>\n",
       "      <td>0.0</td>\n",
       "      <td>0.0</td>\n",
       "      <td>...</td>\n",
       "      <td>0.0</td>\n",
       "      <td>0.0</td>\n",
       "      <td>0.0</td>\n",
       "      <td>0.0</td>\n",
       "      <td>0.0</td>\n",
       "      <td>1.0</td>\n",
       "      <td>0.0</td>\n",
       "      <td>0.0</td>\n",
       "      <td>0.0</td>\n",
       "      <td>1.0</td>\n",
       "    </tr>\n",
       "    <tr>\n",
       "      <th>4</th>\n",
       "      <td>0.150685</td>\n",
       "      <td>13</td>\n",
       "      <td>0.0</td>\n",
       "      <td>0.0</td>\n",
       "      <td>0.0</td>\n",
       "      <td>1.0</td>\n",
       "      <td>0.0</td>\n",
       "      <td>0.0</td>\n",
       "      <td>0.0</td>\n",
       "      <td>0.0</td>\n",
       "      <td>...</td>\n",
       "      <td>0.0</td>\n",
       "      <td>0.0</td>\n",
       "      <td>1.0</td>\n",
       "      <td>0.0</td>\n",
       "      <td>0.0</td>\n",
       "      <td>0.0</td>\n",
       "      <td>0.0</td>\n",
       "      <td>0.0</td>\n",
       "      <td>0.0</td>\n",
       "      <td>1.0</td>\n",
       "    </tr>\n",
       "  </tbody>\n",
       "</table>\n",
       "<p>5 rows × 55 columns</p>\n",
       "</div>"
      ],
      "text/plain": [
       "        age education-num  workclass_Federal-gov  workclass_Local-gov  \\\n",
       "0  0.301370            13                    0.0                  0.0   \n",
       "1  0.452055            13                    0.0                  0.0   \n",
       "2  0.287671             9                    0.0                  0.0   \n",
       "3  0.493151             7                    0.0                  0.0   \n",
       "4  0.150685            13                    0.0                  0.0   \n",
       "\n",
       "   workclass_Never-worked  workclass_Private  workclass_Self-emp-inc  \\\n",
       "0                     0.0                0.0                     0.0   \n",
       "1                     0.0                0.0                     0.0   \n",
       "2                     0.0                1.0                     0.0   \n",
       "3                     0.0                1.0                     0.0   \n",
       "4                     0.0                1.0                     0.0   \n",
       "\n",
       "   workclass_Self-emp-not-inc  workclass_State-gov  workclass_Without-pay  \\\n",
       "0                         0.0                  1.0                    0.0   \n",
       "1                         1.0                  0.0                    0.0   \n",
       "2                         0.0                  0.0                    0.0   \n",
       "3                         0.0                  0.0                    0.0   \n",
       "4                         0.0                  0.0                    0.0   \n",
       "\n",
       "   ...  native-region_Asia_Central  native-region_Asia_East  \\\n",
       "0  ...                         0.0                      0.0   \n",
       "1  ...                         0.0                      0.0   \n",
       "2  ...                         0.0                      0.0   \n",
       "3  ...                         0.0                      0.0   \n",
       "4  ...                         0.0                      0.0   \n",
       "\n",
       "   native-region_Central_America  native-region_Europe_East  \\\n",
       "0                            0.0                        0.0   \n",
       "1                            0.0                        0.0   \n",
       "2                            0.0                        0.0   \n",
       "3                            0.0                        0.0   \n",
       "4                            1.0                        0.0   \n",
       "\n",
       "   native-region_Europe_West  native-region_North_America  \\\n",
       "0                        0.0                          1.0   \n",
       "1                        0.0                          1.0   \n",
       "2                        0.0                          1.0   \n",
       "3                        0.0                          1.0   \n",
       "4                        0.0                          0.0   \n",
       "\n",
       "   native-region_South_America  capital-gain  capital-loss  hours-per-week  \n",
       "0                          0.0           0.0           0.0             1.0  \n",
       "1                          0.0           0.0           0.0             0.0  \n",
       "2                          0.0           0.0           0.0             1.0  \n",
       "3                          0.0           0.0           0.0             1.0  \n",
       "4                          0.0           0.0           0.0             1.0  \n",
       "\n",
       "[5 rows x 55 columns]"
      ]
     },
     "execution_count": 8,
     "metadata": {},
     "output_type": "execute_result"
    }
   ],
   "source": [
    "df.head()"
   ]
  },
  {
   "cell_type": "markdown",
   "id": "d458f9f9",
   "metadata": {},
   "source": [
    "#### Train-test split"
   ]
  },
  {
   "cell_type": "code",
   "execution_count": 9,
   "id": "8f63a514",
   "metadata": {},
   "outputs": [],
   "source": [
    "X_train, X_test, y_train, y_test = train_test_split(df, target, train_size=0.75, random_state=1)"
   ]
  },
  {
   "cell_type": "markdown",
   "id": "8f2a73a5",
   "metadata": {},
   "source": [
    "### *k* Nearest Neighbour"
   ]
  },
  {
   "cell_type": "markdown",
   "id": "6434eb98",
   "metadata": {},
   "source": [
    "The default similarity metric for k-NN is Euclidean distance.  \n",
    "In some circumstances other metrics (or measures) will be more appropriate - for instance correlation.\n",
    "Refer to <a href=https://scikit-learn.org/stable/modules/neighbors.html#nearest-neighbors-classification>documentation</a>"
   ]
  },
  {
   "cell_type": "code",
   "execution_count": 10,
   "id": "c1618801",
   "metadata": {},
   "outputs": [
    {
     "data": {
      "text/plain": [
       "KNeighborsClassifier()"
      ]
     },
     "execution_count": 10,
     "metadata": {},
     "output_type": "execute_result"
    }
   ],
   "source": [
    "knn_clf = KNeighborsClassifier() \n",
    "# fit the KNN model on the motor_insurance training data\n",
    "knn_clf.fit(X_train, y_train)"
   ]
  },
  {
   "cell_type": "code",
   "execution_count": 11,
   "id": "329e8f98",
   "metadata": {},
   "outputs": [
    {
     "data": {
      "text/plain": [
       "0.8705911574764034"
      ]
     },
     "execution_count": 11,
     "metadata": {},
     "output_type": "execute_result"
    }
   ],
   "source": [
    "# predict on the training dataset \n",
    "y_predicted = knn_clf.predict(X_train)\n",
    "accuracy_score(y_train, y_predicted)"
   ]
  },
  {
   "cell_type": "code",
   "execution_count": 12,
   "id": "e9209337",
   "metadata": {},
   "outputs": [
    {
     "data": {
      "text/plain": [
       "0.8180327868852459"
      ]
     },
     "execution_count": 12,
     "metadata": {},
     "output_type": "execute_result"
    }
   ],
   "source": [
    "# predict if an individual's credit risk performance isgood or bad on the test data using the trained KNN model\n",
    "y_predicted = knn_clf.predict(X_test)\n",
    "accuracy_score(y_test, y_predicted)"
   ]
  },
  {
   "cell_type": "markdown",
   "id": "c72f0ccc",
   "metadata": {},
   "source": [
    "### Decision Trees"
   ]
  },
  {
   "cell_type": "markdown",
   "id": "b683c8e3",
   "metadata": {},
   "source": [
    "Decision trees are non-parametric models: they are not controlled by a mathematical decision function and do not have weights or intercept to be optimized.\n",
    "\n",
    "Decision trees will partition the space by considering a single feature at a time. Refer to <a href=https://scikit-learn.org/stable/modules/tree.html>documentation</a>"
   ]
  },
  {
   "cell_type": "code",
   "execution_count": 13,
   "id": "80bc5d3e",
   "metadata": {},
   "outputs": [
    {
     "data": {
      "text/plain": [
       "DecisionTreeClassifier(criterion='entropy', max_depth=3)"
      ]
     },
     "execution_count": 13,
     "metadata": {},
     "output_type": "execute_result"
    }
   ],
   "source": [
    "dtc = DecisionTreeClassifier(criterion='entropy', max_depth=3)\n",
    "# fit the Decision Tree model on the athlete training data\n",
    "dtc.fit(X_train, y_train)"
   ]
  },
  {
   "cell_type": "code",
   "execution_count": 14,
   "id": "965b64a3",
   "metadata": {},
   "outputs": [
    {
     "data": {
      "text/plain": [
       "0.8266269249875807"
      ]
     },
     "execution_count": 14,
     "metadata": {},
     "output_type": "execute_result"
    }
   ],
   "source": [
    "# predict on the training dataset \n",
    "y_predicted = dtc.predict(X_train)\n",
    "accuracy_score(y_train, y_predicted)"
   ]
  },
  {
   "cell_type": "code",
   "execution_count": 15,
   "id": "f76dfa4f",
   "metadata": {},
   "outputs": [
    {
     "data": {
      "text/plain": [
       "0.822354694485842"
      ]
     },
     "execution_count": 15,
     "metadata": {},
     "output_type": "execute_result"
    }
   ],
   "source": [
    "# predict if an individual's credit risk performance isgood or bad on the test data using Decision Tree model\n",
    "y_predicted = dtc.predict(X_test)\n",
    "accuracy_score(y_test, y_predicted)"
   ]
  },
  {
   "cell_type": "markdown",
   "id": "58cd355c",
   "metadata": {},
   "source": [
    "### Naive Bayes"
   ]
  },
  {
   "cell_type": "markdown",
   "id": "93d6c793",
   "metadata": {},
   "source": [
    "A ranking classifier is a classifier that can rank a test set in order of confidence for a given classification outcome.  \n",
    "Naive Bayes is a ranking classifier because the ‘probability’ can be used as a confidence measure for ranking. Refer to <a href=https://scikit-learn.org/stable/modules/naive_bayes.html>documentation</a>"
   ]
  },
  {
   "cell_type": "code",
   "execution_count": 16,
   "id": "a024f0e1",
   "metadata": {},
   "outputs": [
    {
     "data": {
      "text/plain": [
       "GaussianNB()"
      ]
     },
     "execution_count": 16,
     "metadata": {},
     "output_type": "execute_result"
    }
   ],
   "source": [
    "gnb_clf = GaussianNB()\n",
    "gnb_clf.fit(X_train, y_train)"
   ]
  },
  {
   "cell_type": "code",
   "execution_count": 17,
   "id": "36eddd7e",
   "metadata": {},
   "outputs": [
    {
     "data": {
      "text/plain": [
       "0.56949826130154"
      ]
     },
     "execution_count": 17,
     "metadata": {},
     "output_type": "execute_result"
    }
   ],
   "source": [
    "#cpredict on the training dataset \n",
    "y_predicted = gnb_clf.predict(X_train)\n",
    "accuracy_score(y_train, y_predicted)"
   ]
  },
  {
   "cell_type": "code",
   "execution_count": 18,
   "id": "7bd29926",
   "metadata": {},
   "outputs": [
    {
     "data": {
      "text/plain": [
       "0.5622950819672131"
      ]
     },
     "execution_count": 18,
     "metadata": {},
     "output_type": "execute_result"
    }
   ],
   "source": [
    "# predict if an individual's credit risk performance isgood or bad on the test data using Naive Bayes model\n",
    "y_predicted = gnb_clf.predict(X_test)\n",
    "accuracy_score(y_test, y_predicted)"
   ]
  },
  {
   "cell_type": "markdown",
   "id": "e75b8628",
   "metadata": {},
   "source": [
    "### Exercises: \n",
    "\n",
    "1. Change the proportion of the train-test split and check if it makes a difference \n",
    "2. Change the model's parameters / hyperparameters / type as given below and observe the impact on the performance:     \n",
    "    a. KNN: `n_neighbors`     \n",
    "    b. Decision Trees: `min_samples_leaf` and `max_depth`    \n",
    "    c. NaiveBayes: BernoulliNB, MultinomialNB       "
   ]
  },
  {
   "cell_type": "code",
   "execution_count": 9,
   "id": "2d1b5ff4-e913-4de7-9cff-1775af1a5674",
   "metadata": {},
   "outputs": [
    {
     "data": {
      "text/plain": [
       "(26840, 14)"
      ]
     },
     "execution_count": 9,
     "metadata": {},
     "output_type": "execute_result"
    }
   ],
   "source": [
    "df = pd.read_csv('adult_census_cleaned.csv')\n",
    "df.shape"
   ]
  },
  {
   "cell_type": "code",
   "execution_count": 19,
   "id": "4cc27d9a-2007-4747-825c-17ee08285319",
   "metadata": {},
   "outputs": [
    {
     "data": {
      "text/plain": [
       "income\n",
       "<=50K    0.744188\n",
       ">50K     0.255812\n",
       "Name: proportion, dtype: float64"
      ]
     },
     "execution_count": 19,
     "metadata": {},
     "output_type": "execute_result"
    }
   ],
   "source": [
    "y = df['income']\n",
    "y.value_counts(normalize=True)\n"
   ]
  },
  {
   "cell_type": "code",
   "execution_count": 21,
   "id": "a05a64d6-1622-49bc-aec5-9252a157d36a",
   "metadata": {},
   "outputs": [
    {
     "data": {
      "text/plain": [
       "(26840, 13)"
      ]
     },
     "execution_count": 21,
     "metadata": {},
     "output_type": "execute_result"
    }
   ],
   "source": [
    "X = df.drop(columns=['income'])\n",
    "num_features = X.select_dtypes(include=['int64', 'float64']).columns.tolist()\n",
    "cat_features = X.select_dtypes(include=['object', 'category']).columns.tolist()\n",
    "X.shape"
   ]
  },
  {
   "cell_type": "code",
   "execution_count": 31,
   "id": "ac6053a6-3fc3-4c6c-bd98-7116100c2dc5",
   "metadata": {},
   "outputs": [],
   "source": [
    "from sklearn.compose import ColumnTransformer\n",
    "from sklearn.preprocessing import OneHotEncoder, StandardScaler\n",
    "from sklearn.linear_model import LogisticRegression\n",
    "# 수치형: 표준화, 범주형: 원-핫 인코딩\n",
    "preprocessor = ColumnTransformer(\n",
    "    transformers=[\n",
    "        ('num', StandardScaler(), num_features),\n",
    "        ('cat', OneHotEncoder(handle_unknown='ignore'), cat_features)\n",
    "    ]\n",
    ")\n",
    "\n",
    "# Logistic Regression을 기준 모델로 사용 (baseline)\n",
    "clf = LogisticRegression(max_iter=1000)\n",
    "\n",
    "def evaluate_with_test_size(test_size, random_state=42):\n",
    "    X_train, X_test, y_train, y_test = train_test_split(\n",
    "        X, y, test_size=test_size, random_state=random_state, stratify=y\n",
    "    )\n",
    "    pipe = Pipeline(steps=[('prep', preprocessor), ('clf', clf)])\n",
    "    pipe.fit(X_train, y_train)\n",
    "    y_pred = pipe.predict(X_test)\n",
    "    acc = accuracy_score(y_test, y_pred)\n",
    "    f1w = f1_score(y_test, y_pred, average='weighted')\n",
    "    return acc, f1w\n"
   ]
  },
  {
   "cell_type": "code",
   "execution_count": 36,
   "id": "6f15658c-d8f0-4444-b0f7-c6155fc5054e",
   "metadata": {},
   "outputs": [
    {
     "name": "stdout",
     "output_type": "stream",
     "text": [
      "=== Effect of Train/Test Split (Logistic Regression) ===\n",
      "   Test Size  Accuracy  F1-weighted\n",
      "0       0.20  0.846311     0.840872\n",
      "1       0.25  0.847392     0.841554\n",
      "2       0.30  0.843145     0.836669\n",
      "3       0.40  0.845007     0.838571\n"
     ]
    }
   ],
   "source": [
    "splits = [0.2, 0.25, 0.3, 0.4]  # test_size 비율 목록\n",
    "rows = []\n",
    "for ts in splits:\n",
    "    acc, f1w = evaluate_with_test_size(ts)\n",
    "    rows.append({'Test Size': ts, 'Accuracy': acc, 'F1-weighted': f1w})\n",
    "\n",
    "result_df = pd.DataFrame(rows).sort_values('Test Size').reset_index(drop=True)\n",
    "print(\"=== Effect of Train/Test Split (Logistic Regression) ===\")\n",
    "print(result_df)\n"
   ]
  },
  {
   "cell_type": "code",
   "execution_count": 38,
   "id": "12c75ee3-dc9b-45ed-a7b2-c2086bdd7edd",
   "metadata": {},
   "outputs": [
    {
     "data": {
      "image/png": "[encoded data removed]",
      "text/plain": [
       "<Figure size 640x480 with 1 Axes>"
      ]
     },
     "metadata": {},
     "output_type": "display_data"
    }
   ],
   "source": [
    "plt.figure()\n",
    "plt.bar(result_df['Test Size'].astype(str), result_df['Accuracy'])\n",
    "plt.title('Accuracy vs Test Size (Logistic Regression)')\n",
    "plt.xlabel('Test Size')\n",
    "plt.ylabel('Accuracy')\n",
    "plt.show()\n"
   ]
  },
  {
   "cell_type": "code",
   "execution_count": 40,
   "id": "8b3ab080-50cc-43ab-9a2f-921d173c8a84",
   "metadata": {},
   "outputs": [
    {
     "name": "stdout",
     "output_type": "stream",
     "text": [
      "=== KNN results (varying n_neighbors) ===\n",
      "       Model  Accuracy  F1-weighted\n",
      "0  KNN(k=21)  0.838450     0.833759\n",
      "1  KNN(k=11)  0.831595     0.827562\n",
      "2   KNN(k=5)  0.819970     0.815787\n",
      "3   KNN(k=3)  0.811028     0.807557\n"
     ]
    }
   ],
   "source": [
    "from sklearn.neighbors import KNeighborsClassifier\n",
    "\n",
    "knn_neighbors = [3, 5, 11, 21]  # 필요하면 값 추가/수정\n",
    "knn_rows = []\n",
    "\n",
    "for k in knn_neighbors:\n",
    "    knn_clf = KNeighborsClassifier(n_neighbors=k)\n",
    "    pipe = Pipeline(steps=[('prep', preprocessor), ('clf', knn_clf)])\n",
    "    \n",
    "    X_train, X_test, y_train, y_test = train_test_split(\n",
    "        X, y, test_size=0.25, random_state=42, stratify=y\n",
    "    )\n",
    "    pipe.fit(X_train, y_train)\n",
    "    y_pred = pipe.predict(X_test)\n",
    "    acc = accuracy_score(y_test, y_pred)\n",
    "    f1w = f1_score(y_test, y_pred, average='weighted')\n",
    "    knn_rows.append({'Model': f'KNN(k={k})', 'Accuracy': acc, 'F1-weighted': f1w})\n",
    "\n",
    "knn_df = pd.DataFrame(knn_rows).sort_values('Accuracy', ascending=False).reset_index(drop=True)\n",
    "print(\"=== KNN results (varying n_neighbors) ===\")\n",
    "print(knn_df)\n"
   ]
  },
  {
   "cell_type": "code",
   "execution_count": 42,
   "id": "3b1c857a-9b4a-49d2-a0df-d7c45193b0c4",
   "metadata": {},
   "outputs": [
    {
     "name": "stdout",
     "output_type": "stream",
     "text": [
      "=== Decision Tree hyperparameter grid ===\n",
      "                               Model  min_samples_leaf  max_depth  Accuracy  \\\n",
      "0    DecisionTree(leaf=10, depth=10)                10       10.0  0.844262   \n",
      "1     DecisionTree(leaf=5, depth=10)                 5       10.0  0.843666   \n",
      "2     DecisionTree(leaf=1, depth=10)                 1       10.0  0.841282   \n",
      "3    DecisionTree(leaf=10, depth=20)                10       20.0  0.834724   \n",
      "4      DecisionTree(leaf=1, depth=5)                 1        5.0  0.833383   \n",
      "5      DecisionTree(leaf=5, depth=5)                 5        5.0  0.833383   \n",
      "6     DecisionTree(leaf=10, depth=5)                10        5.0  0.833383   \n",
      "7  DecisionTree(leaf=10, depth=None)                10        NaN  0.829657   \n",
      "8     DecisionTree(leaf=5, depth=20)                 5       20.0  0.825186   \n",
      "9   DecisionTree(leaf=5, depth=None)                 5        NaN  0.820119   \n",
      "\n",
      "   F1-weighted  \n",
      "0     0.838160  \n",
      "1     0.837994  \n",
      "2     0.835564  \n",
      "3     0.831059  \n",
      "4     0.823404  \n",
      "5     0.823404  \n",
      "6     0.823454  \n",
      "7     0.825477  \n",
      "8     0.821063  \n",
      "9     0.816382  \n"
     ]
    }
   ],
   "source": [
    "from sklearn.tree import DecisionTreeClassifier\n",
    "\n",
    "leaf_values  = [1, 5, 10]\n",
    "depth_values = [None, 5, 10, 20]\n",
    "\n",
    "dt_rows = []\n",
    "for leaf in leaf_values:\n",
    "    for depth in depth_values:\n",
    "        dt = DecisionTreeClassifier(min_samples_leaf=leaf, max_depth=depth, random_state=42)\n",
    "        pipe = Pipeline(steps=[('prep', preprocessor), ('clf', dt)])\n",
    "        \n",
    "        X_train, X_test, y_train, y_test = train_test_split(\n",
    "            X, y, test_size=0.25, random_state=42, stratify=y\n",
    "        )\n",
    "        pipe.fit(X_train, y_train)\n",
    "        y_pred = pipe.predict(X_test)\n",
    "        acc = accuracy_score(y_test, y_pred)\n",
    "        f1w = f1_score(y_test, y_pred, average='weighted')\n",
    "        dt_rows.append({\n",
    "            'Model': f'DecisionTree(leaf={leaf}, depth={depth})',\n",
    "            'min_samples_leaf': leaf,\n",
    "            'max_depth': depth,\n",
    "            'Accuracy': acc,\n",
    "            'F1-weighted': f1w\n",
    "        })\n",
    "\n",
    "dt_df = pd.DataFrame(dt_rows).sort_values('Accuracy', ascending=False).reset_index(drop=True)\n",
    "print(\"=== Decision Tree hyperparameter grid ===\")\n",
    "print(dt_df.head(10))  # 상위 10개만 출력\n"
   ]
  },
  {
   "cell_type": "code",
   "execution_count": 44,
   "id": "408f2c83-ceb0-4c89-bde6-dbda09d99915",
   "metadata": {},
   "outputs": [
    {
     "name": "stdout",
     "output_type": "stream",
     "text": [
      "=== Naive Bayes variants ===\n",
      "           Model  Accuracy  F1-weighted\n",
      "0  MultinomialNB  0.809389     0.816239\n",
      "1    BernoulliNB  0.781222     0.792113\n"
     ]
    }
   ],
   "source": [
    "from sklearn.naive_bayes import BernoulliNB, MultinomialNB\n",
    "from sklearn.preprocessing import MinMaxScaler\n",
    "\n",
    "nb_preprocessor = ColumnTransformer(\n",
    "    transformers=[\n",
    "        ('num', MinMaxScaler(), num_features),\n",
    "        ('cat', OneHotEncoder(handle_unknown='ignore'), cat_features)\n",
    "    ]\n",
    ")\n",
    "\n",
    "nb_rows = []\n",
    "for name, nb in [('BernoulliNB', BernoulliNB()), ('MultinomialNB', MultinomialNB())]:\n",
    "    pipe = Pipeline(steps=[('prep', nb_preprocessor), ('clf', nb)])\n",
    "    X_train, X_test, y_train, y_test = train_test_split(\n",
    "        X, y, test_size=0.25, random_state=42, stratify=y\n",
    "    )\n",
    "    pipe.fit(X_train, y_train)\n",
    "    y_pred = pipe.predict(X_test)\n",
    "    acc = accuracy_score(y_test, y_pred)\n",
    "    f1w = f1_score(y_test, y_pred, average='weighted')\n",
    "    nb_rows.append({'Model': name, 'Accuracy': acc, 'F1-weighted': f1w})\n",
    "\n",
    "nb_df = pd.DataFrame(nb_rows).sort_values('Accuracy', ascending=False).reset_index(drop=True)\n",
    "print(\"=== Naive Bayes variants ===\")\n",
    "print(nb_df)\n"
   ]
  },
  {
   "cell_type": "code",
   "execution_count": 46,
   "id": "bcafa0f0-cb10-43f6-ad12-d468b885a9a2",
   "metadata": {},
   "outputs": [
    {
     "name": "stdout",
     "output_type": "stream",
     "text": [
      "=== Summary of all experiments ===\n",
      "                                 Note  Accuracy  F1-weighted  \\\n",
      "8     DecisionTree(leaf=10, depth=10)  0.844262     0.838160   \n",
      "9      DecisionTree(leaf=5, depth=10)  0.843666     0.837994   \n",
      "10     DecisionTree(leaf=1, depth=10)  0.841282     0.835564   \n",
      "11    DecisionTree(leaf=10, depth=20)  0.834724     0.831059   \n",
      "12      DecisionTree(leaf=1, depth=5)  0.833383     0.823404   \n",
      "13      DecisionTree(leaf=5, depth=5)  0.833383     0.823404   \n",
      "14     DecisionTree(leaf=10, depth=5)  0.833383     0.823454   \n",
      "15  DecisionTree(leaf=10, depth=None)  0.829657     0.825477   \n",
      "16     DecisionTree(leaf=5, depth=20)  0.825186     0.821063   \n",
      "17   DecisionTree(leaf=5, depth=None)  0.820119     0.816382   \n",
      "18     DecisionTree(leaf=1, depth=20)  0.809687     0.808581   \n",
      "19   DecisionTree(leaf=1, depth=None)  0.789419     0.788408   \n",
      "4                           KNN(k=21)  0.838450     0.833759   \n",
      "5                           KNN(k=11)  0.831595     0.827562   \n",
      "6                            KNN(k=5)  0.819970     0.815787   \n",
      "7                            KNN(k=3)  0.811028     0.807557   \n",
      "1                                0.25  0.847392     0.841554   \n",
      "0                                 0.2  0.846311     0.840872   \n",
      "3                                 0.4  0.845007     0.838571   \n",
      "2                                 0.3  0.843145     0.836669   \n",
      "\n",
      "                     Model  \n",
      "8             DecisionTree  \n",
      "9             DecisionTree  \n",
      "10            DecisionTree  \n",
      "11            DecisionTree  \n",
      "12            DecisionTree  \n",
      "13            DecisionTree  \n",
      "14            DecisionTree  \n",
      "15            DecisionTree  \n",
      "16            DecisionTree  \n",
      "17            DecisionTree  \n",
      "18            DecisionTree  \n",
      "19            DecisionTree  \n",
      "4                      KNN  \n",
      "5                      KNN  \n",
      "6                      KNN  \n",
      "7                      KNN  \n",
      "1   LogReg (var test_size)  \n",
      "0   LogReg (var test_size)  \n",
      "3   LogReg (var test_size)  \n",
      "2   LogReg (var test_size)  \n"
     ]
    }
   ],
   "source": [
    "summary = []\n",
    "\n",
    "# 이전 셀에서 만든 result_df(스플릿 비교), knn_df, dt_df, nb_df가 있다고 가정\n",
    "if 'result_df' in globals():\n",
    "    tmp = result_df.copy()\n",
    "    tmp['Model'] = 'LogReg (var test_size)'\n",
    "    summary.append(tmp.rename(columns={'Test Size': 'Note'}))\n",
    "\n",
    "tmp = knn_df.copy(); tmp['Note'] = knn_df['Model']; tmp['Model'] = 'KNN'\n",
    "summary.append(tmp[['Model', 'Note', 'Accuracy', 'F1-weighted']])\n",
    "\n",
    "tmp = dt_df.copy(); tmp['Note'] = dt_df['Model']; tmp['Model'] = 'DecisionTree'\n",
    "summary.append(tmp[['Model', 'Note', 'Accuracy', 'F1-weighted']])\n",
    "\n",
    "tmp = nb_df.copy(); tmp['Note'] = nb_df['Model']; tmp['Model'] = 'NaiveBayes'\n",
    "summary.append(tmp[['Model', 'Note', 'Accuracy', 'F1-weighted']])\n",
    "\n",
    "summary_df = pd.concat(summary, ignore_index=True)\n",
    "print(\"=== Summary of all experiments ===\")\n",
    "print(summary_df.sort_values(['Model', 'Accuracy'], ascending=[True, False]).head(20))\n"
   ]
  },
  {
   "cell_type": "code",
   "execution_count": null,
   "id": "c01738fc-6e59-433d-bd9e-6cc3ead914f4",
   "metadata": {},
   "outputs": [],
   "source": []
  }
 ],
 "metadata": {
  "kernelspec": {
   "display_name": "Python 3 (ipykernel)",
   "language": "python",
   "name": "python3"
  },
  "language_info": {
   "codemirror_mode": {
    "name": "ipython",
    "version": 3
   },
   "file_extension": ".py",
   "mimetype": "text/x-python",
   "name": "python",
   "nbconvert_exporter": "python",
   "pygments_lexer": "ipython3",
   "version": "3.12.4"
  }
 },
 "nbformat": 4,
 "nbformat_minor": 5
}
