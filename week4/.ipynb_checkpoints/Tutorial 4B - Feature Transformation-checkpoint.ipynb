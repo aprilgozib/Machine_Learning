{
 "cells": [
  {
   "cell_type": "markdown",
   "id": "1f5b8230",
   "metadata": {},
   "source": [
    "## Week 4 : Feature Transformation"
   ]
  },
  {
   "cell_type": "markdown",
   "id": "f4577860",
   "metadata": {},
   "source": [
    "`Feature Transformation` technique implies that the original features are transformed into new direction. There are 3 ways to do this: \n",
    "\n",
    "1. `Projection`: The existing features are re-oriented on new, better axes.  Ex: PCA, LDA etc. This technique works best with linear data. \n",
    "2. `Manifold Learning`: Used to work on non-linear data. The data is unrolled so that twists and turns are smoothened out. Ex: Spectral Embedding, Isomap etc.\n",
    "3. `Autoencoding`: Uses neural networks to simplify data. \n",
    "\n",
    "In this tutorial, we will focus on `Principal Components Analysis`, a Projection technique. \n",
    "\n",
    "#### When to opt for Feature transformation using PCA? \n",
    "\n",
    "- Large number of X-variables and most of the features are meaningful.\n",
    "- The features are highly correlated with each other "
   ]
  },
  {
   "cell_type": "markdown",
   "id": "53b040ad",
   "metadata": {},
   "source": [
    "#### Import Packages"
   ]
  },
  {
   "cell_type": "code",
   "execution_count": 1,
   "id": "fb109a4f",
   "metadata": {},
   "outputs": [],
   "source": [
    "import pandas as pd\n",
    "import numpy as np\n",
    "from sklearn import datasets\n",
    "import matplotlib.pyplot as plt\n",
    "from sklearn.metrics import accuracy_score\n",
    "from sklearn.preprocessing import StandardScaler\n",
    "from sklearn.model_selection import train_test_split\n",
    "\n",
    "from sklearn.neighbors import KNeighborsClassifier\n",
    "from sklearn.decomposition import PCA"
   ]
  },
  {
   "cell_type": "markdown",
   "id": "2343d6eb",
   "metadata": {},
   "source": [
    "### Part A: Eigen decomposition in python"
   ]
  },
  {
   "cell_type": "markdown",
   "id": "2a27d92a",
   "metadata": {},
   "source": [
    "A demonstration of:  $\\textbf{X}v = \\lambda v$  for the first principal eigenvalue of the example in lecture 'Dimensionality Reduction'."
   ]
  },
  {
   "cell_type": "code",
   "execution_count": 2,
   "id": "e12124ed",
   "metadata": {},
   "outputs": [
    {
     "name": "stdout",
     "output_type": "stream",
     "text": [
      "\n",
      "eVal:  [2.53622028 0.84835416 0.40787166 0.2075539 ]\n",
      "\n",
      "eVec:  [[-0.37772731 -0.81062274 -0.44192197 -0.07012723]\n",
      " [-0.53227622 -0.18760462  0.74150209  0.36285148]\n",
      " [-0.56137693  0.30107833  0.04962821 -0.76924952]\n",
      " [-0.50878291  0.46588317 -0.50241086  0.52122562]]\n",
      "\n",
      "val1:  2.536220279964706\n",
      "\n",
      "vec1:  [-0.37772731 -0.53227622 -0.56137693 -0.50878291]\n",
      "\n",
      "Dot product of X and vec1:  [-0.95799966 -1.34996974 -1.42377554 -1.29038555]\n",
      "\n",
      "val1 * vec1:  [-0.95799966 -1.34996974 -1.42377554 -1.29038555]\n"
     ]
    }
   ],
   "source": [
    "X = np.array([[1, 0.5, 0.333, 0.25],\n",
    "              [0.5, 1, 0.667, 0.5],\n",
    "              [0.333, 0.667,1, 0.75],\n",
    "              [0.25, 0.5, 0.75, 1]\n",
    "             ])\n",
    "eVal, eVec = np.linalg.eig(X)\n",
    "\n",
    "print('\\neVal: ', eVal)\n",
    "print('\\neVec: ', eVec)\n",
    "\n",
    "vec1 = eVec[:,0] ; val1 = eVal[0]\n",
    "\n",
    "print('\\nval1: ', val1)\n",
    "print('\\nvec1: ', vec1)\n",
    "\n",
    "print('\\nDot product of X and vec1: ', X.dot(vec1))\n",
    "print('\\nval1 * vec1: ', val1 * vec1)"
   ]
  },
  {
   "cell_type": "markdown",
   "id": "7279c86d",
   "metadata": {},
   "source": [
    "### Part B: Principal Component Analysis"
   ]
  },
  {
   "cell_type": "code",
   "execution_count": 3,
   "id": "18627191",
   "metadata": {},
   "outputs": [
    {
     "name": "stdout",
     "output_type": "stream",
     "text": [
      ".. _iris_dataset:\n",
      "\n",
      "Iris plants dataset\n",
      "--------------------\n",
      "\n",
      "**Data Set Characteristics:**\n",
      "\n",
      "    :Number of Instances: 150 (50 in each of three classes)\n",
      "    :Number of Attributes: 4 numeric, predictive attributes and the class\n",
      "    :Attribute Information:\n",
      "        - sepal length in cm\n",
      "        - sepal width in cm\n",
      "        - petal length in cm\n",
      "        - petal width in cm\n",
      "        - class:\n",
      "                - Iris-Setosa\n",
      "                - Iris-Versicolour\n",
      "                - Iris-Virginica\n",
      "                \n",
      "    :Summary Statistics:\n",
      "\n",
      "    ============== ==== ==== ======= ===== ====================\n",
      "                    Min  Max   Mean    SD   Class Correlation\n",
      "    ============== ==== ==== ======= ===== ====================\n",
      "    sepal length:   4.3  7.9   5.84   0.83    0.7826\n",
      "    sepal width:    2.0  4.4   3.05   0.43   -0.4194\n",
      "    petal length:   1.0  6.9   3.76   1.76    0.9490  (high!)\n",
      "    petal width:    0.1  2.5   1.20   0.76    0.9565  (high!)\n",
      "    ============== ==== ==== ======= ===== ====================\n",
      "\n",
      "    :Missing Attribute Values: None\n",
      "    :Class Distribution: 33.3% for each of 3 classes.\n",
      "    :Creator: R.A. Fisher\n",
      "    :Donor: Michael Marshall (MARSHALL%PLU@io.arc.nasa.gov)\n",
      "    :Date: July, 1988\n",
      "\n",
      "The famous Iris database, first used by Sir R.A. Fisher. The dataset is taken\n",
      "from Fisher's paper. Note that it's the same as in R, but not as in the UCI\n",
      "Machine Learning Repository, which has two wrong data points.\n",
      "\n",
      "This is perhaps the best known database to be found in the\n",
      "pattern recognition literature.  Fisher's paper is a classic in the field and\n",
      "is referenced frequently to this day.  (See Duda & Hart, for example.)  The\n",
      "data set contains 3 classes of 50 instances each, where each class refers to a\n",
      "type of iris plant.  One class is linearly separable from the other 2; the\n",
      "latter are NOT linearly separable from each other.\n",
      "\n",
      ".. topic:: References\n",
      "\n",
      "   - Fisher, R.A. \"The use of multiple measurements in taxonomic problems\"\n",
      "     Annual Eugenics, 7, Part II, 179-188 (1936); also in \"Contributions to\n",
      "     Mathematical Statistics\" (John Wiley, NY, 1950).\n",
      "   - Duda, R.O., & Hart, P.E. (1973) Pattern Classification and Scene Analysis.\n",
      "     (Q327.D83) John Wiley & Sons.  ISBN 0-471-22361-1.  See page 218.\n",
      "   - Dasarathy, B.V. (1980) \"Nosing Around the Neighborhood: A New System\n",
      "     Structure and Classification Rule for Recognition in Partially Exposed\n",
      "     Environments\".  IEEE Transactions on Pattern Analysis and Machine\n",
      "     Intelligence, Vol. PAMI-2, No. 1, 67-71.\n",
      "   - Gates, G.W. (1972) \"The Reduced Nearest Neighbor Rule\".  IEEE Transactions\n",
      "     on Information Theory, May 1972, 431-433.\n",
      "   - See also: 1988 MLC Proceedings, 54-64.  Cheeseman et al\"s AUTOCLASS II\n",
      "     conceptual clustering system finds 3 classes in the data.\n",
      "   - Many, many more ...\n"
     ]
    }
   ],
   "source": [
    "iris = datasets.load_iris(as_frame=True)\n",
    "print(iris.DESCR)"
   ]
  },
  {
   "cell_type": "code",
   "execution_count": 4,
   "id": "785a2084",
   "metadata": {},
   "outputs": [
    {
     "data": {
      "text/html": [
       "<div>\n",
       "<style scoped>\n",
       "    .dataframe tbody tr th:only-of-type {\n",
       "        vertical-align: middle;\n",
       "    }\n",
       "\n",
       "    .dataframe tbody tr th {\n",
       "        vertical-align: top;\n",
       "    }\n",
       "\n",
       "    .dataframe thead th {\n",
       "        text-align: right;\n",
       "    }\n",
       "</style>\n",
       "<table border=\"1\" class=\"dataframe\">\n",
       "  <thead>\n",
       "    <tr style=\"text-align: right;\">\n",
       "      <th></th>\n",
       "      <th>sepal length (cm)</th>\n",
       "      <th>sepal width (cm)</th>\n",
       "      <th>petal length (cm)</th>\n",
       "      <th>petal width (cm)</th>\n",
       "    </tr>\n",
       "  </thead>\n",
       "  <tbody>\n",
       "    <tr>\n",
       "      <th>0</th>\n",
       "      <td>5.1</td>\n",
       "      <td>3.5</td>\n",
       "      <td>1.4</td>\n",
       "      <td>0.2</td>\n",
       "    </tr>\n",
       "    <tr>\n",
       "      <th>1</th>\n",
       "      <td>4.9</td>\n",
       "      <td>3.0</td>\n",
       "      <td>1.4</td>\n",
       "      <td>0.2</td>\n",
       "    </tr>\n",
       "    <tr>\n",
       "      <th>2</th>\n",
       "      <td>4.7</td>\n",
       "      <td>3.2</td>\n",
       "      <td>1.3</td>\n",
       "      <td>0.2</td>\n",
       "    </tr>\n",
       "    <tr>\n",
       "      <th>3</th>\n",
       "      <td>4.6</td>\n",
       "      <td>3.1</td>\n",
       "      <td>1.5</td>\n",
       "      <td>0.2</td>\n",
       "    </tr>\n",
       "    <tr>\n",
       "      <th>4</th>\n",
       "      <td>5.0</td>\n",
       "      <td>3.6</td>\n",
       "      <td>1.4</td>\n",
       "      <td>0.2</td>\n",
       "    </tr>\n",
       "  </tbody>\n",
       "</table>\n",
       "</div>"
      ],
      "text/plain": [
       "   sepal length (cm)  sepal width (cm)  petal length (cm)  petal width (cm)\n",
       "0                5.1               3.5                1.4               0.2\n",
       "1                4.9               3.0                1.4               0.2\n",
       "2                4.7               3.2                1.3               0.2\n",
       "3                4.6               3.1                1.5               0.2\n",
       "4                5.0               3.6                1.4               0.2"
      ]
     },
     "execution_count": 4,
     "metadata": {},
     "output_type": "execute_result"
    }
   ],
   "source": [
    "X = iris.data\n",
    "X.head()"
   ]
  },
  {
   "cell_type": "code",
   "execution_count": 5,
   "id": "e5e5d3f7",
   "metadata": {},
   "outputs": [],
   "source": [
    "y = iris.target"
   ]
  },
  {
   "cell_type": "code",
   "execution_count": 6,
   "id": "ca41b3a7",
   "metadata": {},
   "outputs": [],
   "source": [
    "X_train, X_test, y_train, y_test = train_test_split(X, y, random_state=1)"
   ]
  },
  {
   "cell_type": "code",
   "execution_count": 7,
   "id": "3f50c5e0",
   "metadata": {},
   "outputs": [
    {
     "name": "stdout",
     "output_type": "stream",
     "text": [
      "Variance explained by each of the principal components:  [0.72668059 0.22951735 0.03949049 0.00431157]\n"
     ]
    }
   ],
   "source": [
    "#Normalize the input features\n",
    "scaler = StandardScaler()\n",
    "X_train_scaled = scaler.fit_transform(X_train)\n",
    "X_test_scaled = scaler.transform(X_test)\n",
    "\n",
    "pca = PCA(n_components=4)\n",
    "X_train_transformed = pca.fit(X_train_scaled).transform(X_train_scaled)\n",
    "X_test_transformed = pca.transform(X_test_scaled)\n",
    "\n",
    "# Proportion of variance explained for each components\n",
    "print(\"Variance explained by each of the principal components: \", pca.explained_variance_ratio_)"
   ]
  },
  {
   "cell_type": "code",
   "execution_count": 8,
   "id": "784dde89",
   "metadata": {},
   "outputs": [
    {
     "data": {
      "image/png": "[encoded data removed]",
      "text/plain": [
       "<Figure size 360x288 with 1 Axes>"
      ]
     },
     "metadata": {
      "needs_background": "light"
     },
     "output_type": "display_data"
    }
   ],
   "source": [
    "df = pd.DataFrame(pca.explained_variance_ratio_, \n",
    "                  index=['PC1','PC2','PC3','PC4'],columns =['var'])\n",
    "\n",
    "plot = df.plot.bar(figsize=(5,4), color='#56B4E9', rot=0)\n",
    "plot.set_ylabel(\"Variance Explained\")\n",
    "plot.set_ylim([0,0.8])\n",
    "plot.get_legend().remove();"
   ]
  },
  {
   "cell_type": "code",
   "execution_count": 9,
   "id": "4641ef19",
   "metadata": {},
   "outputs": [
    {
     "data": {
      "text/plain": [
       "1.0000000000000002"
      ]
     },
     "execution_count": 9,
     "metadata": {},
     "output_type": "execute_result"
    }
   ],
   "source": [
    "sum(pca.explained_variance_ratio_)"
   ]
  },
  {
   "cell_type": "markdown",
   "id": "05cdfbcd",
   "metadata": {},
   "source": [
    "**Note:** When the number of principal components are equal to the number of features, the variance explained by all the principal components approximately equals 1. "
   ]
  },
  {
   "cell_type": "code",
   "execution_count": 10,
   "id": "3e1b115c",
   "metadata": {},
   "outputs": [
    {
     "data": {
      "image/png": "[encoded data removed]",
      "text/plain": [
       "<Figure size 432x288 with 1 Axes>"
      ]
     },
     "metadata": {
      "needs_background": "light"
     },
     "output_type": "display_data"
    }
   ],
   "source": [
    "plot = plt.plot(np.cumsum(pca.explained_variance_ratio_, ))\n",
    "plt.ylabel(\"Variance Explained\")\n",
    "plt.xlabel(\"Number of components\");"
   ]
  },
  {
   "cell_type": "markdown",
   "id": "fecf478f",
   "metadata": {},
   "source": [
    "The first 3 PC capture ~99% of the variance explained by the data"
   ]
  },
  {
   "cell_type": "code",
   "execution_count": 11,
   "id": "6ed02cd0",
   "metadata": {},
   "outputs": [
    {
     "data": {
      "image/png": "[encoded data removed]",
      "text/plain": [
       "<Figure size 432x288 with 1 Axes>"
      ]
     },
     "metadata": {
      "needs_background": "light"
     },
     "output_type": "display_data"
    }
   ],
   "source": [
    "plt.figure()\n",
    "colors = ['#E69F00', '#56B4E9', '#009E73']\n",
    "lw = 2\n",
    "\n",
    "for color, i, target_name in zip(colors, [0, 1, 2], iris.target_names):\n",
    "    plt.scatter(X_train_transformed[y_train == i, 0], \n",
    "                X_train_transformed[y_train == i, 1], color=color, alpha=.8, lw=lw,\n",
    "                label=target_name)\n",
    "plt.legend(loc='best', shadow=False, scatterpoints=1)\n",
    "plt.xlabel('PC1 (73%)')\n",
    "plt.ylabel('PC2 (23%)')\n",
    "plt.title('PCA of IRIS dataset')\n",
    "\n",
    "plt.show()"
   ]
  },
  {
   "cell_type": "markdown",
   "id": "589e85b2",
   "metadata": {},
   "source": [
    "PC1 captures ~73% of the variance in iris features while PC2 captures 23% of the variation. "
   ]
  },
  {
   "cell_type": "code",
   "execution_count": 12,
   "id": "b3dda25f",
   "metadata": {},
   "outputs": [
    {
     "data": {
      "text/plain": [
       "0.9736842105263158"
      ]
     },
     "execution_count": 12,
     "metadata": {},
     "output_type": "execute_result"
    }
   ],
   "source": [
    "knn_model = KNeighborsClassifier()\n",
    "\n",
    "\n",
    "knn_model.fit(X_train_transformed, y_train)\n",
    "y_predicted = knn_model.predict(X_test_transformed)\n",
    "accuracy_score(y_predicted, y_test)"
   ]
  },
  {
   "cell_type": "markdown",
   "id": "5f6ef226",
   "metadata": {},
   "source": [
    "#### Exercise:\n",
    "\n",
    "1. Load the wine dataset. Perform PCA. How much of the variance is explained by the first 3 principal components? \n",
    "2. What is the accuracy of the KNeighborsClassifier on the transformed data? How does it compare to the accuracy obtained through feature selection? "
   ]
  }
 ],
 "metadata": {
  "kernelspec": {
   "display_name": "Python 3 (ipykernel)",
   "language": "python",
   "name": "python3"
  },
  "language_info": {
   "codemirror_mode": {
    "name": "ipython",
    "version": 3
   },
   "file_extension": ".py",
   "mimetype": "text/x-python",
   "name": "python",
   "nbconvert_exporter": "python",
   "pygments_lexer": "ipython3",
   "version": "3.10.4"
  }
 },
 "nbformat": 4,
 "nbformat_minor": 5
}
