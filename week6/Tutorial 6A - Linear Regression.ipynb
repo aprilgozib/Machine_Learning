{
 "cells": [
  {
   "cell_type": "markdown",
   "id": "d0e5f181",
   "metadata": {},
   "source": [
    "## Week 6 - Linear Regression"
   ]
  },
  {
   "cell_type": "markdown",
   "id": "a06845d9",
   "metadata": {},
   "source": [
    "In this tutorial, we will use linear regression models on a real estate dataset to predict the house price per unit area. Building linear regression model means estimating a set of weights (one weight per feature, plus an extra weight called the bias or the intercept) on a dataset. \n",
    "\n",
    "The model estimated is a linear model taking the form:\n",
    "\n",
    "$target\\_feature = w_0 + w_1 * feature_1 + w_2*feature_2 + ...+ w_n*feature_n $\n",
    "\n"
   ]
  },
  {
   "cell_type": "markdown",
   "id": "4d952a02",
   "metadata": {},
   "source": [
    "#### Table of contents (for easy navigation): \n",
    "\n",
    "<a href=\"#SLR\">Part A: Simple Linear Regression</a>    \n",
    "<a href=\"#MLR\">Part B: Multi-linear Regression</a>    \n",
    "<a href=\"#SGDR\">Part C: Stochastic Gradient Descent Regression</a>"
   ]
  },
  {
   "cell_type": "markdown",
   "id": "20512460",
   "metadata": {},
   "source": [
    "#### Import Packages"
   ]
  },
  {
   "cell_type": "code",
   "execution_count": 1,
   "id": "d2bd88fe",
   "metadata": {},
   "outputs": [],
   "source": [
    "# Library Imports.\n",
    "\n",
    "import numpy as np\n",
    "import pandas as pd\n",
    "\n",
    "# Allows plots to appear directly in the notebook.\n",
    "%matplotlib inline\n",
    "import seaborn as sns\n",
    "import matplotlib.pyplot as plt\n",
    "\n",
    "from sklearn import metrics\n",
    "from sklearn.preprocessing import StandardScaler\n",
    "from sklearn.linear_model import LinearRegression\n",
    "from sklearn.model_selection import train_test_split"
   ]
  },
  {
   "cell_type": "markdown",
   "id": "813d7f9d",
   "metadata": {},
   "source": [
    "#### Load Data"
   ]
  },
  {
   "cell_type": "code",
   "execution_count": 2,
   "id": "ab916fb1",
   "metadata": {
    "scrolled": true
   },
   "outputs": [
    {
     "name": "stdout",
     "output_type": "stream",
     "text": [
      "Dimensions:  (414, 7)\n"
     ]
    },
    {
     "data": {
      "text/html": [
       "<div>\n",
       "<style scoped>\n",
       "    .dataframe tbody tr th:only-of-type {\n",
       "        vertical-align: middle;\n",
       "    }\n",
       "\n",
       "    .dataframe tbody tr th {\n",
       "        vertical-align: top;\n",
       "    }\n",
       "\n",
       "    .dataframe thead th {\n",
       "        text-align: right;\n",
       "    }\n",
       "</style>\n",
       "<table border=\"1\" class=\"dataframe\">\n",
       "  <thead>\n",
       "    <tr style=\"text-align: right;\">\n",
       "      <th></th>\n",
       "      <th>TransactionDate</th>\n",
       "      <th>HouseAge</th>\n",
       "      <th>NearestMRTStationDistance</th>\n",
       "      <th>ConvenienceStoresCount</th>\n",
       "      <th>Latitude</th>\n",
       "      <th>Longitude</th>\n",
       "      <th>HousePricePerUnitArea</th>\n",
       "    </tr>\n",
       "    <tr>\n",
       "      <th>No</th>\n",
       "      <th></th>\n",
       "      <th></th>\n",
       "      <th></th>\n",
       "      <th></th>\n",
       "      <th></th>\n",
       "      <th></th>\n",
       "      <th></th>\n",
       "    </tr>\n",
       "  </thead>\n",
       "  <tbody>\n",
       "    <tr>\n",
       "      <th>1</th>\n",
       "      <td>2012.917</td>\n",
       "      <td>32.0</td>\n",
       "      <td>84.87882</td>\n",
       "      <td>10</td>\n",
       "      <td>24.98298</td>\n",
       "      <td>121.54024</td>\n",
       "      <td>37.9</td>\n",
       "    </tr>\n",
       "    <tr>\n",
       "      <th>2</th>\n",
       "      <td>2012.917</td>\n",
       "      <td>19.5</td>\n",
       "      <td>306.59470</td>\n",
       "      <td>9</td>\n",
       "      <td>24.98034</td>\n",
       "      <td>121.53951</td>\n",
       "      <td>42.2</td>\n",
       "    </tr>\n",
       "    <tr>\n",
       "      <th>3</th>\n",
       "      <td>2013.583</td>\n",
       "      <td>13.3</td>\n",
       "      <td>561.98450</td>\n",
       "      <td>5</td>\n",
       "      <td>24.98746</td>\n",
       "      <td>121.54391</td>\n",
       "      <td>47.3</td>\n",
       "    </tr>\n",
       "    <tr>\n",
       "      <th>4</th>\n",
       "      <td>2013.500</td>\n",
       "      <td>13.3</td>\n",
       "      <td>561.98450</td>\n",
       "      <td>5</td>\n",
       "      <td>24.98746</td>\n",
       "      <td>121.54391</td>\n",
       "      <td>54.8</td>\n",
       "    </tr>\n",
       "    <tr>\n",
       "      <th>5</th>\n",
       "      <td>2012.833</td>\n",
       "      <td>5.0</td>\n",
       "      <td>390.56840</td>\n",
       "      <td>5</td>\n",
       "      <td>24.97937</td>\n",
       "      <td>121.54245</td>\n",
       "      <td>43.1</td>\n",
       "    </tr>\n",
       "  </tbody>\n",
       "</table>\n",
       "</div>"
      ],
      "text/plain": [
       "    TransactionDate  HouseAge  NearestMRTStationDistance  \\\n",
       "No                                                         \n",
       "1          2012.917      32.0                   84.87882   \n",
       "2          2012.917      19.5                  306.59470   \n",
       "3          2013.583      13.3                  561.98450   \n",
       "4          2013.500      13.3                  561.98450   \n",
       "5          2012.833       5.0                  390.56840   \n",
       "\n",
       "    ConvenienceStoresCount  Latitude  Longitude  HousePricePerUnitArea  \n",
       "No                                                                      \n",
       "1                       10  24.98298  121.54024                   37.9  \n",
       "2                        9  24.98034  121.53951                   42.2  \n",
       "3                        5  24.98746  121.54391                   47.3  \n",
       "4                        5  24.98746  121.54391                   54.8  \n",
       "5                        5  24.97937  121.54245                   43.1  "
      ]
     },
     "execution_count": 2,
     "metadata": {},
     "output_type": "execute_result"
    }
   ],
   "source": [
    "dataframe = pd.read_csv('Real estate.csv', sep=',', index_col=0)\n",
    "print('Dimensions: ', dataframe.shape)\n",
    "dataframe.head()"
   ]
  },
  {
   "cell_type": "markdown",
   "id": "032702f4",
   "metadata": {},
   "source": [
    "There are 6 features namely, \n",
    "- `TransactionDate` : The date when the house was sold\n",
    "- `HouseAge` : number of years since the house is built\n",
    "- `NearestMRTStationDistance` : Distance to the nearest mass rapid transit station\n",
    "- `ConvenienceStoresCount` : count of the convenience stores nearby\n",
    "- `Latitude` and `Longitude` : coordinate location of the house\n",
    "\n",
    "The target variable is the `HousePricePerUnitArea`, a continuous variable."
   ]
  },
  {
   "cell_type": "code",
   "execution_count": 3,
   "id": "3a8ab25f",
   "metadata": {},
   "outputs": [
    {
     "name": "stdout",
     "output_type": "stream",
     "text": [
      "<class 'pandas.core.frame.DataFrame'>\n",
      "Int64Index: 414 entries, 1 to 414\n",
      "Data columns (total 7 columns):\n",
      " #   Column                     Non-Null Count  Dtype  \n",
      "---  ------                     --------------  -----  \n",
      " 0   TransactionDate            414 non-null    float64\n",
      " 1   HouseAge                   414 non-null    float64\n",
      " 2   NearestMRTStationDistance  414 non-null    float64\n",
      " 3   ConvenienceStoresCount     414 non-null    int64  \n",
      " 4   Latitude                   414 non-null    float64\n",
      " 5   Longitude                  414 non-null    float64\n",
      " 6   HousePricePerUnitArea      414 non-null    float64\n",
      "dtypes: float64(6), int64(1)\n",
      "memory usage: 25.9 KB\n"
     ]
    }
   ],
   "source": [
    "dataframe.info()"
   ]
  },
  {
   "cell_type": "markdown",
   "id": "8cf2604f",
   "metadata": {},
   "source": [
    "### Understanding the data"
   ]
  },
  {
   "cell_type": "code",
   "execution_count": 4,
   "id": "9c24949e",
   "metadata": {},
   "outputs": [
    {
     "data": {
      "image/png": "[encoded data removed]",
      "text/plain": [
       "<Figure size 1080x1080 with 8 Axes>"
      ]
     },
     "metadata": {
      "needs_background": "light"
     },
     "output_type": "display_data"
    }
   ],
   "source": [
    "with plt.rc_context({'xtick.labelsize':12, 'ytick.labelsize':12, 'axes.labelsize':14}):\n",
    "    fig, axs = plt.subplots(4, 2, figsize=(15,15))\n",
    "    sns.scatterplot(ax=axs[0,0], x=dataframe['TransactionDate'], y=dataframe['HousePricePerUnitArea'], \n",
    "                    label=\"%.3f\" % dataframe[['TransactionDate', 'HousePricePerUnitArea']].corr().to_numpy()[0,1])\n",
    "    sns.scatterplot(ax=axs[0,1], x=dataframe['HouseAge'], y=dataframe['HousePricePerUnitArea'], \n",
    "                    label=\"%.3f\" % dataframe[['HouseAge', 'HousePricePerUnitArea']].corr().to_numpy()[0,1])\n",
    "    sns.scatterplot(ax=axs[1,0], x=dataframe['NearestMRTStationDistance'], y=dataframe['HousePricePerUnitArea'], \n",
    "                    label=\"%.3f\" % dataframe[['NearestMRTStationDistance', 'HousePricePerUnitArea']].corr().to_numpy()[0,1])\n",
    "    sns.scatterplot(ax=axs[1,1], x=dataframe['ConvenienceStoresCount'], y=dataframe['HousePricePerUnitArea'], \n",
    "                    label=\"%.3f\" % dataframe[['ConvenienceStoresCount', 'HousePricePerUnitArea']].corr().to_numpy()[0,1])\n",
    "    sns.scatterplot(ax=axs[2,0], x=dataframe['Latitude'], y=dataframe['HousePricePerUnitArea'], \n",
    "                    label=\"%.3f\" % dataframe[['Latitude', 'HousePricePerUnitArea']].corr().to_numpy()[0,1])\n",
    "    sns.scatterplot(ax=axs[2,1], x=dataframe['Longitude'], y=dataframe['HousePricePerUnitArea'], \n",
    "                    label=\"%.3f\" % dataframe[['Longitude', 'HousePricePerUnitArea']].corr().to_numpy()[0,1])\n",
    "    sns.boxplot(ax=axs[3,0], x=dataframe['HousePricePerUnitArea'])\n",
    "    axs[3,1].axis('off')\n",
    "    plt.subplots_adjust(hspace=0.5, wspace=0.25)"
   ]
  },
  {
   "cell_type": "markdown",
   "id": "db629a6b",
   "metadata": {},
   "source": [
    "In regression problems, presence of outliers can influence the regression line and also the Pearson correlation, therefore preprocessing should be carried out to remove/clamp the outliers on a case-to-case basis. From the plots above, we see that the observation with `HousePricePerUnitArea` > 120 seems to be an outlier for all the features. Therefore, let's drop the observation for the time being and compute the correlation."
   ]
  },
  {
   "cell_type": "code",
   "execution_count": 5,
   "id": "7c7524b1",
   "metadata": {},
   "outputs": [
    {
     "data": {
      "text/html": [
       "<div>\n",
       "<style scoped>\n",
       "    .dataframe tbody tr th:only-of-type {\n",
       "        vertical-align: middle;\n",
       "    }\n",
       "\n",
       "    .dataframe tbody tr th {\n",
       "        vertical-align: top;\n",
       "    }\n",
       "\n",
       "    .dataframe thead th {\n",
       "        text-align: right;\n",
       "    }\n",
       "</style>\n",
       "<table border=\"1\" class=\"dataframe\">\n",
       "  <thead>\n",
       "    <tr style=\"text-align: right;\">\n",
       "      <th></th>\n",
       "      <th>TransactionDate</th>\n",
       "      <th>HouseAge</th>\n",
       "      <th>NearestMRTStationDistance</th>\n",
       "      <th>ConvenienceStoresCount</th>\n",
       "      <th>Latitude</th>\n",
       "      <th>Longitude</th>\n",
       "      <th>HousePricePerUnitArea</th>\n",
       "    </tr>\n",
       "  </thead>\n",
       "  <tbody>\n",
       "    <tr>\n",
       "      <th>TransactionDate</th>\n",
       "      <td>1.000000</td>\n",
       "      <td>0.018528</td>\n",
       "      <td>0.061988</td>\n",
       "      <td>0.011321</td>\n",
       "      <td>0.034373</td>\n",
       "      <td>-0.040805</td>\n",
       "      <td>0.081734</td>\n",
       "    </tr>\n",
       "    <tr>\n",
       "      <th>HouseAge</th>\n",
       "      <td>0.018528</td>\n",
       "      <td>1.000000</td>\n",
       "      <td>0.024676</td>\n",
       "      <td>0.048131</td>\n",
       "      <td>0.055119</td>\n",
       "      <td>-0.048822</td>\n",
       "      <td>-0.210985</td>\n",
       "    </tr>\n",
       "    <tr>\n",
       "      <th>NearestMRTStationDistance</th>\n",
       "      <td>0.061988</td>\n",
       "      <td>0.024676</td>\n",
       "      <td>1.000000</td>\n",
       "      <td>-0.605328</td>\n",
       "      <td>-0.590805</td>\n",
       "      <td>-0.807079</td>\n",
       "      <td>-0.694009</td>\n",
       "    </tr>\n",
       "    <tr>\n",
       "      <th>ConvenienceStoresCount</th>\n",
       "      <td>0.011321</td>\n",
       "      <td>0.048131</td>\n",
       "      <td>-0.605328</td>\n",
       "      <td>1.000000</td>\n",
       "      <td>0.445994</td>\n",
       "      <td>0.449239</td>\n",
       "      <td>0.612635</td>\n",
       "    </tr>\n",
       "    <tr>\n",
       "      <th>Latitude</th>\n",
       "      <td>0.034373</td>\n",
       "      <td>0.055119</td>\n",
       "      <td>-0.590805</td>\n",
       "      <td>0.445994</td>\n",
       "      <td>1.000000</td>\n",
       "      <td>0.413249</td>\n",
       "      <td>0.563954</td>\n",
       "    </tr>\n",
       "    <tr>\n",
       "      <th>Longitude</th>\n",
       "      <td>-0.040805</td>\n",
       "      <td>-0.048822</td>\n",
       "      <td>-0.807079</td>\n",
       "      <td>0.449239</td>\n",
       "      <td>0.413249</td>\n",
       "      <td>1.000000</td>\n",
       "      <td>0.549250</td>\n",
       "    </tr>\n",
       "    <tr>\n",
       "      <th>HousePricePerUnitArea</th>\n",
       "      <td>0.081734</td>\n",
       "      <td>-0.210985</td>\n",
       "      <td>-0.694009</td>\n",
       "      <td>0.612635</td>\n",
       "      <td>0.563954</td>\n",
       "      <td>0.549250</td>\n",
       "      <td>1.000000</td>\n",
       "    </tr>\n",
       "  </tbody>\n",
       "</table>\n",
       "</div>"
      ],
      "text/plain": [
       "                           TransactionDate  HouseAge  \\\n",
       "TransactionDate                   1.000000  0.018528   \n",
       "HouseAge                          0.018528  1.000000   \n",
       "NearestMRTStationDistance         0.061988  0.024676   \n",
       "ConvenienceStoresCount            0.011321  0.048131   \n",
       "Latitude                          0.034373  0.055119   \n",
       "Longitude                        -0.040805 -0.048822   \n",
       "HousePricePerUnitArea             0.081734 -0.210985   \n",
       "\n",
       "                           NearestMRTStationDistance  ConvenienceStoresCount  \\\n",
       "TransactionDate                             0.061988                0.011321   \n",
       "HouseAge                                    0.024676                0.048131   \n",
       "NearestMRTStationDistance                   1.000000               -0.605328   \n",
       "ConvenienceStoresCount                     -0.605328                1.000000   \n",
       "Latitude                                   -0.590805                0.445994   \n",
       "Longitude                                  -0.807079                0.449239   \n",
       "HousePricePerUnitArea                      -0.694009                0.612635   \n",
       "\n",
       "                           Latitude  Longitude  HousePricePerUnitArea  \n",
       "TransactionDate            0.034373  -0.040805               0.081734  \n",
       "HouseAge                   0.055119  -0.048822              -0.210985  \n",
       "NearestMRTStationDistance -0.590805  -0.807079              -0.694009  \n",
       "ConvenienceStoresCount     0.445994   0.449239               0.612635  \n",
       "Latitude                   1.000000   0.413249               0.563954  \n",
       "Longitude                  0.413249   1.000000               0.549250  \n",
       "HousePricePerUnitArea      0.563954   0.549250               1.000000  "
      ]
     },
     "execution_count": 5,
     "metadata": {},
     "output_type": "execute_result"
    }
   ],
   "source": [
    "dataframe.drop(dataframe[dataframe['HousePricePerUnitArea'] > 100].index, inplace=True)\n",
    "dataframe.corr()"
   ]
  },
  {
   "cell_type": "markdown",
   "id": "facf22d8",
   "metadata": {},
   "source": [
    "The correlation values have changed from what we had seen on the graphs above after dropping the observation which was an outlier. "
   ]
  },
  {
   "cell_type": "markdown",
   "id": "98d80c49",
   "metadata": {},
   "source": [
    "<a id=SLR></a>\n",
    "### Part A: Simple Linear Regression"
   ]
  },
  {
   "cell_type": "code",
   "execution_count": 6,
   "id": "52e71cca",
   "metadata": {},
   "outputs": [],
   "source": [
    "X, y = dataframe[['ConvenienceStoresCount']], dataframe['HousePricePerUnitArea']\n",
    "X_train, X_test, y_train, y_test = train_test_split(X, y, random_state=1)"
   ]
  },
  {
   "cell_type": "code",
   "execution_count": 7,
   "id": "8763c689",
   "metadata": {},
   "outputs": [],
   "source": [
    "scaler = StandardScaler()\n",
    "X_train_scaled = scaler.fit_transform(X_train)\n",
    "X_test_scaled = scaler.transform(X_test)"
   ]
  },
  {
   "cell_type": "code",
   "execution_count": 8,
   "id": "5d9d79e0",
   "metadata": {},
   "outputs": [],
   "source": [
    "#https://scikit-learn.org/stable/modules/generated/sklearn.linear_model.LinearRegression.html\n",
    "regressor = LinearRegression().fit(X_train_scaled, y_train)"
   ]
  },
  {
   "cell_type": "code",
   "execution_count": 9,
   "id": "3f06dc4e",
   "metadata": {},
   "outputs": [
    {
     "name": "stdout",
     "output_type": "stream",
     "text": [
      "Features:  ConvenienceStoresCount\n",
      "\n",
      "Coeficients:  [8.08873741]\n",
      "\n",
      "Intercept:  37.78187702265373\n"
     ]
    }
   ],
   "source": [
    "# Print the estimated linear regression coefficients.\n",
    "print(\"Features: \", 'ConvenienceStoresCount')\n",
    "print(\"\\nCoeficients: \", regressor.coef_)\n",
    "print(\"\\nIntercept: \", regressor.intercept_)"
   ]
  },
  {
   "cell_type": "code",
   "execution_count": 10,
   "id": "4a2e5433",
   "metadata": {},
   "outputs": [
    {
     "data": {
      "text/html": [
       "<div>\n",
       "<style scoped>\n",
       "    .dataframe tbody tr th:only-of-type {\n",
       "        vertical-align: middle;\n",
       "    }\n",
       "\n",
       "    .dataframe tbody tr th {\n",
       "        vertical-align: top;\n",
       "    }\n",
       "\n",
       "    .dataframe thead th {\n",
       "        text-align: right;\n",
       "    }\n",
       "</style>\n",
       "<table border=\"1\" class=\"dataframe\">\n",
       "  <thead>\n",
       "    <tr style=\"text-align: right;\">\n",
       "      <th></th>\n",
       "      <th>HousePricePerUnitArea</th>\n",
       "      <th>Predicted</th>\n",
       "    </tr>\n",
       "    <tr>\n",
       "      <th>No</th>\n",
       "      <th></th>\n",
       "      <th></th>\n",
       "    </tr>\n",
       "  </thead>\n",
       "  <tbody>\n",
       "    <tr>\n",
       "      <th>202</th>\n",
       "      <td>45.9</td>\n",
       "      <td>40.479281</td>\n",
       "    </tr>\n",
       "    <tr>\n",
       "      <th>30</th>\n",
       "      <td>57.1</td>\n",
       "      <td>40.479281</td>\n",
       "    </tr>\n",
       "    <tr>\n",
       "      <th>103</th>\n",
       "      <td>54.4</td>\n",
       "      <td>43.266900</td>\n",
       "    </tr>\n",
       "    <tr>\n",
       "      <th>409</th>\n",
       "      <td>28.1</td>\n",
       "      <td>34.904044</td>\n",
       "    </tr>\n",
       "    <tr>\n",
       "      <th>187</th>\n",
       "      <td>25.7</td>\n",
       "      <td>34.904044</td>\n",
       "    </tr>\n",
       "    <tr>\n",
       "      <th>223</th>\n",
       "      <td>48.5</td>\n",
       "      <td>54.417374</td>\n",
       "    </tr>\n",
       "    <tr>\n",
       "      <th>243</th>\n",
       "      <td>33.4</td>\n",
       "      <td>34.904044</td>\n",
       "    </tr>\n",
       "    <tr>\n",
       "      <th>293</th>\n",
       "      <td>24.5</td>\n",
       "      <td>40.479281</td>\n",
       "    </tr>\n",
       "    <tr>\n",
       "      <th>172</th>\n",
       "      <td>58.8</td>\n",
       "      <td>40.479281</td>\n",
       "    </tr>\n",
       "    <tr>\n",
       "      <th>214</th>\n",
       "      <td>58.0</td>\n",
       "      <td>51.629755</td>\n",
       "    </tr>\n",
       "  </tbody>\n",
       "</table>\n",
       "</div>"
      ],
      "text/plain": [
       "     HousePricePerUnitArea  Predicted\n",
       "No                                   \n",
       "202                   45.9  40.479281\n",
       "30                    57.1  40.479281\n",
       "103                   54.4  43.266900\n",
       "409                   28.1  34.904044\n",
       "187                   25.7  34.904044\n",
       "223                   48.5  54.417374\n",
       "243                   33.4  34.904044\n",
       "293                   24.5  40.479281\n",
       "172                   58.8  40.479281\n",
       "214                   58.0  51.629755"
      ]
     },
     "execution_count": 10,
     "metadata": {},
     "output_type": "execute_result"
    }
   ],
   "source": [
    "# Predicted scores for each example. \n",
    "y_predicted = regressor.predict(X_test_scaled)\n",
    "\n",
    "actual_vs_predicted = pd.concat([y_test, pd.DataFrame(y_predicted, columns=['Predicted'], index=y_test.index)], axis=1)\n",
    "actual_vs_predicted.head(10)"
   ]
  },
  {
   "cell_type": "markdown",
   "id": "7db723b4",
   "metadata": {},
   "source": [
    "Some of the predictions are the same. This is because the `ConvenienceStoresCount` can have the same value for multiple houses, the regressor that learns to predict the price of the house based on this feature only does not learn much. "
   ]
  },
  {
   "cell_type": "code",
   "execution_count": 11,
   "id": "f564e4db",
   "metadata": {},
   "outputs": [],
   "source": [
    "#This function is used repeatedly to compute all metrics\n",
    "def printMetrics(testActualVal, predictions, number_of_features=1):\n",
    "    #classification evaluation measures\n",
    "    print(\"MAE: \", metrics.mean_absolute_error(testActualVal, predictions))\n",
    "    print(\"MAPE: \", metrics.mean_absolute_percentage_error(testActualVal, predictions)* 100)\n",
    "    print(\"RMSE: \", metrics.mean_squared_error(testActualVal, predictions)**0.5)\n",
    "    print(\"Adjusted R2: \", 1 - ( 1-metrics.r2_score(testActualVal, predictions)) * ( len(predictions) - 1 ) / ( len(predictions) - number_of_features - 1 )) "
   ]
  },
  {
   "cell_type": "code",
   "execution_count": 12,
   "id": "487df603",
   "metadata": {
    "scrolled": true
   },
   "outputs": [
    {
     "name": "stdout",
     "output_type": "stream",
     "text": [
      "MAE:  8.548648699723874\n",
      "MAPE:  26.839176572860072\n",
      "RMSE:  10.590763187967397\n",
      "Adjusted R2:  0.335712283918135\n"
     ]
    }
   ],
   "source": [
    "printMetrics(y_test, y_predicted)"
   ]
  },
  {
   "cell_type": "code",
   "execution_count": 13,
   "id": "9287cc61",
   "metadata": {},
   "outputs": [
    {
     "data": {
      "image/png": "[encoded data removed]",
      "text/plain": [
       "<Figure size 432x288 with 1 Axes>"
      ]
     },
     "metadata": {
      "needs_background": "light"
     },
     "output_type": "display_data"
    }
   ],
   "source": [
    "with plt.rc_context({'xtick.labelsize':12, 'ytick.labelsize':12, 'axes.labelsize':14}):\n",
    "    ax = sns.regplot(x=y_test, y=y_predicted);\n",
    "    ax.set(ylabel='Predicted values', xlabel='True values');"
   ]
  },
  {
   "cell_type": "markdown",
   "id": "f145e1bc",
   "metadata": {},
   "source": [
    "For `ConvenienceStoresCount`, we see that the different evaluation metrics are quite high and R2 which is the coefficient of determination is quite low. So, let's include other features in the model and evaluate if the model's performance improves."
   ]
  },
  {
   "cell_type": "markdown",
   "id": "cf07b9a2",
   "metadata": {},
   "source": [
    "<a id=MLR></a>\n",
    "### Part B: Multilinear Regression"
   ]
  },
  {
   "cell_type": "code",
   "execution_count": 14,
   "id": "d7809c2f",
   "metadata": {},
   "outputs": [],
   "source": [
    "#Excluding the 'TransactionDate as it doesn't add much value to the data\n",
    "X = dataframe[['HouseAge', 'NearestMRTStationDistance','ConvenienceStoresCount','Latitude','Longitude']]\n",
    "y = dataframe['HousePricePerUnitArea']\n",
    "X_train, X_test, y_train, y_test = train_test_split(X, y, random_state=1)"
   ]
  },
  {
   "cell_type": "code",
   "execution_count": 15,
   "id": "a2b13499",
   "metadata": {},
   "outputs": [],
   "source": [
    "scaler = StandardScaler()\n",
    "X_train_scaled = scaler.fit_transform(X_train)\n",
    "X_test_scaled = scaler.transform(X_test)"
   ]
  },
  {
   "cell_type": "code",
   "execution_count": 16,
   "id": "1aa5b19b",
   "metadata": {},
   "outputs": [],
   "source": [
    "#https://scikit-learn.org/stable/modules/generated/sklearn.linear_model.LinearRegression.html\n",
    "regressor = LinearRegression().fit(X_train_scaled, y_train)"
   ]
  },
  {
   "cell_type": "code",
   "execution_count": 17,
   "id": "30c36b58",
   "metadata": {},
   "outputs": [
    {
     "name": "stdout",
     "output_type": "stream",
     "text": [
      "\n",
      "Coeficients:  [-2.47597231 -4.3424933   3.93240799  3.0634214   0.43521353]\n",
      "\n",
      "Intercept:  37.781877022653596\n"
     ]
    }
   ],
   "source": [
    "# Print the estimated linear regression coefficients.\n",
    "print(\"\\nCoeficients: \", regressor.coef_)\n",
    "print(\"\\nIntercept: \", regressor.intercept_)"
   ]
  },
  {
   "cell_type": "code",
   "execution_count": 18,
   "id": "36445230",
   "metadata": {},
   "outputs": [
    {
     "data": {
      "text/html": [
       "<div>\n",
       "<style scoped>\n",
       "    .dataframe tbody tr th:only-of-type {\n",
       "        vertical-align: middle;\n",
       "    }\n",
       "\n",
       "    .dataframe tbody tr th {\n",
       "        vertical-align: top;\n",
       "    }\n",
       "\n",
       "    .dataframe thead th {\n",
       "        text-align: right;\n",
       "    }\n",
       "</style>\n",
       "<table border=\"1\" class=\"dataframe\">\n",
       "  <thead>\n",
       "    <tr style=\"text-align: right;\">\n",
       "      <th></th>\n",
       "      <th>HousePricePerUnitArea</th>\n",
       "      <th>Predicted</th>\n",
       "    </tr>\n",
       "    <tr>\n",
       "      <th>No</th>\n",
       "      <th></th>\n",
       "      <th></th>\n",
       "    </tr>\n",
       "  </thead>\n",
       "  <tbody>\n",
       "    <tr>\n",
       "      <th>202</th>\n",
       "      <td>45.9</td>\n",
       "      <td>46.676195</td>\n",
       "    </tr>\n",
       "    <tr>\n",
       "      <th>30</th>\n",
       "      <td>57.1</td>\n",
       "      <td>45.581331</td>\n",
       "    </tr>\n",
       "    <tr>\n",
       "      <th>103</th>\n",
       "      <td>54.4</td>\n",
       "      <td>46.544445</td>\n",
       "    </tr>\n",
       "    <tr>\n",
       "      <th>409</th>\n",
       "      <td>28.1</td>\n",
       "      <td>30.631523</td>\n",
       "    </tr>\n",
       "    <tr>\n",
       "      <th>187</th>\n",
       "      <td>25.7</td>\n",
       "      <td>30.057431</td>\n",
       "    </tr>\n",
       "    <tr>\n",
       "      <th>223</th>\n",
       "      <td>48.5</td>\n",
       "      <td>48.405837</td>\n",
       "    </tr>\n",
       "    <tr>\n",
       "      <th>243</th>\n",
       "      <td>33.4</td>\n",
       "      <td>34.637495</td>\n",
       "    </tr>\n",
       "    <tr>\n",
       "      <th>293</th>\n",
       "      <td>24.5</td>\n",
       "      <td>38.585089</td>\n",
       "    </tr>\n",
       "    <tr>\n",
       "      <th>172</th>\n",
       "      <td>58.8</td>\n",
       "      <td>47.744888</td>\n",
       "    </tr>\n",
       "    <tr>\n",
       "      <th>214</th>\n",
       "      <td>58.0</td>\n",
       "      <td>51.993640</td>\n",
       "    </tr>\n",
       "  </tbody>\n",
       "</table>\n",
       "</div>"
      ],
      "text/plain": [
       "     HousePricePerUnitArea  Predicted\n",
       "No                                   \n",
       "202                   45.9  46.676195\n",
       "30                    57.1  45.581331\n",
       "103                   54.4  46.544445\n",
       "409                   28.1  30.631523\n",
       "187                   25.7  30.057431\n",
       "223                   48.5  48.405837\n",
       "243                   33.4  34.637495\n",
       "293                   24.5  38.585089\n",
       "172                   58.8  47.744888\n",
       "214                   58.0  51.993640"
      ]
     },
     "execution_count": 18,
     "metadata": {},
     "output_type": "execute_result"
    }
   ],
   "source": [
    "# Predicted scores for each example. \n",
    "y_predicted = regressor.predict(X_test_scaled)\n",
    "\n",
    "#print(\"Predicted scores:\", predicted_scores)\n",
    "actual_vs_predicted = pd.concat([y_test, pd.DataFrame(y_predicted, columns=['Predicted'], index=y_test.index)], axis=1)\n",
    "actual_vs_predicted.head(10)"
   ]
  },
  {
   "cell_type": "code",
   "execution_count": 19,
   "id": "7e2d7e35",
   "metadata": {},
   "outputs": [
    {
     "name": "stdout",
     "output_type": "stream",
     "text": [
      "MAE:  5.751866720348405\n",
      "MAPE:  17.333729904591003\n",
      "RMSE:  7.61208661488868\n",
      "Adjusted R2:  0.6428231968689972\n"
     ]
    }
   ],
   "source": [
    "printMetrics(y_test, y_predicted, number_of_features=5)"
   ]
  },
  {
   "cell_type": "markdown",
   "id": "9b3fa797",
   "metadata": {},
   "source": [
    "Although the mean squared errors are still > 0, we can observe that adjusted R2 has improved from ~33% to ~64%. This implies that ~64% of the variation in the `HousePricePerUnitArea` can be explained by the features considered in the model. "
   ]
  },
  {
   "cell_type": "markdown",
   "id": "3eef6fb4",
   "metadata": {},
   "source": [
    "<a id=SGDR></a>\n",
    "### Part C: Stochastic Gradient Descent Regressor"
   ]
  },
  {
   "cell_type": "code",
   "execution_count": 20,
   "id": "46e7d333",
   "metadata": {},
   "outputs": [],
   "source": [
    "# https://scikit-learn.org/stable/modules/generated/sklearn.linear_model.SGDRegressor.html\n",
    "from sklearn.linear_model import SGDRegressor\n",
    "sgd_regressor = SGDRegressor(max_iter=50, tol=1e-3, random_state=42).fit(X_train_scaled, y_train)"
   ]
  },
  {
   "cell_type": "code",
   "execution_count": 21,
   "id": "b1fe80e2",
   "metadata": {},
   "outputs": [
    {
     "name": "stdout",
     "output_type": "stream",
     "text": [
      "\n",
      "Coeficients:  [-2.48359516 -4.03486931  3.95394297  3.0807514   0.60477434]\n",
      "\n",
      "Intercept:  [37.75829866]\n"
     ]
    }
   ],
   "source": [
    "# Print the estimated linear regression coefficients.\n",
    "print(\"\\nCoeficients: \", sgd_regressor.coef_)\n",
    "print(\"\\nIntercept: \", sgd_regressor.intercept_)"
   ]
  },
  {
   "cell_type": "code",
   "execution_count": 22,
   "id": "4eb5e5a0",
   "metadata": {},
   "outputs": [
    {
     "data": {
      "text/html": [
       "<div>\n",
       "<style scoped>\n",
       "    .dataframe tbody tr th:only-of-type {\n",
       "        vertical-align: middle;\n",
       "    }\n",
       "\n",
       "    .dataframe tbody tr th {\n",
       "        vertical-align: top;\n",
       "    }\n",
       "\n",
       "    .dataframe thead th {\n",
       "        text-align: right;\n",
       "    }\n",
       "</style>\n",
       "<table border=\"1\" class=\"dataframe\">\n",
       "  <thead>\n",
       "    <tr style=\"text-align: right;\">\n",
       "      <th></th>\n",
       "      <th>HousePricePerUnitArea</th>\n",
       "      <th>Predicted</th>\n",
       "    </tr>\n",
       "    <tr>\n",
       "      <th>No</th>\n",
       "      <th></th>\n",
       "      <th></th>\n",
       "    </tr>\n",
       "  </thead>\n",
       "  <tbody>\n",
       "    <tr>\n",
       "      <th>202</th>\n",
       "      <td>45.9</td>\n",
       "      <td>46.672339</td>\n",
       "    </tr>\n",
       "    <tr>\n",
       "      <th>30</th>\n",
       "      <td>57.1</td>\n",
       "      <td>45.571909</td>\n",
       "    </tr>\n",
       "    <tr>\n",
       "      <th>103</th>\n",
       "      <td>54.4</td>\n",
       "      <td>46.405323</td>\n",
       "    </tr>\n",
       "    <tr>\n",
       "      <th>409</th>\n",
       "      <td>28.1</td>\n",
       "      <td>30.618536</td>\n",
       "    </tr>\n",
       "    <tr>\n",
       "      <th>187</th>\n",
       "      <td>25.7</td>\n",
       "      <td>30.044317</td>\n",
       "    </tr>\n",
       "    <tr>\n",
       "      <th>223</th>\n",
       "      <td>48.5</td>\n",
       "      <td>48.316903</td>\n",
       "    </tr>\n",
       "    <tr>\n",
       "      <th>243</th>\n",
       "      <td>33.4</td>\n",
       "      <td>34.621786</td>\n",
       "    </tr>\n",
       "    <tr>\n",
       "      <th>293</th>\n",
       "      <td>24.5</td>\n",
       "      <td>38.388466</td>\n",
       "    </tr>\n",
       "    <tr>\n",
       "      <th>172</th>\n",
       "      <td>58.8</td>\n",
       "      <td>47.695781</td>\n",
       "    </tr>\n",
       "    <tr>\n",
       "      <th>214</th>\n",
       "      <td>58.0</td>\n",
       "      <td>51.884605</td>\n",
       "    </tr>\n",
       "  </tbody>\n",
       "</table>\n",
       "</div>"
      ],
      "text/plain": [
       "     HousePricePerUnitArea  Predicted\n",
       "No                                   \n",
       "202                   45.9  46.672339\n",
       "30                    57.1  45.571909\n",
       "103                   54.4  46.405323\n",
       "409                   28.1  30.618536\n",
       "187                   25.7  30.044317\n",
       "223                   48.5  48.316903\n",
       "243                   33.4  34.621786\n",
       "293                   24.5  38.388466\n",
       "172                   58.8  47.695781\n",
       "214                   58.0  51.884605"
      ]
     },
     "execution_count": 22,
     "metadata": {},
     "output_type": "execute_result"
    }
   ],
   "source": [
    "# Predicted scores for each example. \n",
    "y_predicted = sgd_regressor.predict(X_test_scaled)\n",
    "\n",
    "#print(\"Predicted scores:\", predicted_scores)\n",
    "actual_vs_predicted = pd.concat([y_test, pd.DataFrame(y_predicted, columns=['Predicted'], index=y_test.index)], axis=1)\n",
    "actual_vs_predicted.head(10)"
   ]
  },
  {
   "cell_type": "code",
   "execution_count": 23,
   "id": "2ab26a1a",
   "metadata": {},
   "outputs": [
    {
     "name": "stdout",
     "output_type": "stream",
     "text": [
      "MAE:  5.76766406166962\n",
      "MAPE:  17.33773820192752\n",
      "RMSE:  7.628200859052726\n",
      "Adjusted R2:  0.6413093606134895\n"
     ]
    }
   ],
   "source": [
    "printMetrics(y_test, y_predicted, number_of_features=5)"
   ]
  },
  {
   "cell_type": "markdown",
   "id": "c11e83ba",
   "metadata": {},
   "source": [
    "### Additional Reading: \n",
    "\n",
    "1. [Introduction to Regression](https://www.joshuapkeller.com/page/introregression/slr.html) specifies the assumptions of regression and also provides the interpretation of the parameters estimated using regression. \n",
    "2. [Linear regression in Python](http://www.dataschool.io/linear-regression-in-python/) is a very well written notebook that contains many useful details and gives pointers to further reading. "
   ]
  }
 ],
 "metadata": {
  "kernelspec": {
   "display_name": "Python 3 (ipykernel)",
   "language": "python",
   "name": "python3"
  },
  "language_info": {
   "codemirror_mode": {
    "name": "ipython",
    "version": 3
   },
   "file_extension": ".py",
   "mimetype": "text/x-python",
   "name": "python",
   "nbconvert_exporter": "python",
   "pygments_lexer": "ipython3",
   "version": "3.8.12"
  }
 },
 "nbformat": 4,
 "nbformat_minor": 5
}
